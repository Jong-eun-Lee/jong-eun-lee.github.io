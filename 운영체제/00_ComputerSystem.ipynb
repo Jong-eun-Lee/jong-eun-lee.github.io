{
 "metadata": {
  "language_info": {
   "codemirror_mode": {
    "name": "ipython",
    "version": 3
   },
   "file_extension": ".py",
   "mimetype": "text/x-python",
   "name": "python",
   "nbconvert_exporter": "python",
   "pygments_lexer": "ipython3",
   "version": "3.8.5-final"
  },
  "orig_nbformat": 2,
  "kernelspec": {
   "name": "python3",
   "display_name": "Python 3",
   "language": "python"
  }
 },
 "nbformat": 4,
 "nbformat_minor": 2,
 "cells": [
  {
   "source": [
    "# 00. Computer System\n",
    "작성자: 이종은\n",
    "\n",
    "---\n",
    "\n",
    "운영체제(OS)는 컴퓨터 시스템 자원(HW) 등을 효율적으로 관리하는 역할을 갖고 있으며 사용자, 응용 프로그램 등에 서비스를 제공한다.\n",
    "\n",
    "## 1. 컴퓨터 하드웨어\n",
    "- 프로세서(Processor) - CPU, GPU, 응용 전용 처리장치 등\n",
    "- 메모리(Memory) - 주 기억장치, 보조 기억장치 등\n",
    "- 주변 장치 - 키보드/마우스, 모니터, 프린터, 네트워크 모뎀 등\n",
    "\n",
    "### 1.1. 프로세서\n",
    "컴퓨터의 두뇌(중앙처리장치)\n",
    "- 연산 수행\n",
    "- 컴퓨터의 모든 장치의 동작 제어\n",
    "\n",
    "CPU consists of 연산장치, 제어장치, 레지스터\n",
    "\n",
    "#### 1.1.1. 레지스터\n",
    "- 프로세서 '내부'에 있는 메모리\n",
    "    - 프로세스가 사용할 데이터 저장\n",
    "    - 컴퓨터에서 가장 빠른 메모리   \n",
    "    \n",
    "- 레지스터의 종류\n",
    "    - 용도에 따른 분류\n",
    "        - 전용 레지스터, 범용 레지스터\n",
    "    - 사용자가 정보 변경 가능 여부에 따른 분류\n",
    "        - 사용자 가시 레지스터, 사용자 불가시 레지스터\n",
    "    - 저장하는 정보의 종류에 따른 분류\n",
    "        - 데이터 레지스터, 주소 레지스터, 상태 레지스터\n",
    "\n",
    "> 사용자 가시 레지스터\n",
    ">> 데이터 레지스터\n",
    ">>> 값, 문자 등 함수 연산에 필요한 데이터를 저장. 산술 연산이나 논리 연산에 사용하고 연산 결과로 플래그 값 저장.\n",
    "\n",
    ">> 주소 레지스터(주소나 유효주소를 계산하는 데 필요한 주소의 일부분 저장. 주소 레지스터에 저장한 값 데이터를 사용하여 산술 연산 가능)\n",
    ">>> 1. 기준 주소 레지스터 2. 인덱스 레지스터 3. 스택 포인터 레지스터\n"
   ],
   "cell_type": "markdown",
   "metadata": {}
  }
 ]
}