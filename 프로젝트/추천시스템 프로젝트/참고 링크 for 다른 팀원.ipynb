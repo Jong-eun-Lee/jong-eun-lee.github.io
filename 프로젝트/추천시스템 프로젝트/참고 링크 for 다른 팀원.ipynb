{
 "cells": [
  {
   "attachments": {},
   "cell_type": "markdown",
   "metadata": {},
   "source": [
    "[콘텐츠, 협업 필터링 한계와 하이브리드](https://brunch.co.kr/@biginsight/15)\n",
    "\n",
    "[MAE](https://en.wikipedia.org/wiki/Mean_absolute_error)\n",
    "\n",
    "[메모리 기반, 모델 기반, 하이브리드 기반](https://m.blog.naver.com/PostView.nhn?blogId=mmwook94&logNo=221528382277&proxyReferer=https:%2F%2Fwww.google.com%2F)\n",
    "\n",
    "[코세라 추천시스템 강의](https://www.coursera.org/specializations/recommender-systems)\n",
    "\n",
    "[추천시스템 성능 평가](https://velog.io/@jinseock95/%EB%85%BC%EB%AC%B8%EC%B6%94%EC%B2%9C-%EC%8B%9C%EC%8A%A4%ED%85%9C-%EA%B8%B0%EB%B2%95-%EC%97%B0%EA%B5%AC%EB%8F%99%ED%96%A5-%EB%B6%84%EC%84%9D2015-%EC%86%90%EC%A7%80%EC%9D%80-%EC%99%B8-4%EB%AA%85)\n",
    "\n",
    "[추천시스템 평가 지표](https://ita9naiwa.github.io/recommender%20systems/2018/07/22/Recys-Diversity-and-Metrics.html)\n",
    "\n",
    "[추천시스템 평가](https://data-science-hi.tistory.com/71)\n",
    "\n",
    "[행렬 분해](https://hipster4020.tistory.com/115)\n",
    "\n",
    "[Matrix Factorization](https://yamalab.tistory.com/89)\n",
    "\n",
    "---\n",
    "[SVD, PCA, LSA](https://ratsgo.github.io/from%20frequency%20to%20semantics/2017/04/06/pcasvdlsa/)\n",
    "\n",
    "[PCA](http://matrix.skku.ac.kr/math4ai/PCA/)\n",
    "\n",
    "https://www.slideshare.net/madvirus/pca-svd\n",
    "https://yamalab.tistory.com/69"
   ]
  }
 ],
 "metadata": {
  "kernelspec": {
   "display_name": "Python 3",
   "language": "python",
   "name": "python3"
  },
  "language_info": {
   "codemirror_mode": {
    "name": "ipython",
    "version": 3
   },
   "file_extension": ".py",
   "mimetype": "text/x-python",
   "name": "python",
   "nbconvert_exporter": "python",
   "pygments_lexer": "ipython3",
   "version": "3.8.5"
  }
 },
 "nbformat": 4,
 "nbformat_minor": 4
}
