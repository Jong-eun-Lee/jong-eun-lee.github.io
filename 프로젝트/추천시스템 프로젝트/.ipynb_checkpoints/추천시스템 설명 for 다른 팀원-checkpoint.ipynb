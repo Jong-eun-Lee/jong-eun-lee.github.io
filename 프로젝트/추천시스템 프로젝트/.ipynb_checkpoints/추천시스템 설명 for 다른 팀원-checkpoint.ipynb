{
 "cells": [
  {
   "cell_type": "markdown",
   "metadata": {},
   "source": [
    "# 추천시스템 설명\n",
    "\n",
    "---\n",
    "\n",
    "작성자: 이종은\n",
    "\n",
    "작성일: 2021-03-08\n",
    "\n",
    "목적: 다른 팀원들에게 추천시스템을 설명하고자"
   ]
  },
  {
   "cell_type": "markdown",
   "metadata": {},
   "source": [
    "문제: 한정된 시간, 많은 상품 or 콘텐츠 -> 사용자의 선택에 대한 어려움 or 압박감\n",
    "\n",
    "해결 방안: 추천시스템\n",
    "\n",
    "팀이 발견한 문제점: 코로나 사태로 인한 지속된 언택트 환경 속에서 집에서 홈 트레이닝은 하고 싶은데 어떻게 할지, 뭘할지 모름\n",
    "\n",
    "해결 방안: 우리 프로젝트의 추천시스템\n"
   ]
  },
  {
   "cell_type": "markdown",
   "metadata": {},
   "source": [
    "### 추천시스템에서 활용하는 데이터\n",
    "1. 실제 구매 내역, 이용 내역\n",
    "2. 구경(browse) 내역, 장바구니 내역\n",
    "3. 평가, 평점 데이터\n",
    "4. 무엇을 클릭했는지\n",
    "5. 사용자가 직접 작성한 데이터(취향, 상태, 선호)\n",
    "\n",
    "우리 프로젝트의 경우엔 5번 -> 근력 운동을 할지, 요가나 필라테스나 할지 or 도구가 있는지, 없는지 or ... "
   ]
  },
  {
   "cell_type": "markdown",
   "metadata": {},
   "source": [
    "## 추천시스템의 유형\n",
    "\n",
    "- 콘텐츠 기반 필터링(Content Based Filtering)\n",
    "- 협업 필터링(Collaborative Filtering)\n",
    "    - 최근접 이웃 협업 필터링(Nearest Neighbor Collaborative Filtering)\n",
    "        - 사용자 기반(성능이 만족스럽지 못 하다는 견해 있음)\n",
    "        - 아이템 기반(사용자 기반보다 더 많이 사용됨)\n",
    "    - 잠재 요인 협업 필터링(Latent Factor Collaborative Filtering) \n",
    "\n",
    "잠재 요인 협업 필터링 -> 행렬 분해 기법 사용. 최근 증가 추세 after 넷플릭스 추천시스템 경연대회\n",
    "개인화 특성을 강화하기 위해 콘텐츠 기반과 협업을 적절히 결합하기도"
   ]
  },
  {
   "cell_type": "markdown",
   "metadata": {},
   "source": [
    "### 콘텐츠 기반 필터링\n",
    "\n",
    "사용자가 특정 아이템 선호(높은 평점 준다든지) -> 해당 아이템과 비슷한 콘텐츠 가진 다른 아이템 추천\n",
    "\n",
    "아이템을 구성하는 여러 가지 콘텐츠들 중 사용자가 좋아하는 콘텐츠를 필터링해 다른 아이템 추천\n",
    "\n",
    "아이템의 여러 콘텐츠들을 결합하여 하나의 콘텐츠 특징으로 피처 벡터화한 뒤 이들 피처 벡터와 가장 유사한 다른 피처 벡터를 가진 영화를 추천\n",
    "\n",
    "콘텐츠들? -> 영화를 예로 돌면 감독, 장르, 영화배우 같은 요소들"
   ]
  },
  {
   "cell_type": "markdown",
   "metadata": {},
   "source": [
    "### 협업 필터링\n",
    "\n",
    "축적된 사용자 행동 데이터를 기반으로 사용자가 아직 평가하지 않은 아이템을 예측 평가\n",
    "\n",
    "사용자-아이템 평점 행렬 데이터 등에 의지해 추천 수행(우리 프로젝트의 사용자는 초기에 이러한 추천이 불가할 것. 데이터가 초기에 없어서.)\n",
    "\n",
    "데이터 전처리 시 데이터를 행렬 데이터로 변환하는 게 필요 by pandas의 pivot_table()\n",
    "\n",
    "(행은 개별 사용자, 열은 개별 아이템)\n",
    "\n",
    "#### 최근접 이웃 협업 필터링(Memory 협업 필터링)\n"
   ]
  }
 ],
 "metadata": {
  "kernelspec": {
   "display_name": "Python 3",
   "language": "python",
   "name": "python3"
  },
  "language_info": {
   "codemirror_mode": {
    "name": "ipython",
    "version": 3
   },
   "file_extension": ".py",
   "mimetype": "text/x-python",
   "name": "python",
   "nbconvert_exporter": "python",
   "pygments_lexer": "ipython3",
   "version": "3.8.5"
  }
 },
 "nbformat": 4,
 "nbformat_minor": 4
}
