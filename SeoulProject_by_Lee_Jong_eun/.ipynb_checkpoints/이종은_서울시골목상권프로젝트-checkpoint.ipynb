{
 "cells": [
  {
   "cell_type": "code",
   "execution_count": 105,
   "metadata": {},
   "outputs": [],
   "source": [
    "# 1차 전처리 시작(2020년_2분기_상권분석.csv 파일로 병합하기)\n",
    "# 수많은 record와 feature 들을 가진 7개 원시 데이터에서\n",
    "# 필요한 feature를 취하고, 파일을 병합하는 과정"
   ]
  },
  {
   "cell_type": "code",
   "execution_count": 106,
   "metadata": {},
   "outputs": [],
   "source": [
    "import pandas as pd\n",
    "market = pd.read_csv(\"C:/Users/user/Desktop/이종은프로젝트/서울시 우리마을가게 상권분석서비스(상권-상권변화지표).csv\")"
   ]
  },
  {
   "cell_type": "code",
   "execution_count": 107,
   "metadata": {},
   "outputs": [],
   "source": [
    "market=market.drop([\"서울_운영_영업_개월_평균\",\"서울_운영_영업_개월_평균\",\"서울_폐업_영업_개월_평균\"],axis=1)\n",
    "market=market[market[\"기준_년_코드\"]==2020]\n",
    "market=market[market[\"기준_분기_코드\"]==2]"
   ]
  },
  {
   "cell_type": "code",
   "execution_count": 108,
   "metadata": {},
   "outputs": [
    {
     "data": {
      "text/html": [
       "<div>\n",
       "<style scoped>\n",
       "    .dataframe tbody tr th:only-of-type {\n",
       "        vertical-align: middle;\n",
       "    }\n",
       "\n",
       "    .dataframe tbody tr th {\n",
       "        vertical-align: top;\n",
       "    }\n",
       "\n",
       "    .dataframe thead th {\n",
       "        text-align: right;\n",
       "    }\n",
       "</style>\n",
       "<table border=\"1\" class=\"dataframe\">\n",
       "  <thead>\n",
       "    <tr style=\"text-align: right;\">\n",
       "      <th></th>\n",
       "      <th>기준_년_코드</th>\n",
       "      <th>기준_분기_코드</th>\n",
       "      <th>상권_구분_코드</th>\n",
       "      <th>상권_구분_코드_명</th>\n",
       "      <th>상권_코드</th>\n",
       "      <th>상권_코드_명</th>\n",
       "      <th>상권_변화_지표</th>\n",
       "      <th>상권_변화_지표_명</th>\n",
       "      <th>운영_영업_개월_평균</th>\n",
       "      <th>폐업_영업_개월_평균</th>\n",
       "    </tr>\n",
       "  </thead>\n",
       "  <tbody>\n",
       "    <tr>\n",
       "      <th>0</th>\n",
       "      <td>2020</td>\n",
       "      <td>2</td>\n",
       "      <td>U</td>\n",
       "      <td>관광특구</td>\n",
       "      <td>1001496</td>\n",
       "      <td>강남 마이스 관광특구</td>\n",
       "      <td>HH</td>\n",
       "      <td>정체</td>\n",
       "      <td>120</td>\n",
       "      <td>62</td>\n",
       "    </tr>\n",
       "    <tr>\n",
       "      <th>1</th>\n",
       "      <td>2020</td>\n",
       "      <td>2</td>\n",
       "      <td>U</td>\n",
       "      <td>관광특구</td>\n",
       "      <td>1001495</td>\n",
       "      <td>잠실 관광특구</td>\n",
       "      <td>LL</td>\n",
       "      <td>다이나믹</td>\n",
       "      <td>104</td>\n",
       "      <td>53</td>\n",
       "    </tr>\n",
       "    <tr>\n",
       "      <th>2</th>\n",
       "      <td>2020</td>\n",
       "      <td>2</td>\n",
       "      <td>U</td>\n",
       "      <td>관광특구</td>\n",
       "      <td>1001494</td>\n",
       "      <td>종로?청계 관광특구</td>\n",
       "      <td>HH</td>\n",
       "      <td>정체</td>\n",
       "      <td>148</td>\n",
       "      <td>72</td>\n",
       "    </tr>\n",
       "    <tr>\n",
       "      <th>3</th>\n",
       "      <td>2020</td>\n",
       "      <td>2</td>\n",
       "      <td>U</td>\n",
       "      <td>관광특구</td>\n",
       "      <td>1001493</td>\n",
       "      <td>동대문패션타운 관광특구</td>\n",
       "      <td>HH</td>\n",
       "      <td>정체</td>\n",
       "      <td>122</td>\n",
       "      <td>61</td>\n",
       "    </tr>\n",
       "    <tr>\n",
       "      <th>4</th>\n",
       "      <td>2020</td>\n",
       "      <td>2</td>\n",
       "      <td>U</td>\n",
       "      <td>관광특구</td>\n",
       "      <td>1001492</td>\n",
       "      <td>명동 남대문 북창동 다동 무교동 관광특구</td>\n",
       "      <td>HH</td>\n",
       "      <td>정체</td>\n",
       "      <td>149</td>\n",
       "      <td>63</td>\n",
       "    </tr>\n",
       "    <tr>\n",
       "      <th>...</th>\n",
       "      <td>...</td>\n",
       "      <td>...</td>\n",
       "      <td>...</td>\n",
       "      <td>...</td>\n",
       "      <td>...</td>\n",
       "      <td>...</td>\n",
       "      <td>...</td>\n",
       "      <td>...</td>\n",
       "      <td>...</td>\n",
       "      <td>...</td>\n",
       "    </tr>\n",
       "    <tr>\n",
       "      <th>1491</th>\n",
       "      <td>2020</td>\n",
       "      <td>2</td>\n",
       "      <td>A</td>\n",
       "      <td>골목상권</td>\n",
       "      <td>1000005</td>\n",
       "      <td>백석동길</td>\n",
       "      <td>LL</td>\n",
       "      <td>다이나믹</td>\n",
       "      <td>90</td>\n",
       "      <td>50</td>\n",
       "    </tr>\n",
       "    <tr>\n",
       "      <th>1492</th>\n",
       "      <td>2020</td>\n",
       "      <td>2</td>\n",
       "      <td>A</td>\n",
       "      <td>골목상권</td>\n",
       "      <td>1000004</td>\n",
       "      <td>명륜길</td>\n",
       "      <td>LH</td>\n",
       "      <td>상권확장</td>\n",
       "      <td>83</td>\n",
       "      <td>57</td>\n",
       "    </tr>\n",
       "    <tr>\n",
       "      <th>1493</th>\n",
       "      <td>2020</td>\n",
       "      <td>2</td>\n",
       "      <td>A</td>\n",
       "      <td>골목상권</td>\n",
       "      <td>1000003</td>\n",
       "      <td>돈화문로11가길</td>\n",
       "      <td>HH</td>\n",
       "      <td>정체</td>\n",
       "      <td>114</td>\n",
       "      <td>60</td>\n",
       "    </tr>\n",
       "    <tr>\n",
       "      <th>1494</th>\n",
       "      <td>2020</td>\n",
       "      <td>2</td>\n",
       "      <td>A</td>\n",
       "      <td>골목상권</td>\n",
       "      <td>1000002</td>\n",
       "      <td>난계로27길</td>\n",
       "      <td>HL</td>\n",
       "      <td>상권축소</td>\n",
       "      <td>120</td>\n",
       "      <td>48</td>\n",
       "    </tr>\n",
       "    <tr>\n",
       "      <th>1495</th>\n",
       "      <td>2020</td>\n",
       "      <td>2</td>\n",
       "      <td>A</td>\n",
       "      <td>골목상권</td>\n",
       "      <td>1000001</td>\n",
       "      <td>계동길</td>\n",
       "      <td>LH</td>\n",
       "      <td>상권확장</td>\n",
       "      <td>97</td>\n",
       "      <td>57</td>\n",
       "    </tr>\n",
       "  </tbody>\n",
       "</table>\n",
       "<p>1496 rows × 10 columns</p>\n",
       "</div>"
      ],
      "text/plain": [
       "      기준_년_코드  기준_분기_코드 상권_구분_코드 상권_구분_코드_명    상권_코드                 상권_코드_명  \\\n",
       "0        2020         2        U       관광특구  1001496             강남 마이스 관광특구   \n",
       "1        2020         2        U       관광특구  1001495                 잠실 관광특구   \n",
       "2        2020         2        U       관광특구  1001494              종로?청계 관광특구   \n",
       "3        2020         2        U       관광특구  1001493            동대문패션타운 관광특구   \n",
       "4        2020         2        U       관광특구  1001492  명동 남대문 북창동 다동 무교동 관광특구   \n",
       "...       ...       ...      ...        ...      ...                     ...   \n",
       "1491     2020         2        A       골목상권  1000005                    백석동길   \n",
       "1492     2020         2        A       골목상권  1000004                     명륜길   \n",
       "1493     2020         2        A       골목상권  1000003                돈화문로11가길   \n",
       "1494     2020         2        A       골목상권  1000002                  난계로27길   \n",
       "1495     2020         2        A       골목상권  1000001                     계동길   \n",
       "\n",
       "     상권_변화_지표 상권_변화_지표_명  운영_영업_개월_평균  폐업_영업_개월_평균  \n",
       "0          HH         정체          120           62  \n",
       "1          LL       다이나믹          104           53  \n",
       "2          HH         정체          148           72  \n",
       "3          HH         정체          122           61  \n",
       "4          HH         정체          149           63  \n",
       "...       ...        ...          ...          ...  \n",
       "1491       LL       다이나믹           90           50  \n",
       "1492       LH       상권확장           83           57  \n",
       "1493       HH         정체          114           60  \n",
       "1494       HL       상권축소          120           48  \n",
       "1495       LH       상권확장           97           57  \n",
       "\n",
       "[1496 rows x 10 columns]"
      ]
     },
     "execution_count": 108,
     "metadata": {},
     "output_type": "execute_result"
    }
   ],
   "source": [
    "market"
   ]
  },
  {
   "cell_type": "code",
   "execution_count": 109,
   "metadata": {},
   "outputs": [
    {
     "data": {
      "text/plain": [
       "기준_년_코드        0\n",
       "기준_분기_코드       0\n",
       "상권_구분_코드       0\n",
       "상권_구분_코드_명     0\n",
       "상권_코드          0\n",
       "상권_코드_명        0\n",
       "상권_변화_지표       0\n",
       "상권_변화_지표_명     0\n",
       "운영_영업_개월_평균    0\n",
       "폐업_영업_개월_평균    0\n",
       "dtype: int64"
      ]
     },
     "execution_count": 109,
     "metadata": {},
     "output_type": "execute_result"
    }
   ],
   "source": [
    "market.isnull().sum()"
   ]
  },
  {
   "cell_type": "code",
   "execution_count": 110,
   "metadata": {},
   "outputs": [],
   "source": [
    "market_worker = pd.read_csv(\"C:/Users/user/Desktop/이종은프로젝트/서울시 우리마을가게 상권분석서비스(상권-직장인구).csv\")\n",
    "market_worker=market_worker[market_worker[\"기준_년월_코드\"]==2020]\n",
    "market_worker=market_worker[market_worker[\"기준_분기_코드\"]==2]"
   ]
  },
  {
   "cell_type": "code",
   "execution_count": 111,
   "metadata": {},
   "outputs": [],
   "source": [
    "market_worker=market_worker.drop([ '남성_직장_인구_수', '여성_직장_인구_수', '연령대_10_직장_인구_수',\n",
    "       '연령대_20_직장_인구_수', '연령대_30_직장_인구_수', '연령대_40_직장_인구_수', '연령대_50_직장_인구_수',\n",
    "       '연령대_60_이상_직장_인구_수', '남성연령대_10_직장_인구_수', '남성연령대_20_직장_인구_수',\n",
    "       '남성연령대_30_직장_인구_수', '남성연령대_40_직장_인구_수', '남성연령대_50_직장_인구_수',\n",
    "       '남성연령대_60_이상_직장_인구_수', '여성연령대_10_직장_인구_수', '여성연령대_20_직장_인구_수',\n",
    "       '여성연령대_30_직장_인구_수', '여성연령대_40_직장_인구_수', '여성연령대_50_직장_인구_수',\n",
    "       '여성연령대_60_이상_직장_인구_수'],axis=1)"
   ]
  },
  {
   "cell_type": "code",
   "execution_count": 112,
   "metadata": {},
   "outputs": [
    {
     "data": {
      "text/html": [
       "<div>\n",
       "<style scoped>\n",
       "    .dataframe tbody tr th:only-of-type {\n",
       "        vertical-align: middle;\n",
       "    }\n",
       "\n",
       "    .dataframe tbody tr th {\n",
       "        vertical-align: top;\n",
       "    }\n",
       "\n",
       "    .dataframe thead th {\n",
       "        text-align: right;\n",
       "    }\n",
       "</style>\n",
       "<table border=\"1\" class=\"dataframe\">\n",
       "  <thead>\n",
       "    <tr style=\"text-align: right;\">\n",
       "      <th></th>\n",
       "      <th>기준_년월_코드</th>\n",
       "      <th>기준_분기_코드</th>\n",
       "      <th>기준_분기_코드.1</th>\n",
       "      <th>상권_구분_코드_명</th>\n",
       "      <th>상권_코드</th>\n",
       "      <th>상권_코드_명</th>\n",
       "      <th>총_직장_인구_수</th>\n",
       "    </tr>\n",
       "  </thead>\n",
       "  <tbody>\n",
       "    <tr>\n",
       "      <th>0</th>\n",
       "      <td>2020</td>\n",
       "      <td>2</td>\n",
       "      <td>U</td>\n",
       "      <td>관광특구</td>\n",
       "      <td>1001496</td>\n",
       "      <td>강남 마이스 관광특구</td>\n",
       "      <td>15904</td>\n",
       "    </tr>\n",
       "    <tr>\n",
       "      <th>1</th>\n",
       "      <td>2020</td>\n",
       "      <td>2</td>\n",
       "      <td>U</td>\n",
       "      <td>관광특구</td>\n",
       "      <td>1001495</td>\n",
       "      <td>잠실 관광특구</td>\n",
       "      <td>24375</td>\n",
       "    </tr>\n",
       "    <tr>\n",
       "      <th>2</th>\n",
       "      <td>2020</td>\n",
       "      <td>2</td>\n",
       "      <td>U</td>\n",
       "      <td>관광특구</td>\n",
       "      <td>1001494</td>\n",
       "      <td>종로?청계 관광특구</td>\n",
       "      <td>32935</td>\n",
       "    </tr>\n",
       "    <tr>\n",
       "      <th>3</th>\n",
       "      <td>2020</td>\n",
       "      <td>2</td>\n",
       "      <td>U</td>\n",
       "      <td>관광특구</td>\n",
       "      <td>1001493</td>\n",
       "      <td>동대문패션타운 관광특구</td>\n",
       "      <td>6054</td>\n",
       "    </tr>\n",
       "    <tr>\n",
       "      <th>4</th>\n",
       "      <td>2020</td>\n",
       "      <td>2</td>\n",
       "      <td>U</td>\n",
       "      <td>관광특구</td>\n",
       "      <td>1001492</td>\n",
       "      <td>명동 남대문 북창동 다동 무교동 관광특구</td>\n",
       "      <td>104830</td>\n",
       "    </tr>\n",
       "    <tr>\n",
       "      <th>...</th>\n",
       "      <td>...</td>\n",
       "      <td>...</td>\n",
       "      <td>...</td>\n",
       "      <td>...</td>\n",
       "      <td>...</td>\n",
       "      <td>...</td>\n",
       "      <td>...</td>\n",
       "    </tr>\n",
       "    <tr>\n",
       "      <th>1470</th>\n",
       "      <td>2020</td>\n",
       "      <td>2</td>\n",
       "      <td>A</td>\n",
       "      <td>골목상권</td>\n",
       "      <td>1000005</td>\n",
       "      <td>백석동길</td>\n",
       "      <td>1797</td>\n",
       "    </tr>\n",
       "    <tr>\n",
       "      <th>1471</th>\n",
       "      <td>2020</td>\n",
       "      <td>2</td>\n",
       "      <td>A</td>\n",
       "      <td>골목상권</td>\n",
       "      <td>1000004</td>\n",
       "      <td>명륜길</td>\n",
       "      <td>56</td>\n",
       "    </tr>\n",
       "    <tr>\n",
       "      <th>1472</th>\n",
       "      <td>2020</td>\n",
       "      <td>2</td>\n",
       "      <td>A</td>\n",
       "      <td>골목상권</td>\n",
       "      <td>1000003</td>\n",
       "      <td>돈화문로11가길</td>\n",
       "      <td>3686</td>\n",
       "    </tr>\n",
       "    <tr>\n",
       "      <th>1473</th>\n",
       "      <td>2020</td>\n",
       "      <td>2</td>\n",
       "      <td>A</td>\n",
       "      <td>골목상권</td>\n",
       "      <td>1000002</td>\n",
       "      <td>난계로27길</td>\n",
       "      <td>201</td>\n",
       "    </tr>\n",
       "    <tr>\n",
       "      <th>1474</th>\n",
       "      <td>2020</td>\n",
       "      <td>2</td>\n",
       "      <td>A</td>\n",
       "      <td>골목상권</td>\n",
       "      <td>1000001</td>\n",
       "      <td>계동길</td>\n",
       "      <td>842</td>\n",
       "    </tr>\n",
       "  </tbody>\n",
       "</table>\n",
       "<p>1475 rows × 7 columns</p>\n",
       "</div>"
      ],
      "text/plain": [
       "      기준_년월_코드  기준_분기_코드 기준_분기_코드.1 상권_구분_코드_명    상권_코드  \\\n",
       "0         2020         2          U       관광특구  1001496   \n",
       "1         2020         2          U       관광특구  1001495   \n",
       "2         2020         2          U       관광특구  1001494   \n",
       "3         2020         2          U       관광특구  1001493   \n",
       "4         2020         2          U       관광특구  1001492   \n",
       "...        ...       ...        ...        ...      ...   \n",
       "1470      2020         2          A       골목상권  1000005   \n",
       "1471      2020         2          A       골목상권  1000004   \n",
       "1472      2020         2          A       골목상권  1000003   \n",
       "1473      2020         2          A       골목상권  1000002   \n",
       "1474      2020         2          A       골목상권  1000001   \n",
       "\n",
       "                     상권_코드_명  총_직장_인구_수  \n",
       "0                강남 마이스 관광특구      15904  \n",
       "1                    잠실 관광특구      24375  \n",
       "2                 종로?청계 관광특구      32935  \n",
       "3               동대문패션타운 관광특구       6054  \n",
       "4     명동 남대문 북창동 다동 무교동 관광특구     104830  \n",
       "...                      ...        ...  \n",
       "1470                    백석동길       1797  \n",
       "1471                     명륜길         56  \n",
       "1472                돈화문로11가길       3686  \n",
       "1473                  난계로27길        201  \n",
       "1474                     계동길        842  \n",
       "\n",
       "[1475 rows x 7 columns]"
      ]
     },
     "execution_count": 112,
     "metadata": {},
     "output_type": "execute_result"
    }
   ],
   "source": [
    "market_worker"
   ]
  },
  {
   "cell_type": "code",
   "execution_count": 113,
   "metadata": {},
   "outputs": [],
   "source": [
    "market_sales = pd.read_csv(\"C:/Users/user/Desktop/이종은프로젝트/서울시 우리마을가게 상권분석서비스(상권-추정매출).csv\")\n",
    "\n",
    "\n",
    "market_sales=market_sales[market_sales[\"기준_년_코드\"]==2020]\n",
    "market_sales = market_sales[market_sales[\"기준_분기_코드\"]==2]\n",
    "market_sales=market_sales.drop([  '주중_매출_비율',\n",
    "       '주말_매출_비율', '월요일_매출_비율', '화요일_매출_비율', '수요일_매출_비율', '목요일_매출_비율',\n",
    "       '금요일_매출_비율', '토요일_매출_비율', '일요일_매출_비율', '시간대_00~06_매출_비율',\n",
    "       '시간대_06~11_매출_비율', '시간대_11~14_매출_비율', '시간대_14~17_매출_비율',\n",
    "       '시간대_17~21_매출_비율', '시간대_21~24_매출_비율', '남성_매출_비율', '여성_매출_비율',\n",
    "       '연령대_10_매출_비율', '연령대_20_매출_비율', '연령대_30_매출_비율', '연령대_40_매출_비율',\n",
    "       '연령대_50_매출_비율', '연령대_60_이상_매출_비율', '주중_매출_금액', '주말_매출_금액', '월요일_매출_금액',\n",
    "       '화요일_매출_금액', '수요일_매출_금액', '목요일_매출_금액', '금요일_매출_금액', '토요일_매출_금액',\n",
    "       '일요일_매출_금액', '시간대_00~06_매출_금액', '시간대_06~11_매출_금액', '시간대_11~14_매출_금액',\n",
    "       '시간대_14~17_매출_금액', '시간대_17~21_매출_금액', '시간대_21~24_매출_금액', '남성_매출_금액',\n",
    "       '여성_매출_금액', '연령대_10_매출_금액', '연령대_20_매출_금액', '연령대_30_매출_금액',\n",
    "       '연령대_40_매출_금액', '연령대_50_매출_금액', '연령대_60_이상_매출_금액', '주중_매출_건수',\n",
    "       '주말_매출_건수', '월요일_매출_건수', '화요일_매출_건수', '수요일_매출_건수', '목요일_매출_건수',\n",
    "       '금요일_매출_건수', '토요일_매출_건수', '일요일_매출_건수', '시간대_건수~06_매출_건수',\n",
    "       '시간대_건수~11_매출_건수', '시간대_건수~14_매출_건수', '시간대_건수~17_매출_건수',\n",
    "       '시간대_건수~21_매출_건수', '시간대_건수~24_매출_건수', '남성_매출_건수', '여성_매출_건수',\n",
    "       '연령대_10_매출_건수', '연령대_20_매출_건수', '연령대_30_매출_건수', '연령대_40_매출_건수',\n",
    "       '연령대_50_매출_건수', '연령대_60_이상_매출_건수'],axis=1)"
   ]
  },
  {
   "cell_type": "code",
   "execution_count": 114,
   "metadata": {},
   "outputs": [],
   "source": [
    "market_sales=market_sales.groupby(\"상권_코드\").sum()"
   ]
  },
  {
   "cell_type": "code",
   "execution_count": 115,
   "metadata": {},
   "outputs": [
    {
     "data": {
      "text/plain": [
       "기준_년_코드     0\n",
       "기준_분기_코드    0\n",
       "당월_매출_금액    0\n",
       "당월_매출_건수    0\n",
       "점포수         0\n",
       "dtype: int64"
      ]
     },
     "execution_count": 115,
     "metadata": {},
     "output_type": "execute_result"
    }
   ],
   "source": [
    "market_sales.isnull().sum()"
   ]
  },
  {
   "cell_type": "code",
   "execution_count": 116,
   "metadata": {},
   "outputs": [],
   "source": [
    "market_person = pd.read_csv(\"C:/Users/user/Desktop/이종은프로젝트/서울시 우리마을가게 상권분석서비스(상권-추정유동인구).csv\")\n",
    "market_person=market_person[market_person[\"기준 년코드\"]==2020]\n",
    "market_person=market_person[market_person[\"기준_분기_코드\"]==2]\n",
    "\n",
    "market_person=market_person[[\"기준 년코드\",\"기준_분기_코드\",\" 상권_구분_코드\",\" 상권_구분_코드_명\",\"상권_코드\",\"상권_코드_명\",\"총_유동인구_수\"]]"
   ]
  },
  {
   "cell_type": "code",
   "execution_count": 117,
   "metadata": {},
   "outputs": [
    {
     "data": {
      "text/html": [
       "<div>\n",
       "<style scoped>\n",
       "    .dataframe tbody tr th:only-of-type {\n",
       "        vertical-align: middle;\n",
       "    }\n",
       "\n",
       "    .dataframe tbody tr th {\n",
       "        vertical-align: top;\n",
       "    }\n",
       "\n",
       "    .dataframe thead th {\n",
       "        text-align: right;\n",
       "    }\n",
       "</style>\n",
       "<table border=\"1\" class=\"dataframe\">\n",
       "  <thead>\n",
       "    <tr style=\"text-align: right;\">\n",
       "      <th></th>\n",
       "      <th>기준 년코드</th>\n",
       "      <th>기준_분기_코드</th>\n",
       "      <th>상권_구분_코드</th>\n",
       "      <th>상권_구분_코드_명</th>\n",
       "      <th>상권_코드</th>\n",
       "      <th>상권_코드_명</th>\n",
       "      <th>총_유동인구_수</th>\n",
       "    </tr>\n",
       "  </thead>\n",
       "  <tbody>\n",
       "    <tr>\n",
       "      <th>0</th>\n",
       "      <td>2020</td>\n",
       "      <td>2</td>\n",
       "      <td>U</td>\n",
       "      <td>관광특구</td>\n",
       "      <td>1001496</td>\n",
       "      <td>강남 마이스 관광특구</td>\n",
       "      <td>90544</td>\n",
       "    </tr>\n",
       "    <tr>\n",
       "      <th>1</th>\n",
       "      <td>2020</td>\n",
       "      <td>2</td>\n",
       "      <td>U</td>\n",
       "      <td>관광특구</td>\n",
       "      <td>1001495</td>\n",
       "      <td>잠실 관광특구</td>\n",
       "      <td>3026454</td>\n",
       "    </tr>\n",
       "    <tr>\n",
       "      <th>2</th>\n",
       "      <td>2020</td>\n",
       "      <td>2</td>\n",
       "      <td>U</td>\n",
       "      <td>관광특구</td>\n",
       "      <td>1001494</td>\n",
       "      <td>종로?청계 관광특구</td>\n",
       "      <td>4033679</td>\n",
       "    </tr>\n",
       "    <tr>\n",
       "      <th>3</th>\n",
       "      <td>2020</td>\n",
       "      <td>2</td>\n",
       "      <td>U</td>\n",
       "      <td>관광특구</td>\n",
       "      <td>1001493</td>\n",
       "      <td>동대문패션타운 관광특구</td>\n",
       "      <td>3262023</td>\n",
       "    </tr>\n",
       "    <tr>\n",
       "      <th>4</th>\n",
       "      <td>2020</td>\n",
       "      <td>2</td>\n",
       "      <td>U</td>\n",
       "      <td>관광특구</td>\n",
       "      <td>1001492</td>\n",
       "      <td>명동 남대문 북창동 다동 무교동 관광특구</td>\n",
       "      <td>3764785</td>\n",
       "    </tr>\n",
       "    <tr>\n",
       "      <th>...</th>\n",
       "      <td>...</td>\n",
       "      <td>...</td>\n",
       "      <td>...</td>\n",
       "      <td>...</td>\n",
       "      <td>...</td>\n",
       "      <td>...</td>\n",
       "      <td>...</td>\n",
       "    </tr>\n",
       "    <tr>\n",
       "      <th>1490</th>\n",
       "      <td>2020</td>\n",
       "      <td>2</td>\n",
       "      <td>A</td>\n",
       "      <td>골목상권</td>\n",
       "      <td>1000005</td>\n",
       "      <td>백석동길</td>\n",
       "      <td>177480</td>\n",
       "    </tr>\n",
       "    <tr>\n",
       "      <th>1491</th>\n",
       "      <td>2020</td>\n",
       "      <td>2</td>\n",
       "      <td>A</td>\n",
       "      <td>골목상권</td>\n",
       "      <td>1000004</td>\n",
       "      <td>명륜길</td>\n",
       "      <td>642474</td>\n",
       "    </tr>\n",
       "    <tr>\n",
       "      <th>1492</th>\n",
       "      <td>2020</td>\n",
       "      <td>2</td>\n",
       "      <td>A</td>\n",
       "      <td>골목상권</td>\n",
       "      <td>1000003</td>\n",
       "      <td>돈화문로11가길</td>\n",
       "      <td>173334</td>\n",
       "    </tr>\n",
       "    <tr>\n",
       "      <th>1493</th>\n",
       "      <td>2020</td>\n",
       "      <td>2</td>\n",
       "      <td>A</td>\n",
       "      <td>골목상권</td>\n",
       "      <td>1000002</td>\n",
       "      <td>난계로27길</td>\n",
       "      <td>374141</td>\n",
       "    </tr>\n",
       "    <tr>\n",
       "      <th>1494</th>\n",
       "      <td>2020</td>\n",
       "      <td>2</td>\n",
       "      <td>A</td>\n",
       "      <td>골목상권</td>\n",
       "      <td>1000001</td>\n",
       "      <td>계동길</td>\n",
       "      <td>308310</td>\n",
       "    </tr>\n",
       "  </tbody>\n",
       "</table>\n",
       "<p>1495 rows × 7 columns</p>\n",
       "</div>"
      ],
      "text/plain": [
       "      기준 년코드  기준_분기_코드  상권_구분_코드  상권_구분_코드_명    상권_코드                 상권_코드_명  \\\n",
       "0       2020         2         U        관광특구  1001496             강남 마이스 관광특구   \n",
       "1       2020         2         U        관광특구  1001495                 잠실 관광특구   \n",
       "2       2020         2         U        관광특구  1001494              종로?청계 관광특구   \n",
       "3       2020         2         U        관광특구  1001493            동대문패션타운 관광특구   \n",
       "4       2020         2         U        관광특구  1001492  명동 남대문 북창동 다동 무교동 관광특구   \n",
       "...      ...       ...       ...         ...      ...                     ...   \n",
       "1490    2020         2         A        골목상권  1000005                    백석동길   \n",
       "1491    2020         2         A        골목상권  1000004                     명륜길   \n",
       "1492    2020         2         A        골목상권  1000003                돈화문로11가길   \n",
       "1493    2020         2         A        골목상권  1000002                  난계로27길   \n",
       "1494    2020         2         A        골목상권  1000001                     계동길   \n",
       "\n",
       "      총_유동인구_수  \n",
       "0        90544  \n",
       "1      3026454  \n",
       "2      4033679  \n",
       "3      3262023  \n",
       "4      3764785  \n",
       "...        ...  \n",
       "1490    177480  \n",
       "1491    642474  \n",
       "1492    173334  \n",
       "1493    374141  \n",
       "1494    308310  \n",
       "\n",
       "[1495 rows x 7 columns]"
      ]
     },
     "execution_count": 117,
     "metadata": {},
     "output_type": "execute_result"
    }
   ],
   "source": [
    "market_person"
   ]
  },
  {
   "cell_type": "code",
   "execution_count": 118,
   "metadata": {},
   "outputs": [
    {
     "data": {
      "text/plain": [
       "기준 년코드         0\n",
       "기준_분기_코드       0\n",
       " 상권_구분_코드      0\n",
       " 상권_구분_코드_명    0\n",
       "상권_코드          0\n",
       "상권_코드_명        0\n",
       "총_유동인구_수       0\n",
       "dtype: int64"
      ]
     },
     "execution_count": 118,
     "metadata": {},
     "output_type": "execute_result"
    }
   ],
   "source": [
    "market_person.isnull().sum()"
   ]
  },
  {
   "cell_type": "code",
   "execution_count": 119,
   "metadata": {},
   "outputs": [],
   "source": [
    "market_resid = pd.read_csv(\"C:/Users/user/Desktop/이종은프로젝트/서울시 우리마을가게 상권분석서비스(상권_상주인구).csv\")\n",
    "market_resid=market_resid[market_resid[\"기준_년_코드\"]==2020]\n",
    "market_resid=market_resid[market_resid[\"기준_분기_코드\"]==2]\n",
    "market_resid= market_resid[['기준_년_코드', '기준_분기_코드', '상권_구분_코드', '상권_구분_코드_명', '상권 코드', '총 상주인구 수']]"
   ]
  },
  {
   "cell_type": "code",
   "execution_count": 120,
   "metadata": {},
   "outputs": [
    {
     "data": {
      "text/html": [
       "<div>\n",
       "<style scoped>\n",
       "    .dataframe tbody tr th:only-of-type {\n",
       "        vertical-align: middle;\n",
       "    }\n",
       "\n",
       "    .dataframe tbody tr th {\n",
       "        vertical-align: top;\n",
       "    }\n",
       "\n",
       "    .dataframe thead th {\n",
       "        text-align: right;\n",
       "    }\n",
       "</style>\n",
       "<table border=\"1\" class=\"dataframe\">\n",
       "  <thead>\n",
       "    <tr style=\"text-align: right;\">\n",
       "      <th></th>\n",
       "      <th>기준_년_코드</th>\n",
       "      <th>기준_분기_코드</th>\n",
       "      <th>상권_구분_코드</th>\n",
       "      <th>상권_구분_코드_명</th>\n",
       "      <th>상권 코드</th>\n",
       "      <th>총 상주인구 수</th>\n",
       "    </tr>\n",
       "  </thead>\n",
       "  <tbody>\n",
       "    <tr>\n",
       "      <th>0</th>\n",
       "      <td>2020</td>\n",
       "      <td>2</td>\n",
       "      <td>U</td>\n",
       "      <td>관광특구</td>\n",
       "      <td>1001496</td>\n",
       "      <td>24</td>\n",
       "    </tr>\n",
       "    <tr>\n",
       "      <th>1</th>\n",
       "      <td>2020</td>\n",
       "      <td>2</td>\n",
       "      <td>U</td>\n",
       "      <td>관광특구</td>\n",
       "      <td>1001495</td>\n",
       "      <td>8221</td>\n",
       "    </tr>\n",
       "    <tr>\n",
       "      <th>2</th>\n",
       "      <td>2020</td>\n",
       "      <td>2</td>\n",
       "      <td>U</td>\n",
       "      <td>관광특구</td>\n",
       "      <td>1001494</td>\n",
       "      <td>1924</td>\n",
       "    </tr>\n",
       "    <tr>\n",
       "      <th>3</th>\n",
       "      <td>2020</td>\n",
       "      <td>2</td>\n",
       "      <td>U</td>\n",
       "      <td>관광특구</td>\n",
       "      <td>1001493</td>\n",
       "      <td>2427</td>\n",
       "    </tr>\n",
       "    <tr>\n",
       "      <th>4</th>\n",
       "      <td>2020</td>\n",
       "      <td>2</td>\n",
       "      <td>U</td>\n",
       "      <td>관광특구</td>\n",
       "      <td>1001492</td>\n",
       "      <td>1104</td>\n",
       "    </tr>\n",
       "    <tr>\n",
       "      <th>...</th>\n",
       "      <td>...</td>\n",
       "      <td>...</td>\n",
       "      <td>...</td>\n",
       "      <td>...</td>\n",
       "      <td>...</td>\n",
       "      <td>...</td>\n",
       "    </tr>\n",
       "    <tr>\n",
       "      <th>1477</th>\n",
       "      <td>2020</td>\n",
       "      <td>2</td>\n",
       "      <td>A</td>\n",
       "      <td>골목상권</td>\n",
       "      <td>1000005</td>\n",
       "      <td>1671</td>\n",
       "    </tr>\n",
       "    <tr>\n",
       "      <th>1478</th>\n",
       "      <td>2020</td>\n",
       "      <td>2</td>\n",
       "      <td>A</td>\n",
       "      <td>골목상권</td>\n",
       "      <td>1000004</td>\n",
       "      <td>1442</td>\n",
       "    </tr>\n",
       "    <tr>\n",
       "      <th>1479</th>\n",
       "      <td>2020</td>\n",
       "      <td>2</td>\n",
       "      <td>A</td>\n",
       "      <td>골목상권</td>\n",
       "      <td>1000003</td>\n",
       "      <td>1214</td>\n",
       "    </tr>\n",
       "    <tr>\n",
       "      <th>1480</th>\n",
       "      <td>2020</td>\n",
       "      <td>2</td>\n",
       "      <td>A</td>\n",
       "      <td>골목상권</td>\n",
       "      <td>1000002</td>\n",
       "      <td>941</td>\n",
       "    </tr>\n",
       "    <tr>\n",
       "      <th>1481</th>\n",
       "      <td>2020</td>\n",
       "      <td>2</td>\n",
       "      <td>A</td>\n",
       "      <td>골목상권</td>\n",
       "      <td>1000001</td>\n",
       "      <td>1800</td>\n",
       "    </tr>\n",
       "  </tbody>\n",
       "</table>\n",
       "<p>1482 rows × 6 columns</p>\n",
       "</div>"
      ],
      "text/plain": [
       "      기준_년_코드  기준_분기_코드 상권_구분_코드 상권_구분_코드_명    상권 코드  총 상주인구 수\n",
       "0        2020         2        U       관광특구  1001496        24\n",
       "1        2020         2        U       관광특구  1001495      8221\n",
       "2        2020         2        U       관광특구  1001494      1924\n",
       "3        2020         2        U       관광특구  1001493      2427\n",
       "4        2020         2        U       관광특구  1001492      1104\n",
       "...       ...       ...      ...        ...      ...       ...\n",
       "1477     2020         2        A       골목상권  1000005      1671\n",
       "1478     2020         2        A       골목상권  1000004      1442\n",
       "1479     2020         2        A       골목상권  1000003      1214\n",
       "1480     2020         2        A       골목상권  1000002       941\n",
       "1481     2020         2        A       골목상권  1000001      1800\n",
       "\n",
       "[1482 rows x 6 columns]"
      ]
     },
     "execution_count": 120,
     "metadata": {},
     "output_type": "execute_result"
    }
   ],
   "source": [
    "market_resid"
   ]
  },
  {
   "cell_type": "code",
   "execution_count": 121,
   "metadata": {},
   "outputs": [
    {
     "data": {
      "text/plain": [
       "기준_년_코드       0\n",
       "기준_분기_코드      0\n",
       "상권_구분_코드      0\n",
       "상권_구분_코드_명    0\n",
       "상권 코드         0\n",
       "총 상주인구 수      0\n",
       "dtype: int64"
      ]
     },
     "execution_count": 121,
     "metadata": {},
     "output_type": "execute_result"
    }
   ],
   "source": [
    "market_resid.isnull().sum()"
   ]
  },
  {
   "cell_type": "code",
   "execution_count": 122,
   "metadata": {},
   "outputs": [],
   "source": [
    "market_apart = pd.read_csv(\"C:/Users/user/Desktop/이종은프로젝트/서울시 우리마을가게 상권분석서비스(상권-아파트).csv\")\n",
    "market_apart = market_apart[market_apart[\"기준_년_코드\"]==2020]\n",
    "market_apart = market_apart[market_apart[\"기준_분기_코드\"]==2]\n",
    "market_apart=market_apart[['기준_년_코드', '기준_분기_코드', '상권_구분_코드', '상권_구분_코드_명', '상권_코드', '상권_코드_명',\n",
    "       '아파트_단지_수','아파트_평균_면적', '아파트_평균_시가']]"
   ]
  },
  {
   "cell_type": "code",
   "execution_count": 123,
   "metadata": {},
   "outputs": [
    {
     "data": {
      "text/html": [
       "<div>\n",
       "<style scoped>\n",
       "    .dataframe tbody tr th:only-of-type {\n",
       "        vertical-align: middle;\n",
       "    }\n",
       "\n",
       "    .dataframe tbody tr th {\n",
       "        vertical-align: top;\n",
       "    }\n",
       "\n",
       "    .dataframe thead th {\n",
       "        text-align: right;\n",
       "    }\n",
       "</style>\n",
       "<table border=\"1\" class=\"dataframe\">\n",
       "  <thead>\n",
       "    <tr style=\"text-align: right;\">\n",
       "      <th></th>\n",
       "      <th>기준_년_코드</th>\n",
       "      <th>기준_분기_코드</th>\n",
       "      <th>상권_구분_코드</th>\n",
       "      <th>상권_구분_코드_명</th>\n",
       "      <th>상권_코드</th>\n",
       "      <th>상권_코드_명</th>\n",
       "      <th>아파트_단지_수</th>\n",
       "      <th>아파트_평균_면적</th>\n",
       "      <th>아파트_평균_시가</th>\n",
       "    </tr>\n",
       "  </thead>\n",
       "  <tbody>\n",
       "    <tr>\n",
       "      <th>0</th>\n",
       "      <td>2020</td>\n",
       "      <td>2</td>\n",
       "      <td>U</td>\n",
       "      <td>관광특구</td>\n",
       "      <td>1001495</td>\n",
       "      <td>잠실 관광특구</td>\n",
       "      <td>22</td>\n",
       "      <td>89</td>\n",
       "      <td>527347107</td>\n",
       "    </tr>\n",
       "    <tr>\n",
       "      <th>2</th>\n",
       "      <td>2020</td>\n",
       "      <td>2</td>\n",
       "      <td>U</td>\n",
       "      <td>관광특구</td>\n",
       "      <td>1001494</td>\n",
       "      <td>종로?청계 관광특구</td>\n",
       "      <td>5</td>\n",
       "      <td>39</td>\n",
       "      <td>112097903</td>\n",
       "    </tr>\n",
       "    <tr>\n",
       "      <th>4</th>\n",
       "      <td>2020</td>\n",
       "      <td>2</td>\n",
       "      <td>U</td>\n",
       "      <td>관광특구</td>\n",
       "      <td>1001493</td>\n",
       "      <td>동대문패션타운 관광특구</td>\n",
       "      <td>8</td>\n",
       "      <td>53</td>\n",
       "      <td>237967427</td>\n",
       "    </tr>\n",
       "    <tr>\n",
       "      <th>6</th>\n",
       "      <td>2020</td>\n",
       "      <td>2</td>\n",
       "      <td>U</td>\n",
       "      <td>관광특구</td>\n",
       "      <td>1001491</td>\n",
       "      <td>이태원 관광특구</td>\n",
       "      <td>71</td>\n",
       "      <td>82</td>\n",
       "      <td>409473123</td>\n",
       "    </tr>\n",
       "    <tr>\n",
       "      <th>8</th>\n",
       "      <td>2020</td>\n",
       "      <td>2</td>\n",
       "      <td>R</td>\n",
       "      <td>전통시장</td>\n",
       "      <td>1001490</td>\n",
       "      <td>길동복조리시장</td>\n",
       "      <td>37</td>\n",
       "      <td>62</td>\n",
       "      <td>183067389</td>\n",
       "    </tr>\n",
       "    <tr>\n",
       "      <th>...</th>\n",
       "      <td>...</td>\n",
       "      <td>...</td>\n",
       "      <td>...</td>\n",
       "      <td>...</td>\n",
       "      <td>...</td>\n",
       "      <td>...</td>\n",
       "      <td>...</td>\n",
       "      <td>...</td>\n",
       "      <td>...</td>\n",
       "    </tr>\n",
       "    <tr>\n",
       "      <th>2676</th>\n",
       "      <td>2020</td>\n",
       "      <td>2</td>\n",
       "      <td>A</td>\n",
       "      <td>골목상권</td>\n",
       "      <td>1000005</td>\n",
       "      <td>백석동길</td>\n",
       "      <td>41</td>\n",
       "      <td>84</td>\n",
       "      <td>214023214</td>\n",
       "    </tr>\n",
       "    <tr>\n",
       "      <th>2678</th>\n",
       "      <td>2020</td>\n",
       "      <td>2</td>\n",
       "      <td>A</td>\n",
       "      <td>골목상권</td>\n",
       "      <td>1000004</td>\n",
       "      <td>명륜길</td>\n",
       "      <td>41</td>\n",
       "      <td>51</td>\n",
       "      <td>105457249</td>\n",
       "    </tr>\n",
       "    <tr>\n",
       "      <th>2680</th>\n",
       "      <td>2020</td>\n",
       "      <td>2</td>\n",
       "      <td>A</td>\n",
       "      <td>골목상권</td>\n",
       "      <td>1000003</td>\n",
       "      <td>돈화문로11가길</td>\n",
       "      <td>5</td>\n",
       "      <td>35</td>\n",
       "      <td>161118305</td>\n",
       "    </tr>\n",
       "    <tr>\n",
       "      <th>2682</th>\n",
       "      <td>2020</td>\n",
       "      <td>2</td>\n",
       "      <td>A</td>\n",
       "      <td>골목상권</td>\n",
       "      <td>1000002</td>\n",
       "      <td>난계로27길</td>\n",
       "      <td>5</td>\n",
       "      <td>15</td>\n",
       "      <td>87700490</td>\n",
       "    </tr>\n",
       "    <tr>\n",
       "      <th>2684</th>\n",
       "      <td>2020</td>\n",
       "      <td>2</td>\n",
       "      <td>A</td>\n",
       "      <td>골목상권</td>\n",
       "      <td>1000001</td>\n",
       "      <td>계동길</td>\n",
       "      <td>26</td>\n",
       "      <td>69</td>\n",
       "      <td>249322039</td>\n",
       "    </tr>\n",
       "  </tbody>\n",
       "</table>\n",
       "<p>1343 rows × 9 columns</p>\n",
       "</div>"
      ],
      "text/plain": [
       "      기준_년_코드  기준_분기_코드 상권_구분_코드 상권_구분_코드_명    상권_코드       상권_코드_명  아파트_단지_수  \\\n",
       "0        2020         2        U       관광특구  1001495       잠실 관광특구        22   \n",
       "2        2020         2        U       관광특구  1001494    종로?청계 관광특구         5   \n",
       "4        2020         2        U       관광특구  1001493  동대문패션타운 관광특구         8   \n",
       "6        2020         2        U       관광특구  1001491      이태원 관광특구        71   \n",
       "8        2020         2        R       전통시장  1001490       길동복조리시장        37   \n",
       "...       ...       ...      ...        ...      ...           ...       ...   \n",
       "2676     2020         2        A       골목상권  1000005          백석동길        41   \n",
       "2678     2020         2        A       골목상권  1000004           명륜길        41   \n",
       "2680     2020         2        A       골목상권  1000003      돈화문로11가길         5   \n",
       "2682     2020         2        A       골목상권  1000002        난계로27길         5   \n",
       "2684     2020         2        A       골목상권  1000001           계동길        26   \n",
       "\n",
       "      아파트_평균_면적  아파트_평균_시가  \n",
       "0            89  527347107  \n",
       "2            39  112097903  \n",
       "4            53  237967427  \n",
       "6            82  409473123  \n",
       "8            62  183067389  \n",
       "...         ...        ...  \n",
       "2676         84  214023214  \n",
       "2678         51  105457249  \n",
       "2680         35  161118305  \n",
       "2682         15   87700490  \n",
       "2684         69  249322039  \n",
       "\n",
       "[1343 rows x 9 columns]"
      ]
     },
     "execution_count": 123,
     "metadata": {},
     "output_type": "execute_result"
    }
   ],
   "source": [
    "market_apart"
   ]
  },
  {
   "cell_type": "code",
   "execution_count": 124,
   "metadata": {},
   "outputs": [
    {
     "data": {
      "text/plain": [
       "기준_년_코드       0\n",
       "기준_분기_코드      0\n",
       "상권_구분_코드      0\n",
       "상권_구분_코드_명    0\n",
       "상권_코드         0\n",
       "상권_코드_명       0\n",
       "아파트_단지_수      0\n",
       "아파트_평균_면적     0\n",
       "아파트_평균_시가     0\n",
       "dtype: int64"
      ]
     },
     "execution_count": 124,
     "metadata": {},
     "output_type": "execute_result"
    }
   ],
   "source": [
    "market_apart.isnull().sum()"
   ]
  },
  {
   "cell_type": "code",
   "execution_count": 125,
   "metadata": {},
   "outputs": [],
   "source": [
    "market_sales[\"상권_코드\"]=market_sales.index"
   ]
  },
  {
   "cell_type": "code",
   "execution_count": 126,
   "metadata": {},
   "outputs": [
    {
     "data": {
      "text/html": [
       "<div>\n",
       "<style scoped>\n",
       "    .dataframe tbody tr th:only-of-type {\n",
       "        vertical-align: middle;\n",
       "    }\n",
       "\n",
       "    .dataframe tbody tr th {\n",
       "        vertical-align: top;\n",
       "    }\n",
       "\n",
       "    .dataframe thead th {\n",
       "        text-align: right;\n",
       "    }\n",
       "</style>\n",
       "<table border=\"1\" class=\"dataframe\">\n",
       "  <thead>\n",
       "    <tr style=\"text-align: right;\">\n",
       "      <th></th>\n",
       "      <th>기준_년_코드</th>\n",
       "      <th>기준_분기_코드</th>\n",
       "      <th>당월_매출_금액</th>\n",
       "      <th>당월_매출_건수</th>\n",
       "      <th>점포수</th>\n",
       "      <th>상권_코드</th>\n",
       "    </tr>\n",
       "    <tr>\n",
       "      <th>상권_코드</th>\n",
       "      <th></th>\n",
       "      <th></th>\n",
       "      <th></th>\n",
       "      <th></th>\n",
       "      <th></th>\n",
       "      <th></th>\n",
       "    </tr>\n",
       "  </thead>\n",
       "  <tbody>\n",
       "    <tr>\n",
       "      <th>1000001</th>\n",
       "      <td>36360</td>\n",
       "      <td>36</td>\n",
       "      <td>4.046282e+09</td>\n",
       "      <td>251796</td>\n",
       "      <td>117</td>\n",
       "      <td>1000001</td>\n",
       "    </tr>\n",
       "    <tr>\n",
       "      <th>1000002</th>\n",
       "      <td>28280</td>\n",
       "      <td>28</td>\n",
       "      <td>4.458268e+09</td>\n",
       "      <td>229256</td>\n",
       "      <td>59</td>\n",
       "      <td>1000002</td>\n",
       "    </tr>\n",
       "    <tr>\n",
       "      <th>1000003</th>\n",
       "      <td>48480</td>\n",
       "      <td>48</td>\n",
       "      <td>6.801630e+09</td>\n",
       "      <td>341983</td>\n",
       "      <td>184</td>\n",
       "      <td>1000003</td>\n",
       "    </tr>\n",
       "    <tr>\n",
       "      <th>1000004</th>\n",
       "      <td>34340</td>\n",
       "      <td>34</td>\n",
       "      <td>2.703370e+09</td>\n",
       "      <td>277037</td>\n",
       "      <td>77</td>\n",
       "      <td>1000004</td>\n",
       "    </tr>\n",
       "    <tr>\n",
       "      <th>1000005</th>\n",
       "      <td>22220</td>\n",
       "      <td>22</td>\n",
       "      <td>3.481229e+09</td>\n",
       "      <td>116201</td>\n",
       "      <td>37</td>\n",
       "      <td>1000005</td>\n",
       "    </tr>\n",
       "    <tr>\n",
       "      <th>...</th>\n",
       "      <td>...</td>\n",
       "      <td>...</td>\n",
       "      <td>...</td>\n",
       "      <td>...</td>\n",
       "      <td>...</td>\n",
       "      <td>...</td>\n",
       "    </tr>\n",
       "    <tr>\n",
       "      <th>1001492</th>\n",
       "      <td>111100</td>\n",
       "      <td>110</td>\n",
       "      <td>3.766214e+11</td>\n",
       "      <td>14118041</td>\n",
       "      <td>8201</td>\n",
       "      <td>1001492</td>\n",
       "    </tr>\n",
       "    <tr>\n",
       "      <th>1001493</th>\n",
       "      <td>92920</td>\n",
       "      <td>92</td>\n",
       "      <td>2.469450e+11</td>\n",
       "      <td>8631823</td>\n",
       "      <td>13175</td>\n",
       "      <td>1001493</td>\n",
       "    </tr>\n",
       "    <tr>\n",
       "      <th>1001494</th>\n",
       "      <td>115140</td>\n",
       "      <td>114</td>\n",
       "      <td>2.592398e+11</td>\n",
       "      <td>7588063</td>\n",
       "      <td>5082</td>\n",
       "      <td>1001494</td>\n",
       "    </tr>\n",
       "    <tr>\n",
       "      <th>1001495</th>\n",
       "      <td>86860</td>\n",
       "      <td>86</td>\n",
       "      <td>1.546181e+11</td>\n",
       "      <td>6013108</td>\n",
       "      <td>1923</td>\n",
       "      <td>1001495</td>\n",
       "    </tr>\n",
       "    <tr>\n",
       "      <th>1001496</th>\n",
       "      <td>68680</td>\n",
       "      <td>68</td>\n",
       "      <td>1.671959e+11</td>\n",
       "      <td>3957523</td>\n",
       "      <td>863</td>\n",
       "      <td>1001496</td>\n",
       "    </tr>\n",
       "  </tbody>\n",
       "</table>\n",
       "<p>1485 rows × 6 columns</p>\n",
       "</div>"
      ],
      "text/plain": [
       "         기준_년_코드  기준_분기_코드      당월_매출_금액  당월_매출_건수    점포수    상권_코드\n",
       "상권_코드                                                             \n",
       "1000001    36360        36  4.046282e+09    251796    117  1000001\n",
       "1000002    28280        28  4.458268e+09    229256     59  1000002\n",
       "1000003    48480        48  6.801630e+09    341983    184  1000003\n",
       "1000004    34340        34  2.703370e+09    277037     77  1000004\n",
       "1000005    22220        22  3.481229e+09    116201     37  1000005\n",
       "...          ...       ...           ...       ...    ...      ...\n",
       "1001492   111100       110  3.766214e+11  14118041   8201  1001492\n",
       "1001493    92920        92  2.469450e+11   8631823  13175  1001493\n",
       "1001494   115140       114  2.592398e+11   7588063   5082  1001494\n",
       "1001495    86860        86  1.546181e+11   6013108   1923  1001495\n",
       "1001496    68680        68  1.671959e+11   3957523    863  1001496\n",
       "\n",
       "[1485 rows x 6 columns]"
      ]
     },
     "execution_count": 126,
     "metadata": {},
     "output_type": "execute_result"
    }
   ],
   "source": [
    "market_sales"
   ]
  },
  {
   "cell_type": "code",
   "execution_count": 127,
   "metadata": {},
   "outputs": [
    {
     "name": "stderr",
     "output_type": "stream",
     "text": [
      "<ipython-input-127-f4794f6f4404>:2: SettingWithCopyWarning: \n",
      "A value is trying to be set on a copy of a slice from a DataFrame.\n",
      "Try using .loc[row_indexer,col_indexer] = value instead\n",
      "\n",
      "See the caveats in the documentation: https://pandas.pydata.org/pandas-docs/stable/user_guide/indexing.html#returning-a-view-versus-a-copy\n",
      "  market_sales[\"당월_매출금액/점포수\"] = market_sales[\"당월_매출_금액\"]/market_sales[\"점포수\"]\n"
     ]
    }
   ],
   "source": [
    "market_sales=market_sales[[\"상권_코드\",\"당월_매출_금액\",\"당월_매출_건수\",\"점포수\"]]\n",
    "market_sales[\"당월_매출금액/점포수\"] = market_sales[\"당월_매출_금액\"]/market_sales[\"점포수\"]\n",
    "market_sales[\"당월_매출건수/점포수\"] = market_sales[\"당월_매출_건수\"]/market_sales[\"점포수\"]\n",
    "market_sales.index.names = [\"0\"]"
   ]
  },
  {
   "cell_type": "code",
   "execution_count": 128,
   "metadata": {},
   "outputs": [],
   "source": [
    "market_merge1 =pd.merge(market,market_sales,on=\"상권_코드\",how = \"inner\")"
   ]
  },
  {
   "cell_type": "code",
   "execution_count": 129,
   "metadata": {},
   "outputs": [],
   "source": [
    "market_person=market_person[[\"상권_코드\",\"총_유동인구_수\"]]\n",
    "market_merge2 =pd.merge(market_merge1,market_person,on=\"상권_코드\",how = \"inner\")"
   ]
  },
  {
   "cell_type": "code",
   "execution_count": 130,
   "metadata": {},
   "outputs": [],
   "source": [
    "market_worker=market_worker[[\"상권_코드\",\"총_직장_인구_수\"]]\n",
    "market_merge3 =pd.merge(market_merge2,market_worker,on=\"상권_코드\",how = \"inner\")"
   ]
  },
  {
   "cell_type": "code",
   "execution_count": 131,
   "metadata": {},
   "outputs": [
    {
     "name": "stderr",
     "output_type": "stream",
     "text": [
      "<ipython-input-131-a45a604a6d2c>:2: SettingWithCopyWarning: \n",
      "A value is trying to be set on a copy of a slice from a DataFrame.\n",
      "Try using .loc[row_indexer,col_indexer] = value instead\n",
      "\n",
      "See the caveats in the documentation: https://pandas.pydata.org/pandas-docs/stable/user_guide/indexing.html#returning-a-view-versus-a-copy\n",
      "  market_resid[\"상권_코드\"] = market_resid[\"상권 코드\"]\n"
     ]
    }
   ],
   "source": [
    "market_resid= market_resid[[\"상권 코드\",\"총 상주인구 수\"]]\n",
    "market_resid[\"상권_코드\"] = market_resid[\"상권 코드\"]"
   ]
  },
  {
   "cell_type": "code",
   "execution_count": 132,
   "metadata": {},
   "outputs": [],
   "source": [
    "market_merge4 =pd.merge(market_merge3,market_resid,on=\"상권_코드\",how = \"inner\")"
   ]
  },
  {
   "cell_type": "code",
   "execution_count": 133,
   "metadata": {},
   "outputs": [],
   "source": [
    "market_merge4 =pd.merge(market_merge3,market_resid,on=\"상권_코드\",how = \"inner\")"
   ]
  },
  {
   "cell_type": "code",
   "execution_count": 134,
   "metadata": {},
   "outputs": [],
   "source": [
    "market_apart=market_apart[[\"상권_코드\",\"아파트_단지_수\",\"아파트_평균_면적\",\"아파트_평균_시가\"]]\n",
    "market_merge5 =pd.merge(market_merge4,market_apart,on=\"상권_코드\",how = \"inner\")"
   ]
  },
  {
   "cell_type": "code",
   "execution_count": 135,
   "metadata": {},
   "outputs": [],
   "source": [
    "market_merge5=market_merge5.drop([\"상권 코드\"],axis=1)"
   ]
  },
  {
   "cell_type": "code",
   "execution_count": 136,
   "metadata": {},
   "outputs": [
    {
     "data": {
      "text/html": [
       "<div>\n",
       "<style scoped>\n",
       "    .dataframe tbody tr th:only-of-type {\n",
       "        vertical-align: middle;\n",
       "    }\n",
       "\n",
       "    .dataframe tbody tr th {\n",
       "        vertical-align: top;\n",
       "    }\n",
       "\n",
       "    .dataframe thead th {\n",
       "        text-align: right;\n",
       "    }\n",
       "</style>\n",
       "<table border=\"1\" class=\"dataframe\">\n",
       "  <thead>\n",
       "    <tr style=\"text-align: right;\">\n",
       "      <th></th>\n",
       "      <th>기준_년_코드</th>\n",
       "      <th>기준_분기_코드</th>\n",
       "      <th>상권_구분_코드</th>\n",
       "      <th>상권_구분_코드_명</th>\n",
       "      <th>상권_코드</th>\n",
       "      <th>상권_코드_명</th>\n",
       "      <th>상권_변화_지표</th>\n",
       "      <th>상권_변화_지표_명</th>\n",
       "      <th>운영_영업_개월_평균</th>\n",
       "      <th>폐업_영업_개월_평균</th>\n",
       "      <th>...</th>\n",
       "      <th>당월_매출_건수</th>\n",
       "      <th>점포수</th>\n",
       "      <th>당월_매출금액/점포수</th>\n",
       "      <th>당월_매출건수/점포수</th>\n",
       "      <th>총_유동인구_수</th>\n",
       "      <th>총_직장_인구_수</th>\n",
       "      <th>총 상주인구 수</th>\n",
       "      <th>아파트_단지_수</th>\n",
       "      <th>아파트_평균_면적</th>\n",
       "      <th>아파트_평균_시가</th>\n",
       "    </tr>\n",
       "  </thead>\n",
       "  <tbody>\n",
       "    <tr>\n",
       "      <th>0</th>\n",
       "      <td>2020</td>\n",
       "      <td>2</td>\n",
       "      <td>U</td>\n",
       "      <td>관광특구</td>\n",
       "      <td>1001495</td>\n",
       "      <td>잠실 관광특구</td>\n",
       "      <td>LL</td>\n",
       "      <td>다이나믹</td>\n",
       "      <td>104</td>\n",
       "      <td>53</td>\n",
       "      <td>...</td>\n",
       "      <td>6013108</td>\n",
       "      <td>1923</td>\n",
       "      <td>8.040463e+07</td>\n",
       "      <td>3126.941238</td>\n",
       "      <td>3026454</td>\n",
       "      <td>24375</td>\n",
       "      <td>8221</td>\n",
       "      <td>22</td>\n",
       "      <td>89</td>\n",
       "      <td>527347107</td>\n",
       "    </tr>\n",
       "    <tr>\n",
       "      <th>1</th>\n",
       "      <td>2020</td>\n",
       "      <td>2</td>\n",
       "      <td>U</td>\n",
       "      <td>관광특구</td>\n",
       "      <td>1001494</td>\n",
       "      <td>종로?청계 관광특구</td>\n",
       "      <td>HH</td>\n",
       "      <td>정체</td>\n",
       "      <td>148</td>\n",
       "      <td>72</td>\n",
       "      <td>...</td>\n",
       "      <td>7588063</td>\n",
       "      <td>5082</td>\n",
       "      <td>5.101137e+07</td>\n",
       "      <td>1493.125344</td>\n",
       "      <td>4033679</td>\n",
       "      <td>32935</td>\n",
       "      <td>1924</td>\n",
       "      <td>5</td>\n",
       "      <td>39</td>\n",
       "      <td>112097903</td>\n",
       "    </tr>\n",
       "    <tr>\n",
       "      <th>2</th>\n",
       "      <td>2020</td>\n",
       "      <td>2</td>\n",
       "      <td>U</td>\n",
       "      <td>관광특구</td>\n",
       "      <td>1001493</td>\n",
       "      <td>동대문패션타운 관광특구</td>\n",
       "      <td>HH</td>\n",
       "      <td>정체</td>\n",
       "      <td>122</td>\n",
       "      <td>61</td>\n",
       "      <td>...</td>\n",
       "      <td>8631823</td>\n",
       "      <td>13175</td>\n",
       "      <td>1.874345e+07</td>\n",
       "      <td>655.166831</td>\n",
       "      <td>3262023</td>\n",
       "      <td>6054</td>\n",
       "      <td>2427</td>\n",
       "      <td>8</td>\n",
       "      <td>53</td>\n",
       "      <td>237967427</td>\n",
       "    </tr>\n",
       "    <tr>\n",
       "      <th>3</th>\n",
       "      <td>2020</td>\n",
       "      <td>2</td>\n",
       "      <td>U</td>\n",
       "      <td>관광특구</td>\n",
       "      <td>1001491</td>\n",
       "      <td>이태원 관광특구</td>\n",
       "      <td>HH</td>\n",
       "      <td>정체</td>\n",
       "      <td>121</td>\n",
       "      <td>60</td>\n",
       "      <td>...</td>\n",
       "      <td>2643794</td>\n",
       "      <td>1580</td>\n",
       "      <td>4.699289e+07</td>\n",
       "      <td>1673.287342</td>\n",
       "      <td>1475296</td>\n",
       "      <td>5839</td>\n",
       "      <td>5176</td>\n",
       "      <td>71</td>\n",
       "      <td>82</td>\n",
       "      <td>409473123</td>\n",
       "    </tr>\n",
       "    <tr>\n",
       "      <th>4</th>\n",
       "      <td>2020</td>\n",
       "      <td>2</td>\n",
       "      <td>R</td>\n",
       "      <td>전통시장</td>\n",
       "      <td>1001490</td>\n",
       "      <td>길동복조리시장</td>\n",
       "      <td>HL</td>\n",
       "      <td>상권축소</td>\n",
       "      <td>114</td>\n",
       "      <td>48</td>\n",
       "      <td>...</td>\n",
       "      <td>793668</td>\n",
       "      <td>237</td>\n",
       "      <td>6.622075e+07</td>\n",
       "      <td>3348.810127</td>\n",
       "      <td>868848</td>\n",
       "      <td>430</td>\n",
       "      <td>3097</td>\n",
       "      <td>37</td>\n",
       "      <td>62</td>\n",
       "      <td>183067389</td>\n",
       "    </tr>\n",
       "    <tr>\n",
       "      <th>...</th>\n",
       "      <td>...</td>\n",
       "      <td>...</td>\n",
       "      <td>...</td>\n",
       "      <td>...</td>\n",
       "      <td>...</td>\n",
       "      <td>...</td>\n",
       "      <td>...</td>\n",
       "      <td>...</td>\n",
       "      <td>...</td>\n",
       "      <td>...</td>\n",
       "      <td>...</td>\n",
       "      <td>...</td>\n",
       "      <td>...</td>\n",
       "      <td>...</td>\n",
       "      <td>...</td>\n",
       "      <td>...</td>\n",
       "      <td>...</td>\n",
       "      <td>...</td>\n",
       "      <td>...</td>\n",
       "      <td>...</td>\n",
       "      <td>...</td>\n",
       "    </tr>\n",
       "    <tr>\n",
       "      <th>1323</th>\n",
       "      <td>2020</td>\n",
       "      <td>2</td>\n",
       "      <td>A</td>\n",
       "      <td>골목상권</td>\n",
       "      <td>1000005</td>\n",
       "      <td>백석동길</td>\n",
       "      <td>LL</td>\n",
       "      <td>다이나믹</td>\n",
       "      <td>90</td>\n",
       "      <td>50</td>\n",
       "      <td>...</td>\n",
       "      <td>116201</td>\n",
       "      <td>37</td>\n",
       "      <td>9.408726e+07</td>\n",
       "      <td>3140.567568</td>\n",
       "      <td>177480</td>\n",
       "      <td>1797</td>\n",
       "      <td>1671</td>\n",
       "      <td>41</td>\n",
       "      <td>84</td>\n",
       "      <td>214023214</td>\n",
       "    </tr>\n",
       "    <tr>\n",
       "      <th>1324</th>\n",
       "      <td>2020</td>\n",
       "      <td>2</td>\n",
       "      <td>A</td>\n",
       "      <td>골목상권</td>\n",
       "      <td>1000004</td>\n",
       "      <td>명륜길</td>\n",
       "      <td>LH</td>\n",
       "      <td>상권확장</td>\n",
       "      <td>83</td>\n",
       "      <td>57</td>\n",
       "      <td>...</td>\n",
       "      <td>277037</td>\n",
       "      <td>77</td>\n",
       "      <td>3.510871e+07</td>\n",
       "      <td>3597.883117</td>\n",
       "      <td>642474</td>\n",
       "      <td>56</td>\n",
       "      <td>1442</td>\n",
       "      <td>41</td>\n",
       "      <td>51</td>\n",
       "      <td>105457249</td>\n",
       "    </tr>\n",
       "    <tr>\n",
       "      <th>1325</th>\n",
       "      <td>2020</td>\n",
       "      <td>2</td>\n",
       "      <td>A</td>\n",
       "      <td>골목상권</td>\n",
       "      <td>1000003</td>\n",
       "      <td>돈화문로11가길</td>\n",
       "      <td>HH</td>\n",
       "      <td>정체</td>\n",
       "      <td>114</td>\n",
       "      <td>60</td>\n",
       "      <td>...</td>\n",
       "      <td>341983</td>\n",
       "      <td>184</td>\n",
       "      <td>3.696538e+07</td>\n",
       "      <td>1858.603261</td>\n",
       "      <td>173334</td>\n",
       "      <td>3686</td>\n",
       "      <td>1214</td>\n",
       "      <td>5</td>\n",
       "      <td>35</td>\n",
       "      <td>161118305</td>\n",
       "    </tr>\n",
       "    <tr>\n",
       "      <th>1326</th>\n",
       "      <td>2020</td>\n",
       "      <td>2</td>\n",
       "      <td>A</td>\n",
       "      <td>골목상권</td>\n",
       "      <td>1000002</td>\n",
       "      <td>난계로27길</td>\n",
       "      <td>HL</td>\n",
       "      <td>상권축소</td>\n",
       "      <td>120</td>\n",
       "      <td>48</td>\n",
       "      <td>...</td>\n",
       "      <td>229256</td>\n",
       "      <td>59</td>\n",
       "      <td>7.556387e+07</td>\n",
       "      <td>3885.694915</td>\n",
       "      <td>374141</td>\n",
       "      <td>201</td>\n",
       "      <td>941</td>\n",
       "      <td>5</td>\n",
       "      <td>15</td>\n",
       "      <td>87700490</td>\n",
       "    </tr>\n",
       "    <tr>\n",
       "      <th>1327</th>\n",
       "      <td>2020</td>\n",
       "      <td>2</td>\n",
       "      <td>A</td>\n",
       "      <td>골목상권</td>\n",
       "      <td>1000001</td>\n",
       "      <td>계동길</td>\n",
       "      <td>LH</td>\n",
       "      <td>상권확장</td>\n",
       "      <td>97</td>\n",
       "      <td>57</td>\n",
       "      <td>...</td>\n",
       "      <td>251796</td>\n",
       "      <td>117</td>\n",
       "      <td>3.458361e+07</td>\n",
       "      <td>2152.102564</td>\n",
       "      <td>308310</td>\n",
       "      <td>842</td>\n",
       "      <td>1800</td>\n",
       "      <td>26</td>\n",
       "      <td>69</td>\n",
       "      <td>249322039</td>\n",
       "    </tr>\n",
       "  </tbody>\n",
       "</table>\n",
       "<p>1328 rows × 21 columns</p>\n",
       "</div>"
      ],
      "text/plain": [
       "      기준_년_코드  기준_분기_코드 상권_구분_코드 상권_구분_코드_명    상권_코드       상권_코드_명 상권_변화_지표  \\\n",
       "0        2020         2        U       관광특구  1001495       잠실 관광특구       LL   \n",
       "1        2020         2        U       관광특구  1001494    종로?청계 관광특구       HH   \n",
       "2        2020         2        U       관광특구  1001493  동대문패션타운 관광특구       HH   \n",
       "3        2020         2        U       관광특구  1001491      이태원 관광특구       HH   \n",
       "4        2020         2        R       전통시장  1001490       길동복조리시장       HL   \n",
       "...       ...       ...      ...        ...      ...           ...      ...   \n",
       "1323     2020         2        A       골목상권  1000005          백석동길       LL   \n",
       "1324     2020         2        A       골목상권  1000004           명륜길       LH   \n",
       "1325     2020         2        A       골목상권  1000003      돈화문로11가길       HH   \n",
       "1326     2020         2        A       골목상권  1000002        난계로27길       HL   \n",
       "1327     2020         2        A       골목상권  1000001           계동길       LH   \n",
       "\n",
       "     상권_변화_지표_명  운영_영업_개월_평균  폐업_영업_개월_평균  ...  당월_매출_건수    점포수   당월_매출금액/점포수  \\\n",
       "0          다이나믹          104           53  ...   6013108   1923  8.040463e+07   \n",
       "1            정체          148           72  ...   7588063   5082  5.101137e+07   \n",
       "2            정체          122           61  ...   8631823  13175  1.874345e+07   \n",
       "3            정체          121           60  ...   2643794   1580  4.699289e+07   \n",
       "4          상권축소          114           48  ...    793668    237  6.622075e+07   \n",
       "...         ...          ...          ...  ...       ...    ...           ...   \n",
       "1323       다이나믹           90           50  ...    116201     37  9.408726e+07   \n",
       "1324       상권확장           83           57  ...    277037     77  3.510871e+07   \n",
       "1325         정체          114           60  ...    341983    184  3.696538e+07   \n",
       "1326       상권축소          120           48  ...    229256     59  7.556387e+07   \n",
       "1327       상권확장           97           57  ...    251796    117  3.458361e+07   \n",
       "\n",
       "      당월_매출건수/점포수  총_유동인구_수  총_직장_인구_수  총 상주인구 수  아파트_단지_수  아파트_평균_면적  \\\n",
       "0     3126.941238   3026454      24375      8221        22         89   \n",
       "1     1493.125344   4033679      32935      1924         5         39   \n",
       "2      655.166831   3262023       6054      2427         8         53   \n",
       "3     1673.287342   1475296       5839      5176        71         82   \n",
       "4     3348.810127    868848        430      3097        37         62   \n",
       "...           ...       ...        ...       ...       ...        ...   \n",
       "1323  3140.567568    177480       1797      1671        41         84   \n",
       "1324  3597.883117    642474         56      1442        41         51   \n",
       "1325  1858.603261    173334       3686      1214         5         35   \n",
       "1326  3885.694915    374141        201       941         5         15   \n",
       "1327  2152.102564    308310        842      1800        26         69   \n",
       "\n",
       "      아파트_평균_시가  \n",
       "0     527347107  \n",
       "1     112097903  \n",
       "2     237967427  \n",
       "3     409473123  \n",
       "4     183067389  \n",
       "...         ...  \n",
       "1323  214023214  \n",
       "1324  105457249  \n",
       "1325  161118305  \n",
       "1326   87700490  \n",
       "1327  249322039  \n",
       "\n",
       "[1328 rows x 21 columns]"
      ]
     },
     "execution_count": 136,
     "metadata": {},
     "output_type": "execute_result"
    }
   ],
   "source": [
    "market_merge5"
   ]
  },
  {
   "cell_type": "code",
   "execution_count": 137,
   "metadata": {},
   "outputs": [],
   "source": [
    "market_region = pd.read_csv(\"C:/Users/user/Desktop/이종은프로젝트/서울시 우리마을가게 상권분석서비스(상권영역).csv\", encoding='euc-kr')\n",
    "market_region= market_region[[\"상권_코드\",\"시군구_코드\"]]\n",
    "market_merge6= pd.merge(market_merge5,market_region,on=\"상권_코드\",how = \"inner\")"
   ]
  },
  {
   "cell_type": "code",
   "execution_count": 138,
   "metadata": {
    "scrolled": true
   },
   "outputs": [
    {
     "data": {
      "text/html": [
       "<div>\n",
       "<style scoped>\n",
       "    .dataframe tbody tr th:only-of-type {\n",
       "        vertical-align: middle;\n",
       "    }\n",
       "\n",
       "    .dataframe tbody tr th {\n",
       "        vertical-align: top;\n",
       "    }\n",
       "\n",
       "    .dataframe thead th {\n",
       "        text-align: right;\n",
       "    }\n",
       "</style>\n",
       "<table border=\"1\" class=\"dataframe\">\n",
       "  <thead>\n",
       "    <tr style=\"text-align: right;\">\n",
       "      <th></th>\n",
       "      <th>기준_년_코드</th>\n",
       "      <th>기준_분기_코드</th>\n",
       "      <th>상권_구분_코드</th>\n",
       "      <th>상권_구분_코드_명</th>\n",
       "      <th>상권_코드</th>\n",
       "      <th>상권_코드_명</th>\n",
       "      <th>상권_변화_지표</th>\n",
       "      <th>상권_변화_지표_명</th>\n",
       "      <th>운영_영업_개월_평균</th>\n",
       "      <th>폐업_영업_개월_평균</th>\n",
       "      <th>...</th>\n",
       "      <th>점포수</th>\n",
       "      <th>당월_매출금액/점포수</th>\n",
       "      <th>당월_매출건수/점포수</th>\n",
       "      <th>총_유동인구_수</th>\n",
       "      <th>총_직장_인구_수</th>\n",
       "      <th>총 상주인구 수</th>\n",
       "      <th>아파트_단지_수</th>\n",
       "      <th>아파트_평균_면적</th>\n",
       "      <th>아파트_평균_시가</th>\n",
       "      <th>시군구_코드</th>\n",
       "    </tr>\n",
       "  </thead>\n",
       "  <tbody>\n",
       "    <tr>\n",
       "      <th>0</th>\n",
       "      <td>2020</td>\n",
       "      <td>2</td>\n",
       "      <td>U</td>\n",
       "      <td>관광특구</td>\n",
       "      <td>1001495</td>\n",
       "      <td>잠실 관광특구</td>\n",
       "      <td>LL</td>\n",
       "      <td>다이나믹</td>\n",
       "      <td>104</td>\n",
       "      <td>53</td>\n",
       "      <td>...</td>\n",
       "      <td>1923</td>\n",
       "      <td>8.040463e+07</td>\n",
       "      <td>3126.941238</td>\n",
       "      <td>3026454</td>\n",
       "      <td>24375</td>\n",
       "      <td>8221</td>\n",
       "      <td>22</td>\n",
       "      <td>89</td>\n",
       "      <td>527347107</td>\n",
       "      <td>11710</td>\n",
       "    </tr>\n",
       "    <tr>\n",
       "      <th>1</th>\n",
       "      <td>2020</td>\n",
       "      <td>2</td>\n",
       "      <td>U</td>\n",
       "      <td>관광특구</td>\n",
       "      <td>1001494</td>\n",
       "      <td>종로?청계 관광특구</td>\n",
       "      <td>HH</td>\n",
       "      <td>정체</td>\n",
       "      <td>148</td>\n",
       "      <td>72</td>\n",
       "      <td>...</td>\n",
       "      <td>5082</td>\n",
       "      <td>5.101137e+07</td>\n",
       "      <td>1493.125344</td>\n",
       "      <td>4033679</td>\n",
       "      <td>32935</td>\n",
       "      <td>1924</td>\n",
       "      <td>5</td>\n",
       "      <td>39</td>\n",
       "      <td>112097903</td>\n",
       "      <td>11110</td>\n",
       "    </tr>\n",
       "    <tr>\n",
       "      <th>2</th>\n",
       "      <td>2020</td>\n",
       "      <td>2</td>\n",
       "      <td>U</td>\n",
       "      <td>관광특구</td>\n",
       "      <td>1001493</td>\n",
       "      <td>동대문패션타운 관광특구</td>\n",
       "      <td>HH</td>\n",
       "      <td>정체</td>\n",
       "      <td>122</td>\n",
       "      <td>61</td>\n",
       "      <td>...</td>\n",
       "      <td>13175</td>\n",
       "      <td>1.874345e+07</td>\n",
       "      <td>655.166831</td>\n",
       "      <td>3262023</td>\n",
       "      <td>6054</td>\n",
       "      <td>2427</td>\n",
       "      <td>8</td>\n",
       "      <td>53</td>\n",
       "      <td>237967427</td>\n",
       "      <td>11140</td>\n",
       "    </tr>\n",
       "    <tr>\n",
       "      <th>3</th>\n",
       "      <td>2020</td>\n",
       "      <td>2</td>\n",
       "      <td>U</td>\n",
       "      <td>관광특구</td>\n",
       "      <td>1001491</td>\n",
       "      <td>이태원 관광특구</td>\n",
       "      <td>HH</td>\n",
       "      <td>정체</td>\n",
       "      <td>121</td>\n",
       "      <td>60</td>\n",
       "      <td>...</td>\n",
       "      <td>1580</td>\n",
       "      <td>4.699289e+07</td>\n",
       "      <td>1673.287342</td>\n",
       "      <td>1475296</td>\n",
       "      <td>5839</td>\n",
       "      <td>5176</td>\n",
       "      <td>71</td>\n",
       "      <td>82</td>\n",
       "      <td>409473123</td>\n",
       "      <td>11170</td>\n",
       "    </tr>\n",
       "    <tr>\n",
       "      <th>4</th>\n",
       "      <td>2020</td>\n",
       "      <td>2</td>\n",
       "      <td>R</td>\n",
       "      <td>전통시장</td>\n",
       "      <td>1001490</td>\n",
       "      <td>길동복조리시장</td>\n",
       "      <td>HL</td>\n",
       "      <td>상권축소</td>\n",
       "      <td>114</td>\n",
       "      <td>48</td>\n",
       "      <td>...</td>\n",
       "      <td>237</td>\n",
       "      <td>6.622075e+07</td>\n",
       "      <td>3348.810127</td>\n",
       "      <td>868848</td>\n",
       "      <td>430</td>\n",
       "      <td>3097</td>\n",
       "      <td>37</td>\n",
       "      <td>62</td>\n",
       "      <td>183067389</td>\n",
       "      <td>11740</td>\n",
       "    </tr>\n",
       "    <tr>\n",
       "      <th>...</th>\n",
       "      <td>...</td>\n",
       "      <td>...</td>\n",
       "      <td>...</td>\n",
       "      <td>...</td>\n",
       "      <td>...</td>\n",
       "      <td>...</td>\n",
       "      <td>...</td>\n",
       "      <td>...</td>\n",
       "      <td>...</td>\n",
       "      <td>...</td>\n",
       "      <td>...</td>\n",
       "      <td>...</td>\n",
       "      <td>...</td>\n",
       "      <td>...</td>\n",
       "      <td>...</td>\n",
       "      <td>...</td>\n",
       "      <td>...</td>\n",
       "      <td>...</td>\n",
       "      <td>...</td>\n",
       "      <td>...</td>\n",
       "      <td>...</td>\n",
       "    </tr>\n",
       "    <tr>\n",
       "      <th>1323</th>\n",
       "      <td>2020</td>\n",
       "      <td>2</td>\n",
       "      <td>A</td>\n",
       "      <td>골목상권</td>\n",
       "      <td>1000005</td>\n",
       "      <td>백석동길</td>\n",
       "      <td>LL</td>\n",
       "      <td>다이나믹</td>\n",
       "      <td>90</td>\n",
       "      <td>50</td>\n",
       "      <td>...</td>\n",
       "      <td>37</td>\n",
       "      <td>9.408726e+07</td>\n",
       "      <td>3140.567568</td>\n",
       "      <td>177480</td>\n",
       "      <td>1797</td>\n",
       "      <td>1671</td>\n",
       "      <td>41</td>\n",
       "      <td>84</td>\n",
       "      <td>214023214</td>\n",
       "      <td>11110</td>\n",
       "    </tr>\n",
       "    <tr>\n",
       "      <th>1324</th>\n",
       "      <td>2020</td>\n",
       "      <td>2</td>\n",
       "      <td>A</td>\n",
       "      <td>골목상권</td>\n",
       "      <td>1000004</td>\n",
       "      <td>명륜길</td>\n",
       "      <td>LH</td>\n",
       "      <td>상권확장</td>\n",
       "      <td>83</td>\n",
       "      <td>57</td>\n",
       "      <td>...</td>\n",
       "      <td>77</td>\n",
       "      <td>3.510871e+07</td>\n",
       "      <td>3597.883117</td>\n",
       "      <td>642474</td>\n",
       "      <td>56</td>\n",
       "      <td>1442</td>\n",
       "      <td>41</td>\n",
       "      <td>51</td>\n",
       "      <td>105457249</td>\n",
       "      <td>11110</td>\n",
       "    </tr>\n",
       "    <tr>\n",
       "      <th>1325</th>\n",
       "      <td>2020</td>\n",
       "      <td>2</td>\n",
       "      <td>A</td>\n",
       "      <td>골목상권</td>\n",
       "      <td>1000003</td>\n",
       "      <td>돈화문로11가길</td>\n",
       "      <td>HH</td>\n",
       "      <td>정체</td>\n",
       "      <td>114</td>\n",
       "      <td>60</td>\n",
       "      <td>...</td>\n",
       "      <td>184</td>\n",
       "      <td>3.696538e+07</td>\n",
       "      <td>1858.603261</td>\n",
       "      <td>173334</td>\n",
       "      <td>3686</td>\n",
       "      <td>1214</td>\n",
       "      <td>5</td>\n",
       "      <td>35</td>\n",
       "      <td>161118305</td>\n",
       "      <td>11110</td>\n",
       "    </tr>\n",
       "    <tr>\n",
       "      <th>1326</th>\n",
       "      <td>2020</td>\n",
       "      <td>2</td>\n",
       "      <td>A</td>\n",
       "      <td>골목상권</td>\n",
       "      <td>1000002</td>\n",
       "      <td>난계로27길</td>\n",
       "      <td>HL</td>\n",
       "      <td>상권축소</td>\n",
       "      <td>120</td>\n",
       "      <td>48</td>\n",
       "      <td>...</td>\n",
       "      <td>59</td>\n",
       "      <td>7.556387e+07</td>\n",
       "      <td>3885.694915</td>\n",
       "      <td>374141</td>\n",
       "      <td>201</td>\n",
       "      <td>941</td>\n",
       "      <td>5</td>\n",
       "      <td>15</td>\n",
       "      <td>87700490</td>\n",
       "      <td>11110</td>\n",
       "    </tr>\n",
       "    <tr>\n",
       "      <th>1327</th>\n",
       "      <td>2020</td>\n",
       "      <td>2</td>\n",
       "      <td>A</td>\n",
       "      <td>골목상권</td>\n",
       "      <td>1000001</td>\n",
       "      <td>계동길</td>\n",
       "      <td>LH</td>\n",
       "      <td>상권확장</td>\n",
       "      <td>97</td>\n",
       "      <td>57</td>\n",
       "      <td>...</td>\n",
       "      <td>117</td>\n",
       "      <td>3.458361e+07</td>\n",
       "      <td>2152.102564</td>\n",
       "      <td>308310</td>\n",
       "      <td>842</td>\n",
       "      <td>1800</td>\n",
       "      <td>26</td>\n",
       "      <td>69</td>\n",
       "      <td>249322039</td>\n",
       "      <td>11110</td>\n",
       "    </tr>\n",
       "  </tbody>\n",
       "</table>\n",
       "<p>1328 rows × 22 columns</p>\n",
       "</div>"
      ],
      "text/plain": [
       "      기준_년_코드  기준_분기_코드 상권_구분_코드 상권_구분_코드_명    상권_코드       상권_코드_명 상권_변화_지표  \\\n",
       "0        2020         2        U       관광특구  1001495       잠실 관광특구       LL   \n",
       "1        2020         2        U       관광특구  1001494    종로?청계 관광특구       HH   \n",
       "2        2020         2        U       관광특구  1001493  동대문패션타운 관광특구       HH   \n",
       "3        2020         2        U       관광특구  1001491      이태원 관광특구       HH   \n",
       "4        2020         2        R       전통시장  1001490       길동복조리시장       HL   \n",
       "...       ...       ...      ...        ...      ...           ...      ...   \n",
       "1323     2020         2        A       골목상권  1000005          백석동길       LL   \n",
       "1324     2020         2        A       골목상권  1000004           명륜길       LH   \n",
       "1325     2020         2        A       골목상권  1000003      돈화문로11가길       HH   \n",
       "1326     2020         2        A       골목상권  1000002        난계로27길       HL   \n",
       "1327     2020         2        A       골목상권  1000001           계동길       LH   \n",
       "\n",
       "     상권_변화_지표_명  운영_영업_개월_평균  폐업_영업_개월_평균  ...    점포수   당월_매출금액/점포수  \\\n",
       "0          다이나믹          104           53  ...   1923  8.040463e+07   \n",
       "1            정체          148           72  ...   5082  5.101137e+07   \n",
       "2            정체          122           61  ...  13175  1.874345e+07   \n",
       "3            정체          121           60  ...   1580  4.699289e+07   \n",
       "4          상권축소          114           48  ...    237  6.622075e+07   \n",
       "...         ...          ...          ...  ...    ...           ...   \n",
       "1323       다이나믹           90           50  ...     37  9.408726e+07   \n",
       "1324       상권확장           83           57  ...     77  3.510871e+07   \n",
       "1325         정체          114           60  ...    184  3.696538e+07   \n",
       "1326       상권축소          120           48  ...     59  7.556387e+07   \n",
       "1327       상권확장           97           57  ...    117  3.458361e+07   \n",
       "\n",
       "      당월_매출건수/점포수  총_유동인구_수  총_직장_인구_수  총 상주인구 수  아파트_단지_수  아파트_평균_면적  \\\n",
       "0     3126.941238   3026454      24375      8221        22         89   \n",
       "1     1493.125344   4033679      32935      1924         5         39   \n",
       "2      655.166831   3262023       6054      2427         8         53   \n",
       "3     1673.287342   1475296       5839      5176        71         82   \n",
       "4     3348.810127    868848        430      3097        37         62   \n",
       "...           ...       ...        ...       ...       ...        ...   \n",
       "1323  3140.567568    177480       1797      1671        41         84   \n",
       "1324  3597.883117    642474         56      1442        41         51   \n",
       "1325  1858.603261    173334       3686      1214         5         35   \n",
       "1326  3885.694915    374141        201       941         5         15   \n",
       "1327  2152.102564    308310        842      1800        26         69   \n",
       "\n",
       "      아파트_평균_시가  시군구_코드  \n",
       "0     527347107   11710  \n",
       "1     112097903   11110  \n",
       "2     237967427   11140  \n",
       "3     409473123   11170  \n",
       "4     183067389   11740  \n",
       "...         ...     ...  \n",
       "1323  214023214   11110  \n",
       "1324  105457249   11110  \n",
       "1325  161118305   11110  \n",
       "1326   87700490   11110  \n",
       "1327  249322039   11110  \n",
       "\n",
       "[1328 rows x 22 columns]"
      ]
     },
     "execution_count": 138,
     "metadata": {},
     "output_type": "execute_result"
    }
   ],
   "source": [
    "market_merge6"
   ]
  },
  {
   "cell_type": "code",
   "execution_count": 139,
   "metadata": {},
   "outputs": [],
   "source": [
    "market_merge6.to_csv(\"2020년_2분기_상권분석.csv\",encoding='utf-8-sig',index = False)"
   ]
  },
  {
   "cell_type": "code",
   "execution_count": 104,
   "metadata": {},
   "outputs": [],
   "source": [
    "# 1차 전처리 끝 -> 2020년_2분기_상권 분석.csv 파일로 병합"
   ]
  },
  {
   "cell_type": "code",
   "execution_count": 67,
   "metadata": {},
   "outputs": [],
   "source": [
    "############################################################"
   ]
  },
  {
   "cell_type": "code",
   "execution_count": 7,
   "metadata": {},
   "outputs": [
    {
     "name": "stdout",
     "output_type": "stream",
     "text": [
      "Collecting graphviz\n",
      "  Downloading graphviz-0.15-py2.py3-none-any.whl (18 kB)\n",
      "Installing collected packages: graphviz\n",
      "Successfully installed graphviz-0.15\n",
      "Note: you may need to restart the kernel to use updated packages.\n"
     ]
    }
   ],
   "source": [
    "pip install graphviz"
   ]
  },
  {
   "cell_type": "code",
   "execution_count": 9,
   "metadata": {},
   "outputs": [
    {
     "name": "stdout",
     "output_type": "stream",
     "text": [
      "Collecting pydotplus\n",
      "  Downloading pydotplus-2.0.2.tar.gz (278 kB)\n",
      "Requirement already satisfied: pyparsing>=2.0.1 in c:\\users\\user\\anaconda3\\lib\\site-packages (from pydotplus) (2.4.7)\n",
      "Building wheels for collected packages: pydotplus\n",
      "  Building wheel for pydotplus (setup.py): started\n",
      "  Building wheel for pydotplus (setup.py): finished with status 'done'\n",
      "  Created wheel for pydotplus: filename=pydotplus-2.0.2-py3-none-any.whl size=24572 sha256=33a349ee2cc5d567803fb516dbe29792b2106d22063afb9f308459480bdeafdd\n",
      "  Stored in directory: c:\\users\\user\\appdata\\local\\pip\\cache\\wheels\\fe\\cd\\78\\a7e873cc049759194f8271f780640cf96b35e5a48bef0e2f36\n",
      "Successfully built pydotplus\n",
      "Installing collected packages: pydotplus\n",
      "Successfully installed pydotplus-2.0.2\n",
      "Note: you may need to restart the kernel to use updated packages.\n"
     ]
    }
   ],
   "source": [
    "pip install pydotplus"
   ]
  },
  {
   "cell_type": "code",
   "execution_count": 11,
   "metadata": {},
   "outputs": [
    {
     "name": "stdout",
     "output_type": "stream",
     "text": [
      "Collecting pydot\n",
      "  Downloading pydot-1.4.1-py2.py3-none-any.whl (19 kB)\n",
      "Requirement already satisfied: pyparsing>=2.1.4 in c:\\users\\user\\anaconda3\\lib\\site-packages (from pydot) (2.4.7)\n",
      "Installing collected packages: pydot\n",
      "Successfully installed pydot-1.4.1\n",
      "Note: you may need to restart the kernel to use updated packages.\n"
     ]
    }
   ],
   "source": [
    "pip install pydot"
   ]
  },
  {
   "cell_type": "code",
   "execution_count": 141,
   "metadata": {},
   "outputs": [],
   "source": [
    "import pydot\n",
    "import graphviz\n",
    "import pydotplus\n",
    "import matplotlib\n",
    "import numpy as np\n",
    "import seaborn as sns\n",
    "import statsmodels.api as sm\n",
    "import matplotlib.pyplot as plt\n",
    "\n",
    "from sklearn import metrics\n",
    "from sklearn.metrics import confusion_matrix\n",
    "from sklearn.tree import DecisionTreeClassifier\n",
    "from sklearn.model_selection import GridSearchCV\n",
    "from sklearn.model_selection import train_test_split\n",
    "from sklearn.metrics import accuracy_score , precision_score , recall_score"
   ]
  },
  {
   "cell_type": "markdown",
   "metadata": {},
   "source": [
    "### 데이터로드"
   ]
  },
  {
   "cell_type": "code",
   "execution_count": 2,
   "metadata": {
    "scrolled": true
   },
   "outputs": [
    {
     "data": {
      "text/html": [
       "<div>\n",
       "<style scoped>\n",
       "    .dataframe tbody tr th:only-of-type {\n",
       "        vertical-align: middle;\n",
       "    }\n",
       "\n",
       "    .dataframe tbody tr th {\n",
       "        vertical-align: top;\n",
       "    }\n",
       "\n",
       "    .dataframe thead th {\n",
       "        text-align: right;\n",
       "    }\n",
       "</style>\n",
       "<table border=\"1\" class=\"dataframe\">\n",
       "  <thead>\n",
       "    <tr style=\"text-align: right;\">\n",
       "      <th></th>\n",
       "      <th>기준_년_코드</th>\n",
       "      <th>기준_분기_코드</th>\n",
       "      <th>상권_구분_코드</th>\n",
       "      <th>상권_구분_코드_명</th>\n",
       "      <th>상권_코드</th>\n",
       "      <th>상권_코드_명</th>\n",
       "      <th>상권_변화_지표</th>\n",
       "      <th>상권_변화_지표_명</th>\n",
       "      <th>운영_영업_개월_평균</th>\n",
       "      <th>폐업_영업_개월_평균</th>\n",
       "      <th>...</th>\n",
       "      <th>점포수</th>\n",
       "      <th>당월_매출금액/점포수</th>\n",
       "      <th>당월_매출건수/점포수</th>\n",
       "      <th>총_유동인구_수</th>\n",
       "      <th>총_직장_인구_수</th>\n",
       "      <th>총 상주인구 수</th>\n",
       "      <th>아파트_단지_수</th>\n",
       "      <th>아파트_평균_면적</th>\n",
       "      <th>아파트_평균_시가</th>\n",
       "      <th>시군구_코드</th>\n",
       "    </tr>\n",
       "  </thead>\n",
       "  <tbody>\n",
       "    <tr>\n",
       "      <th>0</th>\n",
       "      <td>2020</td>\n",
       "      <td>2</td>\n",
       "      <td>U</td>\n",
       "      <td>관광특구</td>\n",
       "      <td>1001495</td>\n",
       "      <td>잠실 관광특구</td>\n",
       "      <td>LL</td>\n",
       "      <td>다이나믹</td>\n",
       "      <td>104</td>\n",
       "      <td>53</td>\n",
       "      <td>...</td>\n",
       "      <td>1923</td>\n",
       "      <td>8.040463e+07</td>\n",
       "      <td>3126.941238</td>\n",
       "      <td>3026454</td>\n",
       "      <td>24375</td>\n",
       "      <td>8221</td>\n",
       "      <td>22</td>\n",
       "      <td>89</td>\n",
       "      <td>527347107</td>\n",
       "      <td>11710</td>\n",
       "    </tr>\n",
       "    <tr>\n",
       "      <th>1</th>\n",
       "      <td>2020</td>\n",
       "      <td>2</td>\n",
       "      <td>U</td>\n",
       "      <td>관광특구</td>\n",
       "      <td>1001494</td>\n",
       "      <td>종로?청계 관광특구</td>\n",
       "      <td>HH</td>\n",
       "      <td>정체</td>\n",
       "      <td>148</td>\n",
       "      <td>72</td>\n",
       "      <td>...</td>\n",
       "      <td>5082</td>\n",
       "      <td>5.101137e+07</td>\n",
       "      <td>1493.125344</td>\n",
       "      <td>4033679</td>\n",
       "      <td>32935</td>\n",
       "      <td>1924</td>\n",
       "      <td>5</td>\n",
       "      <td>39</td>\n",
       "      <td>112097903</td>\n",
       "      <td>11110</td>\n",
       "    </tr>\n",
       "    <tr>\n",
       "      <th>2</th>\n",
       "      <td>2020</td>\n",
       "      <td>2</td>\n",
       "      <td>U</td>\n",
       "      <td>관광특구</td>\n",
       "      <td>1001493</td>\n",
       "      <td>동대문패션타운 관광특구</td>\n",
       "      <td>HH</td>\n",
       "      <td>정체</td>\n",
       "      <td>122</td>\n",
       "      <td>61</td>\n",
       "      <td>...</td>\n",
       "      <td>13175</td>\n",
       "      <td>1.874345e+07</td>\n",
       "      <td>655.166831</td>\n",
       "      <td>3262023</td>\n",
       "      <td>6054</td>\n",
       "      <td>2427</td>\n",
       "      <td>8</td>\n",
       "      <td>53</td>\n",
       "      <td>237967427</td>\n",
       "      <td>11140</td>\n",
       "    </tr>\n",
       "    <tr>\n",
       "      <th>3</th>\n",
       "      <td>2020</td>\n",
       "      <td>2</td>\n",
       "      <td>U</td>\n",
       "      <td>관광특구</td>\n",
       "      <td>1001491</td>\n",
       "      <td>이태원 관광특구</td>\n",
       "      <td>HH</td>\n",
       "      <td>정체</td>\n",
       "      <td>121</td>\n",
       "      <td>60</td>\n",
       "      <td>...</td>\n",
       "      <td>1580</td>\n",
       "      <td>4.699289e+07</td>\n",
       "      <td>1673.287342</td>\n",
       "      <td>1475296</td>\n",
       "      <td>5839</td>\n",
       "      <td>5176</td>\n",
       "      <td>71</td>\n",
       "      <td>82</td>\n",
       "      <td>409473123</td>\n",
       "      <td>11170</td>\n",
       "    </tr>\n",
       "    <tr>\n",
       "      <th>4</th>\n",
       "      <td>2020</td>\n",
       "      <td>2</td>\n",
       "      <td>R</td>\n",
       "      <td>전통시장</td>\n",
       "      <td>1001490</td>\n",
       "      <td>길동복조리시장</td>\n",
       "      <td>HL</td>\n",
       "      <td>상권축소</td>\n",
       "      <td>114</td>\n",
       "      <td>48</td>\n",
       "      <td>...</td>\n",
       "      <td>237</td>\n",
       "      <td>6.622075e+07</td>\n",
       "      <td>3348.810127</td>\n",
       "      <td>868848</td>\n",
       "      <td>430</td>\n",
       "      <td>3097</td>\n",
       "      <td>37</td>\n",
       "      <td>62</td>\n",
       "      <td>183067389</td>\n",
       "      <td>11740</td>\n",
       "    </tr>\n",
       "  </tbody>\n",
       "</table>\n",
       "<p>5 rows × 22 columns</p>\n",
       "</div>"
      ],
      "text/plain": [
       "   기준_년_코드  기준_분기_코드 상권_구분_코드 상권_구분_코드_명    상권_코드       상권_코드_명 상권_변화_지표  \\\n",
       "0     2020         2        U       관광특구  1001495       잠실 관광특구       LL   \n",
       "1     2020         2        U       관광특구  1001494    종로?청계 관광특구       HH   \n",
       "2     2020         2        U       관광특구  1001493  동대문패션타운 관광특구       HH   \n",
       "3     2020         2        U       관광특구  1001491      이태원 관광특구       HH   \n",
       "4     2020         2        R       전통시장  1001490       길동복조리시장       HL   \n",
       "\n",
       "  상권_변화_지표_명  운영_영업_개월_평균  폐업_영업_개월_평균  ...    점포수   당월_매출금액/점포수  당월_매출건수/점포수  \\\n",
       "0       다이나믹          104           53  ...   1923  8.040463e+07  3126.941238   \n",
       "1         정체          148           72  ...   5082  5.101137e+07  1493.125344   \n",
       "2         정체          122           61  ...  13175  1.874345e+07   655.166831   \n",
       "3         정체          121           60  ...   1580  4.699289e+07  1673.287342   \n",
       "4       상권축소          114           48  ...    237  6.622075e+07  3348.810127   \n",
       "\n",
       "   총_유동인구_수  총_직장_인구_수  총 상주인구 수  아파트_단지_수  아파트_평균_면적  아파트_평균_시가  시군구_코드  \n",
       "0   3026454      24375      8221        22         89  527347107   11710  \n",
       "1   4033679      32935      1924         5         39  112097903   11110  \n",
       "2   3262023       6054      2427         8         53  237967427   11140  \n",
       "3   1475296       5839      5176        71         82  409473123   11170  \n",
       "4    868848        430      3097        37         62  183067389   11740  \n",
       "\n",
       "[5 rows x 22 columns]"
      ]
     },
     "execution_count": 2,
     "metadata": {},
     "output_type": "execute_result"
    }
   ],
   "source": [
    "market = pd.read_csv(\"2020년_2분기_상권분석.csv\")\n",
    "market.head()"
   ]
  },
  {
   "cell_type": "markdown",
   "metadata": {},
   "source": [
    "## EDA"
   ]
  },
  {
   "cell_type": "markdown",
   "metadata": {},
   "source": [
    "### 사용하지 않을 변수 제거"
   ]
  },
  {
   "cell_type": "code",
   "execution_count": 3,
   "metadata": {},
   "outputs": [],
   "source": [
    "market=market.drop([ '기준_년_코드', '기준_분기_코드', '상권_구분_코드',\"상권_코드\",\"상권_코드_명\",\"상권_변화_지표_명\",\"당월_매출_금액\",\"당월_매출_건수\",\"시군구_코드\",\"운영_영업_개월_평균\",\"폐업_영업_개월_평균\"],axis=1)"
   ]
  },
  {
   "cell_type": "code",
   "execution_count": 4,
   "metadata": {},
   "outputs": [
    {
     "data": {
      "text/html": [
       "<div>\n",
       "<style scoped>\n",
       "    .dataframe tbody tr th:only-of-type {\n",
       "        vertical-align: middle;\n",
       "    }\n",
       "\n",
       "    .dataframe tbody tr th {\n",
       "        vertical-align: top;\n",
       "    }\n",
       "\n",
       "    .dataframe thead th {\n",
       "        text-align: right;\n",
       "    }\n",
       "</style>\n",
       "<table border=\"1\" class=\"dataframe\">\n",
       "  <thead>\n",
       "    <tr style=\"text-align: right;\">\n",
       "      <th></th>\n",
       "      <th>상권_구분_코드_명</th>\n",
       "      <th>상권_변화_지표</th>\n",
       "      <th>점포수</th>\n",
       "      <th>당월_매출금액/점포수</th>\n",
       "      <th>당월_매출건수/점포수</th>\n",
       "      <th>총_유동인구_수</th>\n",
       "      <th>총_직장_인구_수</th>\n",
       "      <th>총 상주인구 수</th>\n",
       "      <th>아파트_단지_수</th>\n",
       "      <th>아파트_평균_면적</th>\n",
       "      <th>아파트_평균_시가</th>\n",
       "    </tr>\n",
       "  </thead>\n",
       "  <tbody>\n",
       "    <tr>\n",
       "      <th>0</th>\n",
       "      <td>관광특구</td>\n",
       "      <td>LL</td>\n",
       "      <td>1923</td>\n",
       "      <td>8.040463e+07</td>\n",
       "      <td>3126.941238</td>\n",
       "      <td>3026454</td>\n",
       "      <td>24375</td>\n",
       "      <td>8221</td>\n",
       "      <td>22</td>\n",
       "      <td>89</td>\n",
       "      <td>527347107</td>\n",
       "    </tr>\n",
       "    <tr>\n",
       "      <th>1</th>\n",
       "      <td>관광특구</td>\n",
       "      <td>HH</td>\n",
       "      <td>5082</td>\n",
       "      <td>5.101137e+07</td>\n",
       "      <td>1493.125344</td>\n",
       "      <td>4033679</td>\n",
       "      <td>32935</td>\n",
       "      <td>1924</td>\n",
       "      <td>5</td>\n",
       "      <td>39</td>\n",
       "      <td>112097903</td>\n",
       "    </tr>\n",
       "    <tr>\n",
       "      <th>2</th>\n",
       "      <td>관광특구</td>\n",
       "      <td>HH</td>\n",
       "      <td>13175</td>\n",
       "      <td>1.874345e+07</td>\n",
       "      <td>655.166831</td>\n",
       "      <td>3262023</td>\n",
       "      <td>6054</td>\n",
       "      <td>2427</td>\n",
       "      <td>8</td>\n",
       "      <td>53</td>\n",
       "      <td>237967427</td>\n",
       "    </tr>\n",
       "    <tr>\n",
       "      <th>3</th>\n",
       "      <td>관광특구</td>\n",
       "      <td>HH</td>\n",
       "      <td>1580</td>\n",
       "      <td>4.699289e+07</td>\n",
       "      <td>1673.287342</td>\n",
       "      <td>1475296</td>\n",
       "      <td>5839</td>\n",
       "      <td>5176</td>\n",
       "      <td>71</td>\n",
       "      <td>82</td>\n",
       "      <td>409473123</td>\n",
       "    </tr>\n",
       "    <tr>\n",
       "      <th>4</th>\n",
       "      <td>전통시장</td>\n",
       "      <td>HL</td>\n",
       "      <td>237</td>\n",
       "      <td>6.622075e+07</td>\n",
       "      <td>3348.810127</td>\n",
       "      <td>868848</td>\n",
       "      <td>430</td>\n",
       "      <td>3097</td>\n",
       "      <td>37</td>\n",
       "      <td>62</td>\n",
       "      <td>183067389</td>\n",
       "    </tr>\n",
       "    <tr>\n",
       "      <th>...</th>\n",
       "      <td>...</td>\n",
       "      <td>...</td>\n",
       "      <td>...</td>\n",
       "      <td>...</td>\n",
       "      <td>...</td>\n",
       "      <td>...</td>\n",
       "      <td>...</td>\n",
       "      <td>...</td>\n",
       "      <td>...</td>\n",
       "      <td>...</td>\n",
       "      <td>...</td>\n",
       "    </tr>\n",
       "    <tr>\n",
       "      <th>1323</th>\n",
       "      <td>골목상권</td>\n",
       "      <td>LL</td>\n",
       "      <td>37</td>\n",
       "      <td>9.408726e+07</td>\n",
       "      <td>3140.567568</td>\n",
       "      <td>177480</td>\n",
       "      <td>1797</td>\n",
       "      <td>1671</td>\n",
       "      <td>41</td>\n",
       "      <td>84</td>\n",
       "      <td>214023214</td>\n",
       "    </tr>\n",
       "    <tr>\n",
       "      <th>1324</th>\n",
       "      <td>골목상권</td>\n",
       "      <td>LH</td>\n",
       "      <td>77</td>\n",
       "      <td>3.510871e+07</td>\n",
       "      <td>3597.883117</td>\n",
       "      <td>642474</td>\n",
       "      <td>56</td>\n",
       "      <td>1442</td>\n",
       "      <td>41</td>\n",
       "      <td>51</td>\n",
       "      <td>105457249</td>\n",
       "    </tr>\n",
       "    <tr>\n",
       "      <th>1325</th>\n",
       "      <td>골목상권</td>\n",
       "      <td>HH</td>\n",
       "      <td>184</td>\n",
       "      <td>3.696538e+07</td>\n",
       "      <td>1858.603261</td>\n",
       "      <td>173334</td>\n",
       "      <td>3686</td>\n",
       "      <td>1214</td>\n",
       "      <td>5</td>\n",
       "      <td>35</td>\n",
       "      <td>161118305</td>\n",
       "    </tr>\n",
       "    <tr>\n",
       "      <th>1326</th>\n",
       "      <td>골목상권</td>\n",
       "      <td>HL</td>\n",
       "      <td>59</td>\n",
       "      <td>7.556387e+07</td>\n",
       "      <td>3885.694915</td>\n",
       "      <td>374141</td>\n",
       "      <td>201</td>\n",
       "      <td>941</td>\n",
       "      <td>5</td>\n",
       "      <td>15</td>\n",
       "      <td>87700490</td>\n",
       "    </tr>\n",
       "    <tr>\n",
       "      <th>1327</th>\n",
       "      <td>골목상권</td>\n",
       "      <td>LH</td>\n",
       "      <td>117</td>\n",
       "      <td>3.458361e+07</td>\n",
       "      <td>2152.102564</td>\n",
       "      <td>308310</td>\n",
       "      <td>842</td>\n",
       "      <td>1800</td>\n",
       "      <td>26</td>\n",
       "      <td>69</td>\n",
       "      <td>249322039</td>\n",
       "    </tr>\n",
       "  </tbody>\n",
       "</table>\n",
       "<p>1328 rows × 11 columns</p>\n",
       "</div>"
      ],
      "text/plain": [
       "     상권_구분_코드_명 상권_변화_지표    점포수   당월_매출금액/점포수  당월_매출건수/점포수  총_유동인구_수  \\\n",
       "0          관광특구       LL   1923  8.040463e+07  3126.941238   3026454   \n",
       "1          관광특구       HH   5082  5.101137e+07  1493.125344   4033679   \n",
       "2          관광특구       HH  13175  1.874345e+07   655.166831   3262023   \n",
       "3          관광특구       HH   1580  4.699289e+07  1673.287342   1475296   \n",
       "4          전통시장       HL    237  6.622075e+07  3348.810127    868848   \n",
       "...         ...      ...    ...           ...          ...       ...   \n",
       "1323       골목상권       LL     37  9.408726e+07  3140.567568    177480   \n",
       "1324       골목상권       LH     77  3.510871e+07  3597.883117    642474   \n",
       "1325       골목상권       HH    184  3.696538e+07  1858.603261    173334   \n",
       "1326       골목상권       HL     59  7.556387e+07  3885.694915    374141   \n",
       "1327       골목상권       LH    117  3.458361e+07  2152.102564    308310   \n",
       "\n",
       "      총_직장_인구_수  총 상주인구 수  아파트_단지_수  아파트_평균_면적  아파트_평균_시가  \n",
       "0         24375      8221        22         89  527347107  \n",
       "1         32935      1924         5         39  112097903  \n",
       "2          6054      2427         8         53  237967427  \n",
       "3          5839      5176        71         82  409473123  \n",
       "4           430      3097        37         62  183067389  \n",
       "...         ...       ...       ...        ...        ...  \n",
       "1323       1797      1671        41         84  214023214  \n",
       "1324         56      1442        41         51  105457249  \n",
       "1325       3686      1214         5         35  161118305  \n",
       "1326        201       941         5         15   87700490  \n",
       "1327        842      1800        26         69  249322039  \n",
       "\n",
       "[1328 rows x 11 columns]"
      ]
     },
     "execution_count": 4,
     "metadata": {},
     "output_type": "execute_result"
    }
   ],
   "source": [
    "market"
   ]
  },
  {
   "cell_type": "markdown",
   "metadata": {},
   "source": [
    "### 상권_변화_지표 이진범주화"
   ]
  },
  {
   "cell_type": "code",
   "execution_count": 5,
   "metadata": {},
   "outputs": [],
   "source": [
    "change_target = {\"LL\":1,\"LH\":1,\"HL\":0,\"HH\":0}\n",
    "market[\"상권_변화_지표\"] = market[\"상권_변화_지표\"].apply(lambda x : change_target[x])"
   ]
  },
  {
   "cell_type": "code",
   "execution_count": 6,
   "metadata": {},
   "outputs": [
    {
     "data": {
      "text/html": [
       "<div>\n",
       "<style scoped>\n",
       "    .dataframe tbody tr th:only-of-type {\n",
       "        vertical-align: middle;\n",
       "    }\n",
       "\n",
       "    .dataframe tbody tr th {\n",
       "        vertical-align: top;\n",
       "    }\n",
       "\n",
       "    .dataframe thead th {\n",
       "        text-align: right;\n",
       "    }\n",
       "</style>\n",
       "<table border=\"1\" class=\"dataframe\">\n",
       "  <thead>\n",
       "    <tr style=\"text-align: right;\">\n",
       "      <th></th>\n",
       "      <th>상권_구분_코드_명</th>\n",
       "      <th>상권_변화_지표</th>\n",
       "      <th>점포수</th>\n",
       "      <th>당월_매출금액/점포수</th>\n",
       "      <th>당월_매출건수/점포수</th>\n",
       "      <th>총_유동인구_수</th>\n",
       "      <th>총_직장_인구_수</th>\n",
       "      <th>총 상주인구 수</th>\n",
       "      <th>아파트_단지_수</th>\n",
       "      <th>아파트_평균_면적</th>\n",
       "      <th>아파트_평균_시가</th>\n",
       "    </tr>\n",
       "  </thead>\n",
       "  <tbody>\n",
       "    <tr>\n",
       "      <th>0</th>\n",
       "      <td>관광특구</td>\n",
       "      <td>1</td>\n",
       "      <td>1923</td>\n",
       "      <td>8.040463e+07</td>\n",
       "      <td>3126.941238</td>\n",
       "      <td>3026454</td>\n",
       "      <td>24375</td>\n",
       "      <td>8221</td>\n",
       "      <td>22</td>\n",
       "      <td>89</td>\n",
       "      <td>527347107</td>\n",
       "    </tr>\n",
       "    <tr>\n",
       "      <th>1</th>\n",
       "      <td>관광특구</td>\n",
       "      <td>0</td>\n",
       "      <td>5082</td>\n",
       "      <td>5.101137e+07</td>\n",
       "      <td>1493.125344</td>\n",
       "      <td>4033679</td>\n",
       "      <td>32935</td>\n",
       "      <td>1924</td>\n",
       "      <td>5</td>\n",
       "      <td>39</td>\n",
       "      <td>112097903</td>\n",
       "    </tr>\n",
       "    <tr>\n",
       "      <th>2</th>\n",
       "      <td>관광특구</td>\n",
       "      <td>0</td>\n",
       "      <td>13175</td>\n",
       "      <td>1.874345e+07</td>\n",
       "      <td>655.166831</td>\n",
       "      <td>3262023</td>\n",
       "      <td>6054</td>\n",
       "      <td>2427</td>\n",
       "      <td>8</td>\n",
       "      <td>53</td>\n",
       "      <td>237967427</td>\n",
       "    </tr>\n",
       "    <tr>\n",
       "      <th>3</th>\n",
       "      <td>관광특구</td>\n",
       "      <td>0</td>\n",
       "      <td>1580</td>\n",
       "      <td>4.699289e+07</td>\n",
       "      <td>1673.287342</td>\n",
       "      <td>1475296</td>\n",
       "      <td>5839</td>\n",
       "      <td>5176</td>\n",
       "      <td>71</td>\n",
       "      <td>82</td>\n",
       "      <td>409473123</td>\n",
       "    </tr>\n",
       "    <tr>\n",
       "      <th>4</th>\n",
       "      <td>전통시장</td>\n",
       "      <td>0</td>\n",
       "      <td>237</td>\n",
       "      <td>6.622075e+07</td>\n",
       "      <td>3348.810127</td>\n",
       "      <td>868848</td>\n",
       "      <td>430</td>\n",
       "      <td>3097</td>\n",
       "      <td>37</td>\n",
       "      <td>62</td>\n",
       "      <td>183067389</td>\n",
       "    </tr>\n",
       "    <tr>\n",
       "      <th>...</th>\n",
       "      <td>...</td>\n",
       "      <td>...</td>\n",
       "      <td>...</td>\n",
       "      <td>...</td>\n",
       "      <td>...</td>\n",
       "      <td>...</td>\n",
       "      <td>...</td>\n",
       "      <td>...</td>\n",
       "      <td>...</td>\n",
       "      <td>...</td>\n",
       "      <td>...</td>\n",
       "    </tr>\n",
       "    <tr>\n",
       "      <th>1323</th>\n",
       "      <td>골목상권</td>\n",
       "      <td>1</td>\n",
       "      <td>37</td>\n",
       "      <td>9.408726e+07</td>\n",
       "      <td>3140.567568</td>\n",
       "      <td>177480</td>\n",
       "      <td>1797</td>\n",
       "      <td>1671</td>\n",
       "      <td>41</td>\n",
       "      <td>84</td>\n",
       "      <td>214023214</td>\n",
       "    </tr>\n",
       "    <tr>\n",
       "      <th>1324</th>\n",
       "      <td>골목상권</td>\n",
       "      <td>1</td>\n",
       "      <td>77</td>\n",
       "      <td>3.510871e+07</td>\n",
       "      <td>3597.883117</td>\n",
       "      <td>642474</td>\n",
       "      <td>56</td>\n",
       "      <td>1442</td>\n",
       "      <td>41</td>\n",
       "      <td>51</td>\n",
       "      <td>105457249</td>\n",
       "    </tr>\n",
       "    <tr>\n",
       "      <th>1325</th>\n",
       "      <td>골목상권</td>\n",
       "      <td>0</td>\n",
       "      <td>184</td>\n",
       "      <td>3.696538e+07</td>\n",
       "      <td>1858.603261</td>\n",
       "      <td>173334</td>\n",
       "      <td>3686</td>\n",
       "      <td>1214</td>\n",
       "      <td>5</td>\n",
       "      <td>35</td>\n",
       "      <td>161118305</td>\n",
       "    </tr>\n",
       "    <tr>\n",
       "      <th>1326</th>\n",
       "      <td>골목상권</td>\n",
       "      <td>0</td>\n",
       "      <td>59</td>\n",
       "      <td>7.556387e+07</td>\n",
       "      <td>3885.694915</td>\n",
       "      <td>374141</td>\n",
       "      <td>201</td>\n",
       "      <td>941</td>\n",
       "      <td>5</td>\n",
       "      <td>15</td>\n",
       "      <td>87700490</td>\n",
       "    </tr>\n",
       "    <tr>\n",
       "      <th>1327</th>\n",
       "      <td>골목상권</td>\n",
       "      <td>1</td>\n",
       "      <td>117</td>\n",
       "      <td>3.458361e+07</td>\n",
       "      <td>2152.102564</td>\n",
       "      <td>308310</td>\n",
       "      <td>842</td>\n",
       "      <td>1800</td>\n",
       "      <td>26</td>\n",
       "      <td>69</td>\n",
       "      <td>249322039</td>\n",
       "    </tr>\n",
       "  </tbody>\n",
       "</table>\n",
       "<p>1328 rows × 11 columns</p>\n",
       "</div>"
      ],
      "text/plain": [
       "     상권_구분_코드_명  상권_변화_지표    점포수   당월_매출금액/점포수  당월_매출건수/점포수  총_유동인구_수  \\\n",
       "0          관광특구         1   1923  8.040463e+07  3126.941238   3026454   \n",
       "1          관광특구         0   5082  5.101137e+07  1493.125344   4033679   \n",
       "2          관광특구         0  13175  1.874345e+07   655.166831   3262023   \n",
       "3          관광특구         0   1580  4.699289e+07  1673.287342   1475296   \n",
       "4          전통시장         0    237  6.622075e+07  3348.810127    868848   \n",
       "...         ...       ...    ...           ...          ...       ...   \n",
       "1323       골목상권         1     37  9.408726e+07  3140.567568    177480   \n",
       "1324       골목상권         1     77  3.510871e+07  3597.883117    642474   \n",
       "1325       골목상권         0    184  3.696538e+07  1858.603261    173334   \n",
       "1326       골목상권         0     59  7.556387e+07  3885.694915    374141   \n",
       "1327       골목상권         1    117  3.458361e+07  2152.102564    308310   \n",
       "\n",
       "      총_직장_인구_수  총 상주인구 수  아파트_단지_수  아파트_평균_면적  아파트_평균_시가  \n",
       "0         24375      8221        22         89  527347107  \n",
       "1         32935      1924         5         39  112097903  \n",
       "2          6054      2427         8         53  237967427  \n",
       "3          5839      5176        71         82  409473123  \n",
       "4           430      3097        37         62  183067389  \n",
       "...         ...       ...       ...        ...        ...  \n",
       "1323       1797      1671        41         84  214023214  \n",
       "1324         56      1442        41         51  105457249  \n",
       "1325       3686      1214         5         35  161118305  \n",
       "1326        201       941         5         15   87700490  \n",
       "1327        842      1800        26         69  249322039  \n",
       "\n",
       "[1328 rows x 11 columns]"
      ]
     },
     "execution_count": 6,
     "metadata": {},
     "output_type": "execute_result"
    }
   ],
   "source": [
    "market"
   ]
  },
  {
   "cell_type": "code",
   "execution_count": 7,
   "metadata": {},
   "outputs": [],
   "source": [
    "market.to_csv(\"상권분석_전처리.csv\",encoding='utf-8-sig')"
   ]
  },
  {
   "cell_type": "markdown",
   "metadata": {},
   "source": [
    "## 기술통계량"
   ]
  },
  {
   "cell_type": "code",
   "execution_count": 8,
   "metadata": {},
   "outputs": [
    {
     "data": {
      "text/html": [
       "<div>\n",
       "<style scoped>\n",
       "    .dataframe tbody tr th:only-of-type {\n",
       "        vertical-align: middle;\n",
       "    }\n",
       "\n",
       "    .dataframe tbody tr th {\n",
       "        vertical-align: top;\n",
       "    }\n",
       "\n",
       "    .dataframe thead th {\n",
       "        text-align: right;\n",
       "    }\n",
       "</style>\n",
       "<table border=\"1\" class=\"dataframe\">\n",
       "  <thead>\n",
       "    <tr style=\"text-align: right;\">\n",
       "      <th></th>\n",
       "      <th>상권_변화_지표</th>\n",
       "      <th>점포수</th>\n",
       "      <th>당월_매출금액/점포수</th>\n",
       "      <th>당월_매출건수/점포수</th>\n",
       "      <th>총_유동인구_수</th>\n",
       "      <th>총_직장_인구_수</th>\n",
       "      <th>총 상주인구 수</th>\n",
       "      <th>아파트_단지_수</th>\n",
       "      <th>아파트_평균_면적</th>\n",
       "      <th>아파트_평균_시가</th>\n",
       "    </tr>\n",
       "  </thead>\n",
       "  <tbody>\n",
       "    <tr>\n",
       "      <th>count</th>\n",
       "      <td>1328.000000</td>\n",
       "      <td>1328.000000</td>\n",
       "      <td>1.328000e+03</td>\n",
       "      <td>1328.000000</td>\n",
       "      <td>1.328000e+03</td>\n",
       "      <td>1328.000000</td>\n",
       "      <td>1328.000000</td>\n",
       "      <td>1328.000000</td>\n",
       "      <td>1328.000000</td>\n",
       "      <td>1.328000e+03</td>\n",
       "    </tr>\n",
       "    <tr>\n",
       "      <th>mean</th>\n",
       "      <td>0.555723</td>\n",
       "      <td>173.893825</td>\n",
       "      <td>6.290829e+07</td>\n",
       "      <td>3123.277799</td>\n",
       "      <td>6.817118e+05</td>\n",
       "      <td>1341.046687</td>\n",
       "      <td>2128.430723</td>\n",
       "      <td>34.253765</td>\n",
       "      <td>54.913404</td>\n",
       "      <td>2.111928e+08</td>\n",
       "    </tr>\n",
       "    <tr>\n",
       "      <th>std</th>\n",
       "      <td>0.497072</td>\n",
       "      <td>455.175205</td>\n",
       "      <td>6.946691e+07</td>\n",
       "      <td>3772.178819</td>\n",
       "      <td>4.855698e+05</td>\n",
       "      <td>3941.096875</td>\n",
       "      <td>1385.662628</td>\n",
       "      <td>38.369986</td>\n",
       "      <td>17.517889</td>\n",
       "      <td>1.476371e+08</td>\n",
       "    </tr>\n",
       "    <tr>\n",
       "      <th>min</th>\n",
       "      <td>0.000000</td>\n",
       "      <td>1.000000</td>\n",
       "      <td>3.013030e+06</td>\n",
       "      <td>61.400000</td>\n",
       "      <td>2.195900e+04</td>\n",
       "      <td>2.000000</td>\n",
       "      <td>42.000000</td>\n",
       "      <td>1.000000</td>\n",
       "      <td>13.000000</td>\n",
       "      <td>2.281951e+07</td>\n",
       "    </tr>\n",
       "    <tr>\n",
       "      <th>25%</th>\n",
       "      <td>0.000000</td>\n",
       "      <td>62.000000</td>\n",
       "      <td>3.718134e+07</td>\n",
       "      <td>1935.405495</td>\n",
       "      <td>3.663348e+05</td>\n",
       "      <td>120.750000</td>\n",
       "      <td>1041.000000</td>\n",
       "      <td>8.000000</td>\n",
       "      <td>47.000000</td>\n",
       "      <td>1.367866e+08</td>\n",
       "    </tr>\n",
       "    <tr>\n",
       "      <th>50%</th>\n",
       "      <td>1.000000</td>\n",
       "      <td>99.000000</td>\n",
       "      <td>5.282407e+07</td>\n",
       "      <td>2769.597355</td>\n",
       "      <td>5.852925e+05</td>\n",
       "      <td>286.500000</td>\n",
       "      <td>1959.000000</td>\n",
       "      <td>23.000000</td>\n",
       "      <td>52.000000</td>\n",
       "      <td>1.693912e+08</td>\n",
       "    </tr>\n",
       "    <tr>\n",
       "      <th>75%</th>\n",
       "      <td>1.000000</td>\n",
       "      <td>160.000000</td>\n",
       "      <td>7.197018e+07</td>\n",
       "      <td>3658.909166</td>\n",
       "      <td>8.863190e+05</td>\n",
       "      <td>844.000000</td>\n",
       "      <td>2934.250000</td>\n",
       "      <td>47.000000</td>\n",
       "      <td>58.000000</td>\n",
       "      <td>2.266425e+08</td>\n",
       "    </tr>\n",
       "    <tr>\n",
       "      <th>max</th>\n",
       "      <td>1.000000</td>\n",
       "      <td>13175.000000</td>\n",
       "      <td>1.783928e+09</td>\n",
       "      <td>124494.000000</td>\n",
       "      <td>4.739973e+06</td>\n",
       "      <td>43655.000000</td>\n",
       "      <td>10594.000000</td>\n",
       "      <td>472.000000</td>\n",
       "      <td>196.000000</td>\n",
       "      <td>2.018349e+09</td>\n",
       "    </tr>\n",
       "  </tbody>\n",
       "</table>\n",
       "</div>"
      ],
      "text/plain": [
       "          상권_변화_지표           점포수   당월_매출금액/점포수    당월_매출건수/점포수      총_유동인구_수  \\\n",
       "count  1328.000000   1328.000000  1.328000e+03    1328.000000  1.328000e+03   \n",
       "mean      0.555723    173.893825  6.290829e+07    3123.277799  6.817118e+05   \n",
       "std       0.497072    455.175205  6.946691e+07    3772.178819  4.855698e+05   \n",
       "min       0.000000      1.000000  3.013030e+06      61.400000  2.195900e+04   \n",
       "25%       0.000000     62.000000  3.718134e+07    1935.405495  3.663348e+05   \n",
       "50%       1.000000     99.000000  5.282407e+07    2769.597355  5.852925e+05   \n",
       "75%       1.000000    160.000000  7.197018e+07    3658.909166  8.863190e+05   \n",
       "max       1.000000  13175.000000  1.783928e+09  124494.000000  4.739973e+06   \n",
       "\n",
       "          총_직장_인구_수      총 상주인구 수     아파트_단지_수    아파트_평균_면적     아파트_평균_시가  \n",
       "count   1328.000000   1328.000000  1328.000000  1328.000000  1.328000e+03  \n",
       "mean    1341.046687   2128.430723    34.253765    54.913404  2.111928e+08  \n",
       "std     3941.096875   1385.662628    38.369986    17.517889  1.476371e+08  \n",
       "min        2.000000     42.000000     1.000000    13.000000  2.281951e+07  \n",
       "25%      120.750000   1041.000000     8.000000    47.000000  1.367866e+08  \n",
       "50%      286.500000   1959.000000    23.000000    52.000000  1.693912e+08  \n",
       "75%      844.000000   2934.250000    47.000000    58.000000  2.266425e+08  \n",
       "max    43655.000000  10594.000000   472.000000   196.000000  2.018349e+09  "
      ]
     },
     "execution_count": 8,
     "metadata": {},
     "output_type": "execute_result"
    }
   ],
   "source": [
    "market.describe()"
   ]
  },
  {
   "cell_type": "markdown",
   "metadata": {},
   "source": [
    "## 상관관계"
   ]
  },
  {
   "cell_type": "code",
   "execution_count": 9,
   "metadata": {},
   "outputs": [
    {
     "data": {
      "text/html": [
       "<div>\n",
       "<style scoped>\n",
       "    .dataframe tbody tr th:only-of-type {\n",
       "        vertical-align: middle;\n",
       "    }\n",
       "\n",
       "    .dataframe tbody tr th {\n",
       "        vertical-align: top;\n",
       "    }\n",
       "\n",
       "    .dataframe thead th {\n",
       "        text-align: right;\n",
       "    }\n",
       "</style>\n",
       "<table border=\"1\" class=\"dataframe\">\n",
       "  <thead>\n",
       "    <tr style=\"text-align: right;\">\n",
       "      <th></th>\n",
       "      <th>점포수</th>\n",
       "      <th>당월_매출금액/점포수</th>\n",
       "      <th>당월_매출건수/점포수</th>\n",
       "      <th>총_유동인구_수</th>\n",
       "      <th>총_직장_인구_수</th>\n",
       "      <th>총 상주인구 수</th>\n",
       "      <th>아파트_단지_수</th>\n",
       "      <th>아파트_평균_면적</th>\n",
       "      <th>아파트_평균_시가</th>\n",
       "    </tr>\n",
       "  </thead>\n",
       "  <tbody>\n",
       "    <tr>\n",
       "      <th>점포수</th>\n",
       "      <td>1.000000</td>\n",
       "      <td>0.021319</td>\n",
       "      <td>-0.031921</td>\n",
       "      <td>0.401432</td>\n",
       "      <td>0.362575</td>\n",
       "      <td>0.031626</td>\n",
       "      <td>-0.047363</td>\n",
       "      <td>0.032123</td>\n",
       "      <td>0.077947</td>\n",
       "    </tr>\n",
       "    <tr>\n",
       "      <th>당월_매출금액/점포수</th>\n",
       "      <td>0.021319</td>\n",
       "      <td>1.000000</td>\n",
       "      <td>0.729161</td>\n",
       "      <td>-0.135340</td>\n",
       "      <td>0.065519</td>\n",
       "      <td>-0.187168</td>\n",
       "      <td>-0.125143</td>\n",
       "      <td>0.128273</td>\n",
       "      <td>0.156690</td>\n",
       "    </tr>\n",
       "    <tr>\n",
       "      <th>당월_매출건수/점포수</th>\n",
       "      <td>-0.031921</td>\n",
       "      <td>0.729161</td>\n",
       "      <td>1.000000</td>\n",
       "      <td>-0.071551</td>\n",
       "      <td>0.022532</td>\n",
       "      <td>-0.069152</td>\n",
       "      <td>-0.060873</td>\n",
       "      <td>-0.006362</td>\n",
       "      <td>-0.007484</td>\n",
       "    </tr>\n",
       "    <tr>\n",
       "      <th>총_유동인구_수</th>\n",
       "      <td>0.401432</td>\n",
       "      <td>-0.135340</td>\n",
       "      <td>-0.071551</td>\n",
       "      <td>1.000000</td>\n",
       "      <td>0.244883</td>\n",
       "      <td>0.564730</td>\n",
       "      <td>0.365408</td>\n",
       "      <td>-0.099622</td>\n",
       "      <td>-0.066575</td>\n",
       "    </tr>\n",
       "    <tr>\n",
       "      <th>총_직장_인구_수</th>\n",
       "      <td>0.362575</td>\n",
       "      <td>0.065519</td>\n",
       "      <td>0.022532</td>\n",
       "      <td>0.244883</td>\n",
       "      <td>1.000000</td>\n",
       "      <td>0.006194</td>\n",
       "      <td>-0.050976</td>\n",
       "      <td>0.217318</td>\n",
       "      <td>0.290599</td>\n",
       "    </tr>\n",
       "    <tr>\n",
       "      <th>총 상주인구 수</th>\n",
       "      <td>0.031626</td>\n",
       "      <td>-0.187168</td>\n",
       "      <td>-0.069152</td>\n",
       "      <td>0.564730</td>\n",
       "      <td>0.006194</td>\n",
       "      <td>1.000000</td>\n",
       "      <td>0.690155</td>\n",
       "      <td>-0.059028</td>\n",
       "      <td>-0.105557</td>\n",
       "    </tr>\n",
       "    <tr>\n",
       "      <th>아파트_단지_수</th>\n",
       "      <td>-0.047363</td>\n",
       "      <td>-0.125143</td>\n",
       "      <td>-0.060873</td>\n",
       "      <td>0.365408</td>\n",
       "      <td>-0.050976</td>\n",
       "      <td>0.690155</td>\n",
       "      <td>1.000000</td>\n",
       "      <td>-0.112769</td>\n",
       "      <td>-0.160079</td>\n",
       "    </tr>\n",
       "    <tr>\n",
       "      <th>아파트_평균_면적</th>\n",
       "      <td>0.032123</td>\n",
       "      <td>0.128273</td>\n",
       "      <td>-0.006362</td>\n",
       "      <td>-0.099622</td>\n",
       "      <td>0.217318</td>\n",
       "      <td>-0.059028</td>\n",
       "      <td>-0.112769</td>\n",
       "      <td>1.000000</td>\n",
       "      <td>0.744096</td>\n",
       "    </tr>\n",
       "    <tr>\n",
       "      <th>아파트_평균_시가</th>\n",
       "      <td>0.077947</td>\n",
       "      <td>0.156690</td>\n",
       "      <td>-0.007484</td>\n",
       "      <td>-0.066575</td>\n",
       "      <td>0.290599</td>\n",
       "      <td>-0.105557</td>\n",
       "      <td>-0.160079</td>\n",
       "      <td>0.744096</td>\n",
       "      <td>1.000000</td>\n",
       "    </tr>\n",
       "  </tbody>\n",
       "</table>\n",
       "</div>"
      ],
      "text/plain": [
       "                  점포수  당월_매출금액/점포수  당월_매출건수/점포수  총_유동인구_수  총_직장_인구_수  \\\n",
       "점포수          1.000000     0.021319    -0.031921  0.401432   0.362575   \n",
       "당월_매출금액/점포수  0.021319     1.000000     0.729161 -0.135340   0.065519   \n",
       "당월_매출건수/점포수 -0.031921     0.729161     1.000000 -0.071551   0.022532   \n",
       "총_유동인구_수     0.401432    -0.135340    -0.071551  1.000000   0.244883   \n",
       "총_직장_인구_수    0.362575     0.065519     0.022532  0.244883   1.000000   \n",
       "총 상주인구 수     0.031626    -0.187168    -0.069152  0.564730   0.006194   \n",
       "아파트_단지_수    -0.047363    -0.125143    -0.060873  0.365408  -0.050976   \n",
       "아파트_평균_면적    0.032123     0.128273    -0.006362 -0.099622   0.217318   \n",
       "아파트_평균_시가    0.077947     0.156690    -0.007484 -0.066575   0.290599   \n",
       "\n",
       "             총 상주인구 수  아파트_단지_수  아파트_평균_면적  아파트_평균_시가  \n",
       "점포수          0.031626 -0.047363   0.032123   0.077947  \n",
       "당월_매출금액/점포수 -0.187168 -0.125143   0.128273   0.156690  \n",
       "당월_매출건수/점포수 -0.069152 -0.060873  -0.006362  -0.007484  \n",
       "총_유동인구_수     0.564730  0.365408  -0.099622  -0.066575  \n",
       "총_직장_인구_수    0.006194 -0.050976   0.217318   0.290599  \n",
       "총 상주인구 수     1.000000  0.690155  -0.059028  -0.105557  \n",
       "아파트_단지_수     0.690155  1.000000  -0.112769  -0.160079  \n",
       "아파트_평균_면적   -0.059028 -0.112769   1.000000   0.744096  \n",
       "아파트_평균_시가   -0.105557 -0.160079   0.744096   1.000000  "
      ]
     },
     "execution_count": 9,
     "metadata": {},
     "output_type": "execute_result"
    }
   ],
   "source": [
    "cor_market=market.drop([\"상권_변화_지표\"],axis=1).corr()\n",
    "cor_market"
   ]
  },
  {
   "cell_type": "code",
   "execution_count": 10,
   "metadata": {},
   "outputs": [
    {
     "data": {
      "image/png": "[encoded data removed]",
      "text/plain": [
       "<Figure size 504x504 with 2 Axes>"
      ]
     },
     "metadata": {
      "needs_background": "light"
     },
     "output_type": "display_data"
    }
   ],
   "source": [
    "plt.figure(figsize=(7,7))\n",
    "plt.rc(\"font\", family='NanumGothic')\n",
    "matplotlib.rcParams['axes.unicode_minus'] = False\n",
    "sns.heatmap(cor_market, \n",
    "               annot = True, \n",
    "            fmt = '.2f',# 실제 값 화면에 나타내기\n",
    "               cmap = 'RdBu_r',  # Red, Yellow, Blue 색상으로 표시\n",
    "               vmin = -1, vmax = 1, #컬러차트 -1 ~ 1 범위로 표시\n",
    "              )\n",
    "plt.savefig(\"corr_plot.png\")"
   ]
  },
  {
   "cell_type": "markdown",
   "metadata": {},
   "source": [
    "## 변수별 분포파악"
   ]
  },
  {
   "cell_type": "markdown",
   "metadata": {},
   "source": [
    "#### 범주형 변수 빈도파악\n",
    " "
   ]
  },
  {
   "cell_type": "markdown",
   "metadata": {},
   "source": [
    "#### 상권구분코드명"
   ]
  },
  {
   "cell_type": "code",
   "execution_count": 11,
   "metadata": {},
   "outputs": [
    {
     "data": {
      "text/plain": [
       "골목상권    988\n",
       "발달상권    194\n",
       "전통시장    142\n",
       "관광특구      4\n",
       "Name: 상권_구분_코드_명, dtype: int64"
      ]
     },
     "execution_count": 11,
     "metadata": {},
     "output_type": "execute_result"
    }
   ],
   "source": [
    "market_kinds=market[\"상권_구분_코드_명\"].value_counts()\n",
    "market_kinds"
   ]
  },
  {
   "cell_type": "code",
   "execution_count": 12,
   "metadata": {},
   "outputs": [
    {
     "data": {
      "text/plain": [
       "<matplotlib.axes._subplots.AxesSubplot at 0x182d2fd62c8>"
      ]
     },
     "execution_count": 12,
     "metadata": {},
     "output_type": "execute_result"
    },
    {
     "data": {
      "image/png": "[encoded data removed]",
      "text/plain": [
       "<Figure size 432x288 with 1 Axes>"
      ]
     },
     "metadata": {
      "needs_background": "light"
     },
     "output_type": "display_data"
    }
   ],
   "source": [
    "sns.set_palette(\"Set2\",12)\n",
    "plt.rc(\"font\", family='NanumGothic')\n",
    "sns.barplot(market_kinds.index,market_kinds.values)"
   ]
  },
  {
   "cell_type": "markdown",
   "metadata": {},
   "source": [
    "#### 상권 변화지표"
   ]
  },
  {
   "cell_type": "code",
   "execution_count": 13,
   "metadata": {},
   "outputs": [
    {
     "data": {
      "text/plain": [
       "1    738\n",
       "0    590\n",
       "Name: 상권_변화_지표, dtype: int64"
      ]
     },
     "execution_count": 13,
     "metadata": {},
     "output_type": "execute_result"
    }
   ],
   "source": [
    "market_index = market[\"상권_변화_지표\"].value_counts()\n",
    "market_index"
   ]
  },
  {
   "cell_type": "code",
   "execution_count": 14,
   "metadata": {},
   "outputs": [
    {
     "data": {
      "text/plain": [
       "Text(0.5, 0, '상권변화지표')"
      ]
     },
     "execution_count": 14,
     "metadata": {},
     "output_type": "execute_result"
    },
    {
     "data": {
      "image/png": "[encoded data removed]",
      "text/plain": [
       "<Figure size 432x288 with 1 Axes>"
      ]
     },
     "metadata": {
      "needs_background": "light"
     },
     "output_type": "display_data"
    }
   ],
   "source": [
    "sns.barplot(market_index.index,market_index.values,palette=\"Set1\")\n",
    "plt.xlabel(\"상권변화지표\")"
   ]
  },
  {
   "cell_type": "markdown",
   "metadata": {},
   "source": [
    "#### 수치형변수"
   ]
  },
  {
   "cell_type": "markdown",
   "metadata": {},
   "source": [
    "- 점포수 "
   ]
  },
  {
   "cell_type": "code",
   "execution_count": 15,
   "metadata": {
    "scrolled": true
   },
   "outputs": [
    {
     "data": {
      "text/plain": [
       "<matplotlib.axes._subplots.AxesSubplot at 0x182d30b96c8>"
      ]
     },
     "execution_count": 15,
     "metadata": {},
     "output_type": "execute_result"
    },
    {
     "data": {
      "image/png": "[encoded data removed]",
      "text/plain": [
       "<Figure size 432x288 with 1 Axes>"
      ]
     },
     "metadata": {
      "needs_background": "light"
     },
     "output_type": "display_data"
    }
   ],
   "source": [
    "sns.distplot(market[\"점포수\"])"
   ]
  },
  {
   "cell_type": "markdown",
   "metadata": {},
   "source": [
    "- 당월매출금액/점포수"
   ]
  },
  {
   "cell_type": "code",
   "execution_count": 16,
   "metadata": {},
   "outputs": [
    {
     "data": {
      "text/plain": [
       "<matplotlib.axes._subplots.AxesSubplot at 0x182d2eaed88>"
      ]
     },
     "execution_count": 16,
     "metadata": {},
     "output_type": "execute_result"
    },
    {
     "data": {
      "image/png": "[encoded data removed]",
      "text/plain": [
       "<Figure size 432x288 with 1 Axes>"
      ]
     },
     "metadata": {
      "needs_background": "light"
     },
     "output_type": "display_data"
    }
   ],
   "source": [
    "sns.distplot(market[\"당월_매출금액/점포수\"])"
   ]
  },
  {
   "cell_type": "markdown",
   "metadata": {},
   "source": [
    " - 당월매출건수/점포수"
   ]
  },
  {
   "cell_type": "code",
   "execution_count": 17,
   "metadata": {},
   "outputs": [
    {
     "data": {
      "text/plain": [
       "<matplotlib.axes._subplots.AxesSubplot at 0x182d31c9648>"
      ]
     },
     "execution_count": 17,
     "metadata": {},
     "output_type": "execute_result"
    },
    {
     "data": {
      "image/png": "[encoded data removed]",
      "text/plain": [
       "<Figure size 432x288 with 1 Axes>"
      ]
     },
     "metadata": {
      "needs_background": "light"
     },
     "output_type": "display_data"
    }
   ],
   "source": [
    "sns.distplot(market[\"당월_매출건수/점포수\"])"
   ]
  },
  {
   "cell_type": "markdown",
   "metadata": {},
   "source": [
    " - 총 유동인구수"
   ]
  },
  {
   "cell_type": "code",
   "execution_count": 18,
   "metadata": {},
   "outputs": [
    {
     "data": {
      "text/plain": [
       "<matplotlib.axes._subplots.AxesSubplot at 0x182d33ae548>"
      ]
     },
     "execution_count": 18,
     "metadata": {},
     "output_type": "execute_result"
    },
    {
     "data": {
      "image/png": "[encoded data removed]",
      "text/plain": [
       "<Figure size 432x288 with 1 Axes>"
      ]
     },
     "metadata": {
      "needs_background": "light"
     },
     "output_type": "display_data"
    }
   ],
   "source": [
    "sns.distplot(market[\"총_유동인구_수\"])"
   ]
  },
  {
   "cell_type": "markdown",
   "metadata": {},
   "source": [
    "- 총 직장인구수"
   ]
  },
  {
   "cell_type": "code",
   "execution_count": 19,
   "metadata": {},
   "outputs": [
    {
     "data": {
      "text/plain": [
       "<matplotlib.axes._subplots.AxesSubplot at 0x182d31a4f48>"
      ]
     },
     "execution_count": 19,
     "metadata": {},
     "output_type": "execute_result"
    },
    {
     "data": {
      "image/png": "[encoded data removed]",
      "text/plain": [
       "<Figure size 432x288 with 1 Axes>"
      ]
     },
     "metadata": {
      "needs_background": "light"
     },
     "output_type": "display_data"
    }
   ],
   "source": [
    "sns.distplot(market[\"총_직장_인구_수\"])"
   ]
  },
  {
   "cell_type": "markdown",
   "metadata": {},
   "source": [
    "- 총 상주인구수"
   ]
  },
  {
   "cell_type": "code",
   "execution_count": 20,
   "metadata": {},
   "outputs": [
    {
     "data": {
      "text/plain": [
       "<matplotlib.axes._subplots.AxesSubplot at 0x182d357d1c8>"
      ]
     },
     "execution_count": 20,
     "metadata": {},
     "output_type": "execute_result"
    },
    {
     "data": {
      "image/png": "[encoded data removed]",
      "text/plain": [
       "<Figure size 432x288 with 1 Axes>"
      ]
     },
     "metadata": {
      "needs_background": "light"
     },
     "output_type": "display_data"
    }
   ],
   "source": [
    "sns.distplot(market[\"총 상주인구 수\"])"
   ]
  },
  {
   "cell_type": "markdown",
   "metadata": {},
   "source": [
    "- 아파트_단지_수"
   ]
  },
  {
   "cell_type": "code",
   "execution_count": 21,
   "metadata": {},
   "outputs": [
    {
     "data": {
      "text/plain": [
       "<matplotlib.axes._subplots.AxesSubplot at 0x182d4615688>"
      ]
     },
     "execution_count": 21,
     "metadata": {},
     "output_type": "execute_result"
    },
    {
     "data": {
      "image/png": "[encoded data removed]",
      "text/plain": [
       "<Figure size 432x288 with 1 Axes>"
      ]
     },
     "metadata": {
      "needs_background": "light"
     },
     "output_type": "display_data"
    }
   ],
   "source": [
    "sns.distplot(market[\"아파트_단지_수\"])"
   ]
  },
  {
   "cell_type": "markdown",
   "metadata": {},
   "source": [
    " - 아파트 평균면적"
   ]
  },
  {
   "cell_type": "code",
   "execution_count": 22,
   "metadata": {},
   "outputs": [
    {
     "data": {
      "text/plain": [
       "<matplotlib.axes._subplots.AxesSubplot at 0x182d46f60c8>"
      ]
     },
     "execution_count": 22,
     "metadata": {},
     "output_type": "execute_result"
    },
    {
     "data": {
      "image/png": "[encoded data removed]",
      "text/plain": [
       "<Figure size 432x288 with 1 Axes>"
      ]
     },
     "metadata": {
      "needs_background": "light"
     },
     "output_type": "display_data"
    }
   ],
   "source": [
    "sns.distplot(market[\"아파트_평균_면적\"])"
   ]
  },
  {
   "cell_type": "markdown",
   "metadata": {},
   "source": [
    " - 아파트 평균시가"
   ]
  },
  {
   "cell_type": "code",
   "execution_count": 23,
   "metadata": {},
   "outputs": [
    {
     "data": {
      "text/plain": [
       "<matplotlib.axes._subplots.AxesSubplot at 0x182d4825d48>"
      ]
     },
     "execution_count": 23,
     "metadata": {},
     "output_type": "execute_result"
    },
    {
     "data": {
      "image/png": "[encoded data removed]",
      "text/plain": [
       "<Figure size 432x288 with 1 Axes>"
      ]
     },
     "metadata": {
      "needs_background": "light"
     },
     "output_type": "display_data"
    }
   ],
   "source": [
    "sns.distplot(market[\"아파트_평균_시가\"])"
   ]
  },
  {
   "cell_type": "markdown",
   "metadata": {},
   "source": [
    "## 분석수행"
   ]
  },
  {
   "cell_type": "markdown",
   "metadata": {},
   "source": [
    "#### 범주형 변수 더미변수화"
   ]
  },
  {
   "cell_type": "code",
   "execution_count": 24,
   "metadata": {},
   "outputs": [
    {
     "data": {
      "text/html": [
       "<div>\n",
       "<style scoped>\n",
       "    .dataframe tbody tr th:only-of-type {\n",
       "        vertical-align: middle;\n",
       "    }\n",
       "\n",
       "    .dataframe tbody tr th {\n",
       "        vertical-align: top;\n",
       "    }\n",
       "\n",
       "    .dataframe thead th {\n",
       "        text-align: right;\n",
       "    }\n",
       "</style>\n",
       "<table border=\"1\" class=\"dataframe\">\n",
       "  <thead>\n",
       "    <tr style=\"text-align: right;\">\n",
       "      <th></th>\n",
       "      <th>상권_변화_지표</th>\n",
       "      <th>점포수</th>\n",
       "      <th>당월_매출금액/점포수</th>\n",
       "      <th>당월_매출건수/점포수</th>\n",
       "      <th>총_유동인구_수</th>\n",
       "      <th>총_직장_인구_수</th>\n",
       "      <th>총 상주인구 수</th>\n",
       "      <th>아파트_단지_수</th>\n",
       "      <th>아파트_평균_면적</th>\n",
       "      <th>아파트_평균_시가</th>\n",
       "      <th>상권_구분_코드_명_골목상권</th>\n",
       "      <th>상권_구분_코드_명_관광특구</th>\n",
       "      <th>상권_구분_코드_명_발달상권</th>\n",
       "      <th>상권_구분_코드_명_전통시장</th>\n",
       "    </tr>\n",
       "  </thead>\n",
       "  <tbody>\n",
       "    <tr>\n",
       "      <th>0</th>\n",
       "      <td>1</td>\n",
       "      <td>1923</td>\n",
       "      <td>8.040463e+07</td>\n",
       "      <td>3126.941238</td>\n",
       "      <td>3026454</td>\n",
       "      <td>24375</td>\n",
       "      <td>8221</td>\n",
       "      <td>22</td>\n",
       "      <td>89</td>\n",
       "      <td>527347107</td>\n",
       "      <td>0</td>\n",
       "      <td>1</td>\n",
       "      <td>0</td>\n",
       "      <td>0</td>\n",
       "    </tr>\n",
       "    <tr>\n",
       "      <th>1</th>\n",
       "      <td>0</td>\n",
       "      <td>5082</td>\n",
       "      <td>5.101137e+07</td>\n",
       "      <td>1493.125344</td>\n",
       "      <td>4033679</td>\n",
       "      <td>32935</td>\n",
       "      <td>1924</td>\n",
       "      <td>5</td>\n",
       "      <td>39</td>\n",
       "      <td>112097903</td>\n",
       "      <td>0</td>\n",
       "      <td>1</td>\n",
       "      <td>0</td>\n",
       "      <td>0</td>\n",
       "    </tr>\n",
       "    <tr>\n",
       "      <th>2</th>\n",
       "      <td>0</td>\n",
       "      <td>13175</td>\n",
       "      <td>1.874345e+07</td>\n",
       "      <td>655.166831</td>\n",
       "      <td>3262023</td>\n",
       "      <td>6054</td>\n",
       "      <td>2427</td>\n",
       "      <td>8</td>\n",
       "      <td>53</td>\n",
       "      <td>237967427</td>\n",
       "      <td>0</td>\n",
       "      <td>1</td>\n",
       "      <td>0</td>\n",
       "      <td>0</td>\n",
       "    </tr>\n",
       "    <tr>\n",
       "      <th>3</th>\n",
       "      <td>0</td>\n",
       "      <td>1580</td>\n",
       "      <td>4.699289e+07</td>\n",
       "      <td>1673.287342</td>\n",
       "      <td>1475296</td>\n",
       "      <td>5839</td>\n",
       "      <td>5176</td>\n",
       "      <td>71</td>\n",
       "      <td>82</td>\n",
       "      <td>409473123</td>\n",
       "      <td>0</td>\n",
       "      <td>1</td>\n",
       "      <td>0</td>\n",
       "      <td>0</td>\n",
       "    </tr>\n",
       "    <tr>\n",
       "      <th>4</th>\n",
       "      <td>0</td>\n",
       "      <td>237</td>\n",
       "      <td>6.622075e+07</td>\n",
       "      <td>3348.810127</td>\n",
       "      <td>868848</td>\n",
       "      <td>430</td>\n",
       "      <td>3097</td>\n",
       "      <td>37</td>\n",
       "      <td>62</td>\n",
       "      <td>183067389</td>\n",
       "      <td>0</td>\n",
       "      <td>0</td>\n",
       "      <td>0</td>\n",
       "      <td>1</td>\n",
       "    </tr>\n",
       "  </tbody>\n",
       "</table>\n",
       "</div>"
      ],
      "text/plain": [
       "   상권_변화_지표    점포수   당월_매출금액/점포수  당월_매출건수/점포수  총_유동인구_수  총_직장_인구_수  총 상주인구 수  \\\n",
       "0         1   1923  8.040463e+07  3126.941238   3026454      24375      8221   \n",
       "1         0   5082  5.101137e+07  1493.125344   4033679      32935      1924   \n",
       "2         0  13175  1.874345e+07   655.166831   3262023       6054      2427   \n",
       "3         0   1580  4.699289e+07  1673.287342   1475296       5839      5176   \n",
       "4         0    237  6.622075e+07  3348.810127    868848        430      3097   \n",
       "\n",
       "   아파트_단지_수  아파트_평균_면적  아파트_평균_시가  상권_구분_코드_명_골목상권  상권_구분_코드_명_관광특구  \\\n",
       "0        22         89  527347107                0                1   \n",
       "1         5         39  112097903                0                1   \n",
       "2         8         53  237967427                0                1   \n",
       "3        71         82  409473123                0                1   \n",
       "4        37         62  183067389                0                0   \n",
       "\n",
       "   상권_구분_코드_명_발달상권  상권_구분_코드_명_전통시장  \n",
       "0                0                0  \n",
       "1                0                0  \n",
       "2                0                0  \n",
       "3                0                0  \n",
       "4                0                1  "
      ]
     },
     "execution_count": 24,
     "metadata": {},
     "output_type": "execute_result"
    }
   ],
   "source": [
    "market01=pd.get_dummies(market,columns=[\"상권_구분_코드_명\"])\n",
    "\n",
    "target = market01[\"상권_변화_지표\"]\n",
    "features = market01.drop([\"상권_변화_지표\"],axis=1)\n",
    "market01.head()"
   ]
  },
  {
   "cell_type": "markdown",
   "metadata": {},
   "source": [
    "## Desicion Tree"
   ]
  },
  {
   "cell_type": "markdown",
   "metadata": {},
   "source": [
    "### train, test set 분리"
   ]
  },
  {
   "cell_type": "code",
   "execution_count": 25,
   "metadata": {},
   "outputs": [
    {
     "name": "stdout",
     "output_type": "stream",
     "text": [
      "(929, 13)\n",
      "(399, 13)\n",
      "\n",
      "(929,)\n",
      "(399,)\n"
     ]
    }
   ],
   "source": [
    "from sklearn.model_selection import train_test_split\n",
    "train_x,test_x,train_y,test_y = train_test_split(features,target,test_size=0.3,random_state=1)\n",
    "print(train_x.shape)\n",
    "print(test_x.shape)\n",
    "print()\n",
    "print(train_y.shape)\n",
    "print(test_y.shape)"
   ]
  },
  {
   "cell_type": "markdown",
   "metadata": {},
   "source": [
    "### 모델학습"
   ]
  },
  {
   "cell_type": "code",
   "execution_count": 26,
   "metadata": {},
   "outputs": [],
   "source": [
    "from sklearn import tree"
   ]
  },
  {
   "cell_type": "code",
   "execution_count": 27,
   "metadata": {},
   "outputs": [
    {
     "data": {
      "text/plain": [
       "array([3, 4, 5, 6, 7, 8, 9])"
      ]
     },
     "execution_count": 27,
     "metadata": {},
     "output_type": "execute_result"
    }
   ],
   "source": [
    "np.arange(3,10)"
   ]
  },
  {
   "cell_type": "code",
   "execution_count": 28,
   "metadata": {},
   "outputs": [],
   "source": [
    "param_dict = {\"criterion\":[\"gini\",\"entropy\"],\n",
    "              \"max_depth\":[3,4,5,6,7,8,9,10],\n",
    "              \"min_samples_split\":[5,10,15,20,25,30],}"
   ]
  },
  {
   "cell_type": "code",
   "execution_count": 29,
   "metadata": {},
   "outputs": [
    {
     "data": {
      "text/plain": [
       "GridSearchCV(cv=None, error_score=nan,\n",
       "             estimator=DecisionTreeClassifier(ccp_alpha=0.0, class_weight=None,\n",
       "                                              criterion='gini', max_depth=None,\n",
       "                                              max_features=None,\n",
       "                                              max_leaf_nodes=None,\n",
       "                                              min_impurity_decrease=0.0,\n",
       "                                              min_impurity_split=None,\n",
       "                                              min_samples_leaf=1,\n",
       "                                              min_samples_split=2,\n",
       "                                              min_weight_fraction_leaf=0.0,\n",
       "                                              presort='deprecated',\n",
       "                                              random_state=None,\n",
       "                                              splitter='best'),\n",
       "             iid='deprecated', n_jobs=None,\n",
       "             param_grid={'criterion': ['gini', 'entropy'],\n",
       "                         'max_depth': [3, 4, 5, 6, 7, 8, 9, 10],\n",
       "                         'min_samples_split': [5, 10, 15, 20, 25, 30]},\n",
       "             pre_dispatch='2*n_jobs', refit=True, return_train_score=True,\n",
       "             scoring=None, verbose=0)"
      ]
     },
     "execution_count": 29,
     "metadata": {},
     "output_type": "execute_result"
    }
   ],
   "source": [
    "tree_clf= tree.DecisionTreeClassifier()\n",
    "grid_tree= GridSearchCV(tree_clf,param_grid=param_dict,refit=True,return_train_score=True)\n",
    "grid_tree.fit(train_x,train_y)"
   ]
  },
  {
   "cell_type": "code",
   "execution_count": 30,
   "metadata": {},
   "outputs": [
    {
     "data": {
      "text/plain": [
       "{'criterion': 'entropy', 'max_depth': 3, 'min_samples_split': 5}"
      ]
     },
     "execution_count": 30,
     "metadata": {},
     "output_type": "execute_result"
    }
   ],
   "source": [
    " grid_tree.best_params_"
   ]
  },
  {
   "cell_type": "code",
   "execution_count": 31,
   "metadata": {},
   "outputs": [
    {
     "data": {
      "text/html": [
       "<div>\n",
       "<style scoped>\n",
       "    .dataframe tbody tr th:only-of-type {\n",
       "        vertical-align: middle;\n",
       "    }\n",
       "\n",
       "    .dataframe tbody tr th {\n",
       "        vertical-align: top;\n",
       "    }\n",
       "\n",
       "    .dataframe thead th {\n",
       "        text-align: right;\n",
       "    }\n",
       "</style>\n",
       "<table border=\"1\" class=\"dataframe\">\n",
       "  <thead>\n",
       "    <tr style=\"text-align: right;\">\n",
       "      <th></th>\n",
       "      <th>param_criterion</th>\n",
       "      <th>param_max_depth</th>\n",
       "      <th>param_min_samples_split</th>\n",
       "      <th>mean_test_score</th>\n",
       "    </tr>\n",
       "  </thead>\n",
       "  <tbody>\n",
       "    <tr>\n",
       "      <th>48</th>\n",
       "      <td>entropy</td>\n",
       "      <td>3</td>\n",
       "      <td>5</td>\n",
       "      <td>0.593089</td>\n",
       "    </tr>\n",
       "    <tr>\n",
       "      <th>49</th>\n",
       "      <td>entropy</td>\n",
       "      <td>3</td>\n",
       "      <td>10</td>\n",
       "      <td>0.593089</td>\n",
       "    </tr>\n",
       "    <tr>\n",
       "      <th>53</th>\n",
       "      <td>entropy</td>\n",
       "      <td>3</td>\n",
       "      <td>30</td>\n",
       "      <td>0.593089</td>\n",
       "    </tr>\n",
       "    <tr>\n",
       "      <th>52</th>\n",
       "      <td>entropy</td>\n",
       "      <td>3</td>\n",
       "      <td>25</td>\n",
       "      <td>0.593089</td>\n",
       "    </tr>\n",
       "    <tr>\n",
       "      <th>51</th>\n",
       "      <td>entropy</td>\n",
       "      <td>3</td>\n",
       "      <td>20</td>\n",
       "      <td>0.593089</td>\n",
       "    </tr>\n",
       "  </tbody>\n",
       "</table>\n",
       "</div>"
      ],
      "text/plain": [
       "   param_criterion param_max_depth param_min_samples_split  mean_test_score\n",
       "48         entropy               3                       5         0.593089\n",
       "49         entropy               3                      10         0.593089\n",
       "53         entropy               3                      30         0.593089\n",
       "52         entropy               3                      25         0.593089\n",
       "51         entropy               3                      20         0.593089"
      ]
     },
     "execution_count": 31,
     "metadata": {},
     "output_type": "execute_result"
    }
   ],
   "source": [
    "df = pd.DataFrame(grid_tree.cv_results_)\n",
    "df= df[[\"param_criterion\",\"param_max_depth\",\"param_min_samples_split\",\"mean_test_score\"]]\n",
    "df=df.sort_values(by = \"mean_test_score\",ascending = False)\n",
    "df.head()\n"
   ]
  },
  {
   "cell_type": "code",
   "execution_count": 42,
   "metadata": {},
   "outputs": [
    {
     "data": {
      "text/plain": [
       "DecisionTreeClassifier(ccp_alpha=0.0, class_weight=None, criterion='entropy',\n",
       "                       max_depth=3, max_features=None, max_leaf_nodes=None,\n",
       "                       min_impurity_decrease=0.0, min_impurity_split=None,\n",
       "                       min_samples_leaf=1, min_samples_split=10,\n",
       "                       min_weight_fraction_leaf=0.0, presort='deprecated',\n",
       "                       random_state=None, splitter='best')"
      ]
     },
     "execution_count": 42,
     "metadata": {},
     "output_type": "execute_result"
    }
   ],
   "source": [
    "tree_model= tree.DecisionTreeClassifier(criterion=\"entropy\",max_depth=3,min_samples_split=10)\n",
    "tree_model.fit(train_x,train_y)"
   ]
  },
  {
   "cell_type": "markdown",
   "metadata": {},
   "source": [
    "### 예측"
   ]
  },
  {
   "cell_type": "code",
   "execution_count": 43,
   "metadata": {},
   "outputs": [],
   "source": [
    "pred= tree_model.predict(test_x)"
   ]
  },
  {
   "cell_type": "markdown",
   "metadata": {},
   "source": [
    "### 성능평가"
   ]
  },
  {
   "cell_type": "code",
   "execution_count": 44,
   "metadata": {},
   "outputs": [],
   "source": [
    "from sklearn.metrics import confusion_matrix,classification_report , accuracy_score , recall_score , precision_score\n",
    "from yellowbrick.classifier import ROCAUC"
   ]
  },
  {
   "cell_type": "markdown",
   "metadata": {},
   "source": [
    "- 정확도 , 재현율 , 정밀도"
   ]
  },
  {
   "cell_type": "code",
   "execution_count": 45,
   "metadata": {},
   "outputs": [
    {
     "name": "stdout",
     "output_type": "stream",
     "text": [
      "정확도 : 0.6290726817042607\n",
      "재현율 : 0.8879310344827587\n",
      "정밀도 : 0.6280487804878049\n"
     ]
    }
   ],
   "source": [
    "accr= accuracy_score(test_y,pred)\n",
    "rec = recall_score(test_y,pred)\n",
    "prec = precision_score(test_y,pred)\n",
    "\n",
    "print(f\"정확도 : {accr}\")\n",
    "print(f\"재현율 : {rec}\")\n",
    "print(f\"정밀도 : {prec}\")"
   ]
  },
  {
   "cell_type": "code",
   "execution_count": 46,
   "metadata": {},
   "outputs": [
    {
     "data": {
      "text/plain": [
       "array([[ 45, 122],\n",
       "       [ 26, 206]], dtype=int64)"
      ]
     },
     "execution_count": 46,
     "metadata": {},
     "output_type": "execute_result"
    }
   ],
   "source": [
    "confusion_matrix(test_y,pred)"
   ]
  },
  {
   "cell_type": "code",
   "execution_count": 47,
   "metadata": {},
   "outputs": [
    {
     "name": "stdout",
     "output_type": "stream",
     "text": [
      "              precision    recall  f1-score   support\n",
      "\n",
      "           0       0.63      0.27      0.38       167\n",
      "           1       0.63      0.89      0.74       232\n",
      "\n",
      "    accuracy                           0.63       399\n",
      "   macro avg       0.63      0.58      0.56       399\n",
      "weighted avg       0.63      0.63      0.59       399\n",
      "\n"
     ]
    }
   ],
   "source": [
    "print(classification_report(test_y,pred))"
   ]
  },
  {
   "cell_type": "code",
   "execution_count": 48,
   "metadata": {},
   "outputs": [
    {
     "name": "stderr",
     "output_type": "stream",
     "text": [
      "C:\\Users\\user\\anaconda3\\lib\\site-packages\\sklearn\\base.py:197: FutureWarning: From version 0.24, get_params will raise an AttributeError if a parameter cannot be retrieved as an instance attribute. Previously it would return None.\n",
      "  FutureWarning)\n"
     ]
    },
    {
     "data": {
      "image/png": "[encoded data removed]",
      "text/plain": [
       "<Figure size 576x396 with 1 Axes>"
      ]
     },
     "metadata": {},
     "output_type": "display_data"
    },
    {
     "data": {
      "text/plain": [
       "<matplotlib.axes._subplots.AxesSubplot at 0x182d4aa9048>"
      ]
     },
     "execution_count": 48,
     "metadata": {},
     "output_type": "execute_result"
    }
   ],
   "source": [
    "visualizer = ROCAUC(tree_model,classes = [0,1],micro=False,macro = False,per_class = False)\n",
    "visualizer.fit(train_x,train_y)\n",
    "visualizer.score(test_x,test_y)\n",
    "visualizer.show()"
   ]
  },
  {
   "cell_type": "code",
   "execution_count": 49,
   "metadata": {},
   "outputs": [],
   "source": [
    "df=pd.DataFrame(tree_model.feature_importances_)\n",
    "df.rename(index ={0:\"점포수\",1:\"매출금액\",2:\"매출건수\",\n",
    "                  3:\"유동인구\",4:\"직장인구\",5:\"상주인구\",\n",
    "                  6:\"아파트 단지 수\",7:\"아파트 평균면적\",8:\"아파트평균시가\",\n",
    "                 9:\"골목상권\",10:\"관광특구\",11:\"발달상권\",12:\"전통시장\"},inplace=True)\n",
    "df.rename(columns = {0:\"중요도\"},inplace = True)\n",
    "df=df.sort_values(by = \"중요도\",ascending = False)"
   ]
  },
  {
   "cell_type": "code",
   "execution_count": 51,
   "metadata": {},
   "outputs": [
    {
     "data": {
      "text/plain": [
       "<matplotlib.axes._subplots.AxesSubplot at 0x182d49e4f48>"
      ]
     },
     "execution_count": 51,
     "metadata": {},
     "output_type": "execute_result"
    },
    {
     "data": {
      "image/png": "[encoded data removed]",
      "text/plain": [
       "<Figure size 1152x720 with 1 Axes>"
      ]
     },
     "metadata": {},
     "output_type": "display_data"
    }
   ],
   "source": [
    "plt.figure(figsize= (16,10) )\n",
    "plt.rc(\"font\", family='NanumGothic')\n",
    "sns.barplot(y = df.index , x= df[\"중요도\"],palette=\"Set2\")\n"
   ]
  },
  {
   "cell_type": "code",
   "execution_count": 52,
   "metadata": {},
   "outputs": [],
   "source": [
    "from sklearn.inspection import permutation_importance"
   ]
  },
  {
   "cell_type": "code",
   "execution_count": 53,
   "metadata": {},
   "outputs": [],
   "source": [
    "result = permutation_importance(tree_model, train_x, train_y, n_repeats=10,\n",
    "                             random_state=0)"
   ]
  },
  {
   "cell_type": "code",
   "execution_count": 54,
   "metadata": {},
   "outputs": [],
   "source": [
    "df2=pd.DataFrame(result[\"importances_mean\"])\n",
    "df2.rename(index ={0:\"점포수\",1:\"매출금액\",2:\"매출건수\",\n",
    "                  3:\"유동인구\",4:\"직장인구\",5:\"상주인구\",\n",
    "                  6:\"아파트 단지 수\",7:\"아파트 평균면적\",8:\"아파트평균시가\",\n",
    "                 9:\"골목상권\",10:\"관광특구\",11:\"발달상권\",12:\"전통시장\"},inplace=True)\n",
    "df2.rename(columns = {0:\"중요도\"},inplace = True)\n",
    "df2=df2.sort_values(by = \"중요도\",ascending = False)\n"
   ]
  },
  {
   "cell_type": "code",
   "execution_count": 55,
   "metadata": {
    "scrolled": false
   },
   "outputs": [
    {
     "data": {
      "text/plain": [
       "<matplotlib.axes._subplots.AxesSubplot at 0x182d5b58808>"
      ]
     },
     "execution_count": 55,
     "metadata": {},
     "output_type": "execute_result"
    },
    {
     "data": {
      "image/png": "[encoded data removed]",
      "text/plain": [
       "<Figure size 1152x720 with 1 Axes>"
      ]
     },
     "metadata": {},
     "output_type": "display_data"
    }
   ],
   "source": [
    "plt.figure(figsize= (16,10) )\n",
    "plt.rc(\"font\", family='NanumGothic')\n",
    "sns.barplot(y = df2.index , x= df[\"중요도\"])\n"
   ]
  },
  {
   "cell_type": "markdown",
   "metadata": {},
   "source": [
    "## Random Forest"
   ]
  },
  {
   "cell_type": "markdown",
   "metadata": {},
   "source": [
    "### 모델학습"
   ]
  },
  {
   "cell_type": "code",
   "execution_count": 57,
   "metadata": {},
   "outputs": [],
   "source": [
    "from sklearn.ensemble import RandomForestClassifier\n",
    "param_dict = {\"criterion\":[\"entropy\"],\n",
    "              \"max_depth\":[5,10,15,20,25,30],\n",
    "             \"n_estimators\" : [100,200,300,400,500]}\n"
   ]
  },
  {
   "cell_type": "code",
   "execution_count": 151,
   "metadata": {},
   "outputs": [
    {
     "data": {
      "text/plain": [
       "GridSearchCV(cv=None, error_score=nan,\n",
       "             estimator=RandomForestClassifier(bootstrap=True, ccp_alpha=0.0,\n",
       "                                              class_weight=None,\n",
       "                                              criterion='gini', max_depth=None,\n",
       "                                              max_features='auto',\n",
       "                                              max_leaf_nodes=None,\n",
       "                                              max_samples=None,\n",
       "                                              min_impurity_decrease=0.0,\n",
       "                                              min_impurity_split=None,\n",
       "                                              min_samples_leaf=1,\n",
       "                                              min_samples_split=2,\n",
       "                                              min_weight_fraction_leaf=0.0,\n",
       "                                              n_estimators=100, n_jobs=None,\n",
       "                                              oob_score=False,\n",
       "                                              random_state=None, verbose=0,\n",
       "                                              warm_start=False),\n",
       "             iid='deprecated', n_jobs=None,\n",
       "             param_grid={'criterion': ['entropy'],\n",
       "                         'max_depth': [5, 10, 15, 20, 25, 30],\n",
       "                         'n_estimators': [100, 200, 300, 400, 500]},\n",
       "             pre_dispatch='2*n_jobs', refit=True, return_train_score=True,\n",
       "             scoring=None, verbose=0)"
      ]
     },
     "execution_count": 151,
     "metadata": {},
     "output_type": "execute_result"
    }
   ],
   "source": [
    "rf_model = RandomForestClassifier()\n",
    "grid_rf= GridSearchCV(rf_model,param_grid=param_dict,refit=True,return_train_score=True)\n",
    "grid_rf.fit(train_x,train_y)"
   ]
  },
  {
   "cell_type": "code",
   "execution_count": 154,
   "metadata": {},
   "outputs": [
    {
     "data": {
      "text/plain": [
       "{'criterion': 'entropy', 'max_depth': 5, 'n_estimators': 400}"
      ]
     },
     "execution_count": 154,
     "metadata": {},
     "output_type": "execute_result"
    }
   ],
   "source": [
    "grid_rf.best_params_"
   ]
  },
  {
   "cell_type": "code",
   "execution_count": 157,
   "metadata": {},
   "outputs": [
    {
     "data": {
      "text/html": [
       "<div>\n",
       "<style scoped>\n",
       "    .dataframe tbody tr th:only-of-type {\n",
       "        vertical-align: middle;\n",
       "    }\n",
       "\n",
       "    .dataframe tbody tr th {\n",
       "        vertical-align: top;\n",
       "    }\n",
       "\n",
       "    .dataframe thead th {\n",
       "        text-align: right;\n",
       "    }\n",
       "</style>\n",
       "<table border=\"1\" class=\"dataframe\">\n",
       "  <thead>\n",
       "    <tr style=\"text-align: right;\">\n",
       "      <th></th>\n",
       "      <th>param_max_depth</th>\n",
       "      <th>param_n_estimators</th>\n",
       "      <th>mean_test_score</th>\n",
       "    </tr>\n",
       "  </thead>\n",
       "  <tbody>\n",
       "    <tr>\n",
       "      <th>3</th>\n",
       "      <td>5</td>\n",
       "      <td>400</td>\n",
       "      <td>0.622162</td>\n",
       "    </tr>\n",
       "    <tr>\n",
       "      <th>0</th>\n",
       "      <td>5</td>\n",
       "      <td>100</td>\n",
       "      <td>0.617884</td>\n",
       "    </tr>\n",
       "    <tr>\n",
       "      <th>2</th>\n",
       "      <td>5</td>\n",
       "      <td>300</td>\n",
       "      <td>0.617855</td>\n",
       "    </tr>\n",
       "    <tr>\n",
       "      <th>14</th>\n",
       "      <td>15</td>\n",
       "      <td>500</td>\n",
       "      <td>0.610288</td>\n",
       "    </tr>\n",
       "    <tr>\n",
       "      <th>27</th>\n",
       "      <td>30</td>\n",
       "      <td>300</td>\n",
       "      <td>0.609230</td>\n",
       "    </tr>\n",
       "  </tbody>\n",
       "</table>\n",
       "</div>"
      ],
      "text/plain": [
       "   param_max_depth param_n_estimators  mean_test_score\n",
       "3                5                400         0.622162\n",
       "0                5                100         0.617884\n",
       "2                5                300         0.617855\n",
       "14              15                500         0.610288\n",
       "27              30                300         0.609230"
      ]
     },
     "execution_count": 157,
     "metadata": {},
     "output_type": "execute_result"
    }
   ],
   "source": [
    "df = pd.DataFrame(grid_rf.cv_results_)\n",
    "df= df[[\"param_max_depth\",\"param_n_estimators\", \"mean_test_score\"]]\n",
    "df=df.sort_values(by = \"mean_test_score\",ascending = False)\n",
    "df.head()\n"
   ]
  },
  {
   "cell_type": "code",
   "execution_count": 58,
   "metadata": {},
   "outputs": [
    {
     "data": {
      "text/plain": [
       "RandomForestClassifier(bootstrap=True, ccp_alpha=0.0, class_weight=None,\n",
       "                       criterion='entropy', max_depth=5, max_features='auto',\n",
       "                       max_leaf_nodes=None, max_samples=None,\n",
       "                       min_impurity_decrease=0.0, min_impurity_split=None,\n",
       "                       min_samples_leaf=1, min_samples_split=2,\n",
       "                       min_weight_fraction_leaf=0.0, n_estimators=400,\n",
       "                       n_jobs=None, oob_score=False, random_state=None,\n",
       "                       verbose=0, warm_start=False)"
      ]
     },
     "execution_count": 58,
     "metadata": {},
     "output_type": "execute_result"
    }
   ],
   "source": [
    "rf_clf = RandomForestClassifier(criterion=\"entropy\",max_depth=5,n_estimators=400)\n",
    "rf_clf.fit(train_x,train_y)"
   ]
  },
  {
   "cell_type": "markdown",
   "metadata": {},
   "source": [
    "### 예측"
   ]
  },
  {
   "cell_type": "code",
   "execution_count": 59,
   "metadata": {},
   "outputs": [],
   "source": [
    "pred_rf= rf_clf.predict(test_x)"
   ]
  },
  {
   "cell_type": "markdown",
   "metadata": {},
   "source": [
    "### 성능평가"
   ]
  },
  {
   "cell_type": "code",
   "execution_count": 60,
   "metadata": {},
   "outputs": [
    {
     "name": "stdout",
     "output_type": "stream",
     "text": [
      "정확도 : 0.6416040100250626\n",
      "재현율 : 0.8275862068965517\n",
      "정밀도 : 0.6508474576271186\n"
     ]
    }
   ],
   "source": [
    "accr= accuracy_score(test_y,pred_rf)\n",
    "rec = recall_score(test_y,pred_rf)\n",
    "prec = precision_score(test_y,pred_rf)\n",
    "\n",
    "print(f\"정확도 : {accr}\")\n",
    "print(f\"재현율 : {rec}\")\n",
    "print(f\"정밀도 : {prec}\")"
   ]
  },
  {
   "cell_type": "code",
   "execution_count": 61,
   "metadata": {},
   "outputs": [
    {
     "data": {
      "text/plain": [
       "array([[ 64, 103],\n",
       "       [ 40, 192]], dtype=int64)"
      ]
     },
     "execution_count": 61,
     "metadata": {},
     "output_type": "execute_result"
    }
   ],
   "source": [
    "confusion_matrix(test_y,pred_rf)"
   ]
  },
  {
   "cell_type": "code",
   "execution_count": 62,
   "metadata": {},
   "outputs": [
    {
     "name": "stdout",
     "output_type": "stream",
     "text": [
      "              precision    recall  f1-score   support\n",
      "\n",
      "           0       0.62      0.38      0.47       167\n",
      "           1       0.65      0.83      0.73       232\n",
      "\n",
      "    accuracy                           0.64       399\n",
      "   macro avg       0.63      0.61      0.60       399\n",
      "weighted avg       0.64      0.64      0.62       399\n",
      "\n"
     ]
    }
   ],
   "source": [
    "print(classification_report(test_y,pred_rf))"
   ]
  },
  {
   "cell_type": "code",
   "execution_count": 73,
   "metadata": {},
   "outputs": [
    {
     "name": "stderr",
     "output_type": "stream",
     "text": [
      "C:\\Users\\user\\anaconda3\\lib\\site-packages\\sklearn\\base.py:197: FutureWarning: From version 0.24, get_params will raise an AttributeError if a parameter cannot be retrieved as an instance attribute. Previously it would return None.\n",
      "  FutureWarning)\n"
     ]
    },
    {
     "data": {
      "image/png": "[encoded data removed]",
      "text/plain": [
       "<Figure size 576x396 with 1 Axes>"
      ]
     },
     "metadata": {},
     "output_type": "display_data"
    },
    {
     "data": {
      "text/plain": [
       "<matplotlib.axes._subplots.AxesSubplot at 0x182d64f4308>"
      ]
     },
     "execution_count": 73,
     "metadata": {},
     "output_type": "execute_result"
    }
   ],
   "source": [
    "visualizer = ROCAUC(rf_clf,classes = [0,1],micro=False,macro = False,per_class = False)\n",
    "visualizer.fit(train_x,train_y)\n",
    "visualizer.score(test_x,test_y)\n",
    "visualizer.show()"
   ]
  },
  {
   "cell_type": "code",
   "execution_count": 64,
   "metadata": {},
   "outputs": [],
   "source": [
    "df=pd.DataFrame(rf_clf.feature_importances_)\n",
    "df.rename(index ={0:\"점포수\",1:\"매출금액\",2:\"매출건수\",\n",
    "                  3:\"유동인구\",4:\"직장인구\",5:\"상주인구\",\n",
    "                  6:\"아파트 단지 수\",7:\"아파트 평균면적\",8:\"아파트평균시가\",\n",
    "                 9:\"골목상권\",10:\"관광특구\",11:\"발달상권\",12:\"전통시장\"},inplace=True)\n",
    "df.rename(columns = {0:\"중요도\"},inplace = True)\n",
    "df=df.sort_values(by = \"중요도\",ascending = False)"
   ]
  },
  {
   "cell_type": "code",
   "execution_count": 65,
   "metadata": {},
   "outputs": [
    {
     "name": "stdout",
     "output_type": "stream",
     "text": [
      "               중요도\n",
      "유동인구      0.140400\n",
      "점포수       0.135546\n",
      "상주인구      0.134736\n",
      "아파트 단지 수  0.118459\n",
      "직장인구      0.109417\n",
      "매출건수      0.101935\n",
      "아파트평균시가   0.087546\n",
      "매출금액      0.073421\n",
      "아파트 평균면적  0.065219\n",
      "골목상권      0.012557\n",
      "전통시장      0.011611\n",
      "발달상권      0.006148\n",
      "관광특구      0.003003\n"
     ]
    }
   ],
   "source": [
    "print(df)"
   ]
  },
  {
   "cell_type": "code",
   "execution_count": 68,
   "metadata": {},
   "outputs": [
    {
     "data": {
      "text/plain": [
       "<matplotlib.axes._subplots.AxesSubplot at 0x182d620cd48>"
      ]
     },
     "execution_count": 68,
     "metadata": {},
     "output_type": "execute_result"
    },
    {
     "data": {
      "image/png": "[encoded data removed]",
      "text/plain": [
       "<Figure size 1152x720 with 1 Axes>"
      ]
     },
     "metadata": {},
     "output_type": "display_data"
    }
   ],
   "source": [
    "plt.figure(figsize= (16,10) )\n",
    "plt.rc(\"font\", family='NanumGothic')\n",
    "sns.barplot(y = df.index , x= df[\"중요도\"],palette=\"Set2\")\n"
   ]
  },
  {
   "cell_type": "code",
   "execution_count": 69,
   "metadata": {},
   "outputs": [],
   "source": [
    "from sklearn.inspection import permutation_importance"
   ]
  },
  {
   "cell_type": "code",
   "execution_count": 70,
   "metadata": {},
   "outputs": [],
   "source": [
    " result = permutation_importance(rf_clf, train_x, train_y, n_repeats=10,\n",
    "                             random_state=0)"
   ]
  },
  {
   "cell_type": "code",
   "execution_count": 71,
   "metadata": {
    "scrolled": true
   },
   "outputs": [],
   "source": [
    "df2=pd.DataFrame(result[\"importances_mean\"])\n",
    "df2.rename(index ={0:\"점포수\",1:\"매출금액\",2:\"매출건수\",\n",
    "                  3:\"유동인구\",4:\"직장인구\",5:\"상주인구\",\n",
    "                  6:\"아파트 단지 수\",7:\"아파트 평균면적\",8:\"아파트평균시가\",\n",
    "                 9:\"골목상권\",10:\"관광특구\",11:\"발달상권\",12:\"전통시장\"},inplace=True)\n",
    "df2.rename(columns = {0:\"중요도\"},inplace = True)\n",
    "df2=df2.sort_values(by = \"중요도\",ascending = False)\n"
   ]
  },
  {
   "cell_type": "code",
   "execution_count": 72,
   "metadata": {},
   "outputs": [
    {
     "data": {
      "text/plain": [
       "<matplotlib.axes._subplots.AxesSubplot at 0x182d65a7988>"
      ]
     },
     "execution_count": 72,
     "metadata": {},
     "output_type": "execute_result"
    },
    {
     "data": {
      "image/png": "[encoded data removed]",
      "text/plain": [
       "<Figure size 1152x720 with 1 Axes>"
      ]
     },
     "metadata": {},
     "output_type": "display_data"
    }
   ],
   "source": [
    "plt.figure(figsize= (16,10) )\n",
    "plt.rc(\"font\", family='NanumGothic')\n",
    "sns.barplot(y = df2.index , x= df[\"중요도\"])\n"
   ]
  },
  {
   "cell_type": "markdown",
   "metadata": {},
   "source": [
    "## Logistic Regression"
   ]
  },
  {
   "cell_type": "code",
   "execution_count": 24,
   "metadata": {},
   "outputs": [],
   "source": [
    "import statsmodels.api as sm"
   ]
  },
  {
   "cell_type": "markdown",
   "metadata": {},
   "source": [
    "#### 상수항 추가(표준화 방지) , 기준부호화"
   ]
  },
  {
   "cell_type": "code",
   "execution_count": 28,
   "metadata": {
    "scrolled": false
   },
   "outputs": [
    {
     "data": {
      "text/html": [
       "<div>\n",
       "<style scoped>\n",
       "    .dataframe tbody tr th:only-of-type {\n",
       "        vertical-align: middle;\n",
       "    }\n",
       "\n",
       "    .dataframe tbody tr th {\n",
       "        vertical-align: top;\n",
       "    }\n",
       "\n",
       "    .dataframe thead th {\n",
       "        text-align: right;\n",
       "    }\n",
       "</style>\n",
       "<table border=\"1\" class=\"dataframe\">\n",
       "  <thead>\n",
       "    <tr style=\"text-align: right;\">\n",
       "      <th></th>\n",
       "      <th>const</th>\n",
       "      <th>점포수</th>\n",
       "      <th>당월_매출금액/점포수</th>\n",
       "      <th>당월_매출건수/점포수</th>\n",
       "      <th>총_유동인구_수</th>\n",
       "      <th>총_직장_인구_수</th>\n",
       "      <th>총 상주인구 수</th>\n",
       "      <th>아파트_단지_수</th>\n",
       "      <th>아파트_평균_면적</th>\n",
       "      <th>아파트_평균_시가</th>\n",
       "      <th>상권_구분_코드_명_관광특구</th>\n",
       "      <th>상권_구분_코드_명_발달상권</th>\n",
       "      <th>상권_구분_코드_명_전통시장</th>\n",
       "    </tr>\n",
       "  </thead>\n",
       "  <tbody>\n",
       "    <tr>\n",
       "      <th>0</th>\n",
       "      <td>1.0</td>\n",
       "      <td>1923</td>\n",
       "      <td>8.040463e+07</td>\n",
       "      <td>3126.941238</td>\n",
       "      <td>3026454</td>\n",
       "      <td>24375</td>\n",
       "      <td>8221</td>\n",
       "      <td>22</td>\n",
       "      <td>89</td>\n",
       "      <td>527347107</td>\n",
       "      <td>1</td>\n",
       "      <td>0</td>\n",
       "      <td>0</td>\n",
       "    </tr>\n",
       "    <tr>\n",
       "      <th>1</th>\n",
       "      <td>1.0</td>\n",
       "      <td>5082</td>\n",
       "      <td>5.101137e+07</td>\n",
       "      <td>1493.125344</td>\n",
       "      <td>4033679</td>\n",
       "      <td>32935</td>\n",
       "      <td>1924</td>\n",
       "      <td>5</td>\n",
       "      <td>39</td>\n",
       "      <td>112097903</td>\n",
       "      <td>1</td>\n",
       "      <td>0</td>\n",
       "      <td>0</td>\n",
       "    </tr>\n",
       "    <tr>\n",
       "      <th>2</th>\n",
       "      <td>1.0</td>\n",
       "      <td>13175</td>\n",
       "      <td>1.874345e+07</td>\n",
       "      <td>655.166831</td>\n",
       "      <td>3262023</td>\n",
       "      <td>6054</td>\n",
       "      <td>2427</td>\n",
       "      <td>8</td>\n",
       "      <td>53</td>\n",
       "      <td>237967427</td>\n",
       "      <td>1</td>\n",
       "      <td>0</td>\n",
       "      <td>0</td>\n",
       "    </tr>\n",
       "    <tr>\n",
       "      <th>3</th>\n",
       "      <td>1.0</td>\n",
       "      <td>1580</td>\n",
       "      <td>4.699289e+07</td>\n",
       "      <td>1673.287342</td>\n",
       "      <td>1475296</td>\n",
       "      <td>5839</td>\n",
       "      <td>5176</td>\n",
       "      <td>71</td>\n",
       "      <td>82</td>\n",
       "      <td>409473123</td>\n",
       "      <td>1</td>\n",
       "      <td>0</td>\n",
       "      <td>0</td>\n",
       "    </tr>\n",
       "    <tr>\n",
       "      <th>4</th>\n",
       "      <td>1.0</td>\n",
       "      <td>237</td>\n",
       "      <td>6.622075e+07</td>\n",
       "      <td>3348.810127</td>\n",
       "      <td>868848</td>\n",
       "      <td>430</td>\n",
       "      <td>3097</td>\n",
       "      <td>37</td>\n",
       "      <td>62</td>\n",
       "      <td>183067389</td>\n",
       "      <td>0</td>\n",
       "      <td>0</td>\n",
       "      <td>1</td>\n",
       "    </tr>\n",
       "    <tr>\n",
       "      <th>...</th>\n",
       "      <td>...</td>\n",
       "      <td>...</td>\n",
       "      <td>...</td>\n",
       "      <td>...</td>\n",
       "      <td>...</td>\n",
       "      <td>...</td>\n",
       "      <td>...</td>\n",
       "      <td>...</td>\n",
       "      <td>...</td>\n",
       "      <td>...</td>\n",
       "      <td>...</td>\n",
       "      <td>...</td>\n",
       "      <td>...</td>\n",
       "    </tr>\n",
       "    <tr>\n",
       "      <th>1323</th>\n",
       "      <td>1.0</td>\n",
       "      <td>37</td>\n",
       "      <td>9.408726e+07</td>\n",
       "      <td>3140.567568</td>\n",
       "      <td>177480</td>\n",
       "      <td>1797</td>\n",
       "      <td>1671</td>\n",
       "      <td>41</td>\n",
       "      <td>84</td>\n",
       "      <td>214023214</td>\n",
       "      <td>0</td>\n",
       "      <td>0</td>\n",
       "      <td>0</td>\n",
       "    </tr>\n",
       "    <tr>\n",
       "      <th>1324</th>\n",
       "      <td>1.0</td>\n",
       "      <td>77</td>\n",
       "      <td>3.510871e+07</td>\n",
       "      <td>3597.883117</td>\n",
       "      <td>642474</td>\n",
       "      <td>56</td>\n",
       "      <td>1442</td>\n",
       "      <td>41</td>\n",
       "      <td>51</td>\n",
       "      <td>105457249</td>\n",
       "      <td>0</td>\n",
       "      <td>0</td>\n",
       "      <td>0</td>\n",
       "    </tr>\n",
       "    <tr>\n",
       "      <th>1325</th>\n",
       "      <td>1.0</td>\n",
       "      <td>184</td>\n",
       "      <td>3.696538e+07</td>\n",
       "      <td>1858.603261</td>\n",
       "      <td>173334</td>\n",
       "      <td>3686</td>\n",
       "      <td>1214</td>\n",
       "      <td>5</td>\n",
       "      <td>35</td>\n",
       "      <td>161118305</td>\n",
       "      <td>0</td>\n",
       "      <td>0</td>\n",
       "      <td>0</td>\n",
       "    </tr>\n",
       "    <tr>\n",
       "      <th>1326</th>\n",
       "      <td>1.0</td>\n",
       "      <td>59</td>\n",
       "      <td>7.556387e+07</td>\n",
       "      <td>3885.694915</td>\n",
       "      <td>374141</td>\n",
       "      <td>201</td>\n",
       "      <td>941</td>\n",
       "      <td>5</td>\n",
       "      <td>15</td>\n",
       "      <td>87700490</td>\n",
       "      <td>0</td>\n",
       "      <td>0</td>\n",
       "      <td>0</td>\n",
       "    </tr>\n",
       "    <tr>\n",
       "      <th>1327</th>\n",
       "      <td>1.0</td>\n",
       "      <td>117</td>\n",
       "      <td>3.458361e+07</td>\n",
       "      <td>2152.102564</td>\n",
       "      <td>308310</td>\n",
       "      <td>842</td>\n",
       "      <td>1800</td>\n",
       "      <td>26</td>\n",
       "      <td>69</td>\n",
       "      <td>249322039</td>\n",
       "      <td>0</td>\n",
       "      <td>0</td>\n",
       "      <td>0</td>\n",
       "    </tr>\n",
       "  </tbody>\n",
       "</table>\n",
       "<p>1328 rows × 13 columns</p>\n",
       "</div>"
      ],
      "text/plain": [
       "      const    점포수   당월_매출금액/점포수  당월_매출건수/점포수  총_유동인구_수  총_직장_인구_수  총 상주인구 수  \\\n",
       "0       1.0   1923  8.040463e+07  3126.941238   3026454      24375      8221   \n",
       "1       1.0   5082  5.101137e+07  1493.125344   4033679      32935      1924   \n",
       "2       1.0  13175  1.874345e+07   655.166831   3262023       6054      2427   \n",
       "3       1.0   1580  4.699289e+07  1673.287342   1475296       5839      5176   \n",
       "4       1.0    237  6.622075e+07  3348.810127    868848        430      3097   \n",
       "...     ...    ...           ...          ...       ...        ...       ...   \n",
       "1323    1.0     37  9.408726e+07  3140.567568    177480       1797      1671   \n",
       "1324    1.0     77  3.510871e+07  3597.883117    642474         56      1442   \n",
       "1325    1.0    184  3.696538e+07  1858.603261    173334       3686      1214   \n",
       "1326    1.0     59  7.556387e+07  3885.694915    374141        201       941   \n",
       "1327    1.0    117  3.458361e+07  2152.102564    308310        842      1800   \n",
       "\n",
       "      아파트_단지_수  아파트_평균_면적  아파트_평균_시가  상권_구분_코드_명_관광특구  상권_구분_코드_명_발달상권  \\\n",
       "0           22         89  527347107                1                0   \n",
       "1            5         39  112097903                1                0   \n",
       "2            8         53  237967427                1                0   \n",
       "3           71         82  409473123                1                0   \n",
       "4           37         62  183067389                0                0   \n",
       "...        ...        ...        ...              ...              ...   \n",
       "1323        41         84  214023214                0                0   \n",
       "1324        41         51  105457249                0                0   \n",
       "1325         5         35  161118305                0                0   \n",
       "1326         5         15   87700490                0                0   \n",
       "1327        26         69  249322039                0                0   \n",
       "\n",
       "      상권_구분_코드_명_전통시장  \n",
       "0                   0  \n",
       "1                   0  \n",
       "2                   0  \n",
       "3                   0  \n",
       "4                   1  \n",
       "...               ...  \n",
       "1323                0  \n",
       "1324                0  \n",
       "1325                0  \n",
       "1326                0  \n",
       "1327                0  \n",
       "\n",
       "[1328 rows x 13 columns]"
      ]
     },
     "execution_count": 28,
     "metadata": {},
     "output_type": "execute_result"
    }
   ],
   "source": [
    "X = sm.add_constant(features.drop([\"상권_구분_코드_명_골목상권\"],axis=1))\n",
    "X"
   ]
  },
  {
   "cell_type": "code",
   "execution_count": 29,
   "metadata": {},
   "outputs": [
    {
     "data": {
      "text/plain": [
       "0       1\n",
       "1       0\n",
       "2       0\n",
       "3       0\n",
       "4       0\n",
       "       ..\n",
       "1323    1\n",
       "1324    1\n",
       "1325    0\n",
       "1326    0\n",
       "1327    1\n",
       "Name: 상권_변화_지표, Length: 1328, dtype: int64"
      ]
     },
     "execution_count": 29,
     "metadata": {},
     "output_type": "execute_result"
    }
   ],
   "source": [
    "target"
   ]
  },
  {
   "cell_type": "markdown",
   "metadata": {},
   "source": [
    "### train, test set 분리"
   ]
  },
  {
   "cell_type": "code",
   "execution_count": 30,
   "metadata": {},
   "outputs": [
    {
     "name": "stdout",
     "output_type": "stream",
     "text": [
      "(929, 13)\n",
      "(399, 13)\n",
      "\n",
      "(929,)\n",
      "(399,)\n"
     ]
    }
   ],
   "source": [
    "x_train,x_test,y_train,y_test = train_test_split(X,target,test_size=0.3,random_state=1)\n",
    "print(x_train.shape)\n",
    "print(x_test.shape)\n",
    "print()\n",
    "print(y_train.shape)\n",
    "print(y_test.shape)"
   ]
  },
  {
   "cell_type": "markdown",
   "metadata": {},
   "source": [
    "### 로지스틱 회귀 모델 적합"
   ]
  },
  {
   "cell_type": "code",
   "execution_count": 31,
   "metadata": {},
   "outputs": [
    {
     "name": "stdout",
     "output_type": "stream",
     "text": [
      "Optimization terminated successfully.\n",
      "         Current function value: 0.658680\n",
      "         Iterations 6\n"
     ]
    }
   ],
   "source": [
    "logit_lm = sm.Logit(y_train,x_train)\n",
    "fitted_lm= logit_lm.fit()"
   ]
  },
  {
   "cell_type": "markdown",
   "metadata": {},
   "source": [
    "### 모델 해석"
   ]
  },
  {
   "cell_type": "code",
   "execution_count": 32,
   "metadata": {
    "scrolled": true
   },
   "outputs": [
    {
     "data": {
      "text/html": [
       "<table class=\"simpletable\">\n",
       "<caption>Logit Regression Results</caption>\n",
       "<tr>\n",
       "  <th>Dep. Variable:</th>       <td>상권_변화_지표</td>     <th>  No. Observations:  </th>  <td>   929</td>  \n",
       "</tr>\n",
       "<tr>\n",
       "  <th>Model:</th>                 <td>Logit</td>      <th>  Df Residuals:      </th>  <td>   916</td>  \n",
       "</tr>\n",
       "<tr>\n",
       "  <th>Method:</th>                 <td>MLE</td>       <th>  Df Model:          </th>  <td>    12</td>  \n",
       "</tr>\n",
       "<tr>\n",
       "  <th>Date:</th>            <td>Sun, 20 Dec 2020</td> <th>  Pseudo R-squ.:     </th>  <td>0.04421</td> \n",
       "</tr>\n",
       "<tr>\n",
       "  <th>Time:</th>                <td>12:17:00</td>     <th>  Log-Likelihood:    </th> <td> -611.91</td> \n",
       "</tr>\n",
       "<tr>\n",
       "  <th>converged:</th>             <td>True</td>       <th>  LL-Null:           </th> <td> -640.22</td> \n",
       "</tr>\n",
       "<tr>\n",
       "  <th>Covariance Type:</th>     <td>nonrobust</td>    <th>  LLR p-value:       </th> <td>9.278e-08</td>\n",
       "</tr>\n",
       "</table>\n",
       "<table class=\"simpletable\">\n",
       "<tr>\n",
       "         <td></td>            <th>coef</th>     <th>std err</th>      <th>z</th>      <th>P>|z|</th>  <th>[0.025</th>    <th>0.975]</th>  \n",
       "</tr>\n",
       "<tr>\n",
       "  <th>const</th>           <td>   -0.8018</td> <td>    0.324</td> <td>   -2.477</td> <td> 0.013</td> <td>   -1.436</td> <td>   -0.167</td>\n",
       "</tr>\n",
       "<tr>\n",
       "  <th>점포수</th>             <td>-4.945e-05</td> <td>    0.000</td> <td>   -0.190</td> <td> 0.849</td> <td>   -0.001</td> <td>    0.000</td>\n",
       "</tr>\n",
       "<tr>\n",
       "  <th>당월_매출금액/점포수</th>     <td>-8.904e-10</td> <td> 1.66e-09</td> <td>   -0.536</td> <td> 0.592</td> <td>-4.15e-09</td> <td> 2.37e-09</td>\n",
       "</tr>\n",
       "<tr>\n",
       "  <th>당월_매출건수/점포수</th>     <td>    0.0001</td> <td> 4.67e-05</td> <td>    2.941</td> <td> 0.003</td> <td> 4.59e-05</td> <td>    0.000</td>\n",
       "</tr>\n",
       "<tr>\n",
       "  <th>총_유동인구_수</th>        <td> 5.093e-07</td> <td> 2.14e-07</td> <td>    2.376</td> <td> 0.017</td> <td> 8.92e-08</td> <td> 9.29e-07</td>\n",
       "</tr>\n",
       "<tr>\n",
       "  <th>총_직장_인구_수</th>       <td> 2.313e-05</td> <td> 2.14e-05</td> <td>    1.079</td> <td> 0.281</td> <td>-1.89e-05</td> <td> 6.51e-05</td>\n",
       "</tr>\n",
       "<tr>\n",
       "  <th>총 상주인구 수</th>        <td>    0.0001</td> <td> 8.35e-05</td> <td>    1.216</td> <td> 0.224</td> <td>-6.21e-05</td> <td>    0.000</td>\n",
       "</tr>\n",
       "<tr>\n",
       "  <th>아파트_단지_수</th>        <td>    0.0012</td> <td>    0.003</td> <td>    0.438</td> <td> 0.662</td> <td>   -0.004</td> <td>    0.006</td>\n",
       "</tr>\n",
       "<tr>\n",
       "  <th>아파트_평균_면적</th>       <td>   -0.0003</td> <td>    0.006</td> <td>   -0.058</td> <td> 0.954</td> <td>   -0.012</td> <td>    0.011</td>\n",
       "</tr>\n",
       "<tr>\n",
       "  <th>아파트_평균_시가</th>       <td>  6.83e-10</td> <td> 7.16e-10</td> <td>    0.953</td> <td> 0.340</td> <td>-7.21e-10</td> <td> 2.09e-09</td>\n",
       "</tr>\n",
       "<tr>\n",
       "  <th>상권_구분_코드_명_관광특구</th> <td>   -2.9603</td> <td>    1.625</td> <td>   -1.821</td> <td> 0.069</td> <td>   -6.146</td> <td>    0.225</td>\n",
       "</tr>\n",
       "<tr>\n",
       "  <th>상권_구분_코드_명_발달상권</th> <td>   -0.2539</td> <td>    0.247</td> <td>   -1.029</td> <td> 0.304</td> <td>   -0.738</td> <td>    0.230</td>\n",
       "</tr>\n",
       "<tr>\n",
       "  <th>상권_구분_코드_명_전통시장</th> <td>   -0.6439</td> <td>    0.252</td> <td>   -2.553</td> <td> 0.011</td> <td>   -1.138</td> <td>   -0.150</td>\n",
       "</tr>\n",
       "</table>"
      ],
      "text/plain": [
       "<class 'statsmodels.iolib.summary.Summary'>\n",
       "\"\"\"\n",
       "                           Logit Regression Results                           \n",
       "==============================================================================\n",
       "Dep. Variable:               상권_변화_지표   No. Observations:                  929\n",
       "Model:                          Logit   Df Residuals:                      916\n",
       "Method:                           MLE   Df Model:                           12\n",
       "Date:                Sun, 20 Dec 2020   Pseudo R-squ.:                 0.04421\n",
       "Time:                        12:17:00   Log-Likelihood:                -611.91\n",
       "converged:                       True   LL-Null:                       -640.22\n",
       "Covariance Type:            nonrobust   LLR p-value:                 9.278e-08\n",
       "===================================================================================\n",
       "                      coef    std err          z      P>|z|      [0.025      0.975]\n",
       "-----------------------------------------------------------------------------------\n",
       "const              -0.8018      0.324     -2.477      0.013      -1.436      -0.167\n",
       "점포수             -4.945e-05      0.000     -0.190      0.849      -0.001       0.000\n",
       "당월_매출금액/점포수     -8.904e-10   1.66e-09     -0.536      0.592   -4.15e-09    2.37e-09\n",
       "당월_매출건수/점포수         0.0001   4.67e-05      2.941      0.003    4.59e-05       0.000\n",
       "총_유동인구_수         5.093e-07   2.14e-07      2.376      0.017    8.92e-08    9.29e-07\n",
       "총_직장_인구_수        2.313e-05   2.14e-05      1.079      0.281   -1.89e-05    6.51e-05\n",
       "총 상주인구 수            0.0001   8.35e-05      1.216      0.224   -6.21e-05       0.000\n",
       "아파트_단지_수            0.0012      0.003      0.438      0.662      -0.004       0.006\n",
       "아파트_평균_면적          -0.0003      0.006     -0.058      0.954      -0.012       0.011\n",
       "아파트_평균_시가         6.83e-10   7.16e-10      0.953      0.340   -7.21e-10    2.09e-09\n",
       "상권_구분_코드_명_관광특구    -2.9603      1.625     -1.821      0.069      -6.146       0.225\n",
       "상권_구분_코드_명_발달상권    -0.2539      0.247     -1.029      0.304      -0.738       0.230\n",
       "상권_구분_코드_명_전통시장    -0.6439      0.252     -2.553      0.011      -1.138      -0.150\n",
       "===================================================================================\n",
       "\"\"\""
      ]
     },
     "execution_count": 32,
     "metadata": {},
     "output_type": "execute_result"
    }
   ],
   "source": [
    "fitted_lm.summary()"
   ]
  },
  {
   "cell_type": "code",
   "execution_count": 17,
   "metadata": {
    "scrolled": true
   },
   "outputs": [
    {
     "name": "stdout",
     "output_type": "stream",
     "text": [
      "const              0.448529\n",
      "점포수                0.999951\n",
      "당월_매출금액/점포수        1.000000\n",
      "당월_매출건수/점포수        1.000137\n",
      "총_유동인구_수           1.000001\n",
      "총_직장_인구_수          1.000023\n",
      "총 상주인구 수           1.000101\n",
      "아파트_단지_수           1.001159\n",
      "아파트_평균_면적          0.999668\n",
      "아파트_평균_시가          1.000000\n",
      "상권_구분_코드_명_관광특구    0.051803\n",
      "상권_구분_코드_명_발달상권    0.775743\n",
      "상권_구분_코드_명_전통시장    0.525225\n",
      "dtype: float64\n"
     ]
    }
   ],
   "source": [
    "print(np.exp(fitted_lm.params))"
   ]
  },
  {
   "cell_type": "markdown",
   "metadata": {},
   "source": [
    "### 예측"
   ]
  },
  {
   "cell_type": "code",
   "execution_count": 18,
   "metadata": {},
   "outputs": [
    {
     "data": {
      "text/plain": [
       "452     0.557327\n",
       "705     0.546389\n",
       "989     0.587873\n",
       "115     0.296512\n",
       "1152    0.524684\n",
       "          ...   \n",
       "104     0.346879\n",
       "401     0.629257\n",
       "370     0.533460\n",
       "1091    0.542537\n",
       "422     0.544284\n",
       "Length: 399, dtype: float64"
      ]
     },
     "execution_count": 18,
     "metadata": {},
     "output_type": "execute_result"
    }
   ],
   "source": [
    "pred_lm= fitted_lm.predict(x_test)\n",
    "pred_lm"
   ]
  },
  {
   "cell_type": "markdown",
   "metadata": {},
   "source": [
    "#### cut-off 기준설정 (0.5)"
   ]
  },
  {
   "cell_type": "code",
   "execution_count": 19,
   "metadata": {},
   "outputs": [],
   "source": [
    "def cut_off(y_logit , threshold):\n",
    "    y= y_logit.copy()\n",
    "    y[y>threshold]=1\n",
    "    y[y<=threshold]=0\n",
    "    return y.astype(int)\n",
    "   "
   ]
  },
  {
   "cell_type": "code",
   "execution_count": 21,
   "metadata": {},
   "outputs": [],
   "source": [
    "pred_class = cut_off(pred_lm,0.5)"
   ]
  },
  {
   "cell_type": "markdown",
   "metadata": {},
   "source": [
    "### 성능평가"
   ]
  },
  {
   "cell_type": "code",
   "execution_count": 38,
   "metadata": {},
   "outputs": [
    {
     "name": "stdout",
     "output_type": "stream",
     "text": [
      "정확도 : 0.6215538847117794\n",
      "재현율 : 0.771551724137931\n",
      "정밀도 : 0.6462093862815884\n"
     ]
    }
   ],
   "source": [
    "accr= accuracy_score(y_test,pred_class)\n",
    "rec = recall_score(y_test,pred_class)\n",
    "prec = precision_score(y_test,pred_class)\n",
    "\n",
    "print(f\"정확도 : {accr}\")\n",
    "print(f\"재현율 : {rec}\")\n",
    "print(f\"정밀도 : {prec}\")"
   ]
  },
  {
   "cell_type": "code",
   "execution_count": 39,
   "metadata": {
    "scrolled": true
   },
   "outputs": [
    {
     "data": {
      "text/plain": [
       "array([[ 69,  98],\n",
       "       [ 53, 179]], dtype=int64)"
      ]
     },
     "execution_count": 39,
     "metadata": {},
     "output_type": "execute_result"
    }
   ],
   "source": [
    "confusion_matrix(y_test,pred_class)"
   ]
  },
  {
   "cell_type": "code",
   "execution_count": 40,
   "metadata": {},
   "outputs": [
    {
     "name": "stdout",
     "output_type": "stream",
     "text": [
      "              precision    recall  f1-score   support\n",
      "\n",
      "           0       0.57      0.41      0.48       167\n",
      "           1       0.65      0.77      0.70       232\n",
      "\n",
      "    accuracy                           0.62       399\n",
      "   macro avg       0.61      0.59      0.59       399\n",
      "weighted avg       0.61      0.62      0.61       399\n",
      "\n"
     ]
    }
   ],
   "source": [
    "print(classification_report(y_test,pred_class))"
   ]
  },
  {
   "cell_type": "code",
   "execution_count": 41,
   "metadata": {},
   "outputs": [],
   "source": [
    "from sklearn.metrics import roc_curve"
   ]
  },
  {
   "cell_type": "code",
   "execution_count": 43,
   "metadata": {},
   "outputs": [
    {
     "data": {
      "text/plain": [
       "<matplotlib.legend.Legend at 0x1856c96cd48>"
      ]
     },
     "execution_count": 43,
     "metadata": {},
     "output_type": "execute_result"
    },
    {
     "data": {
      "image/png": "[encoded data removed]",
      "text/plain": [
       "<Figure size 576x396 with 1 Axes>"
      ]
     },
     "metadata": {},
     "output_type": "display_data"
    }
   ],
   "source": [
    "fpr , tpr , threshold = roc_curve(y_test , pred_class,pos_label = 1)\n",
    "auc = np.trapz(tpr,fpr)\n",
    "plt.plot(fpr,tpr,label = \"AUC = %.2f\"%auc)\n",
    "plt.plot([0, 1], [0, 1], 'k--')\n",
    "plt.xlabel('1 - specificity', fontsize=14)\n",
    "plt.ylabel('recall', fontsize=14)\n",
    "plt.title('Receiver operating characteristic (ROC) curve')\n",
    "plt.legend(loc=\"lower right\")"
   ]
  }
 ],
 "metadata": {
  "kernelspec": {
   "display_name": "Python 3",
   "language": "python",
   "name": "python3"
  },
  "language_info": {
   "codemirror_mode": {
    "name": "ipython",
    "version": 3
   },
   "file_extension": ".py",
   "mimetype": "text/x-python",
   "name": "python",
   "nbconvert_exporter": "python",
   "pygments_lexer": "ipython3",
   "version": "3.8.5"
  }
 },
 "nbformat": 4,
 "nbformat_minor": 4
}
