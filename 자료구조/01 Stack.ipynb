{
 "cells": [
  {
   "cell_type": "markdown",
   "metadata": {},
   "source": [
    "# Stack\n",
    "\n",
    "작성자: 이종은\n"
   ]
  },
  {
   "cell_type": "code",
   "execution_count": 156,
   "metadata": {},
   "outputs": [],
   "source": [
    "class Stack: # 클래스 생성\n",
    "    def __init__(self): # 메소드 생성\n",
    "        self.items = []\n",
    "        \n",
    "    '''\n",
    "    __init__은 생성함수.\n",
    "    괄호 안의 self는 생성된 객체 자체를 가리킴.\n",
    "    \n",
    "    S = Stack()\n",
    "    과 같이 인스턴스 만들어 주면 자동으로 생성함수가 호출됨.\n",
    "    \n",
    "    생성함수를 작성하지 않으면\n",
    "    인스턴스 생성 시\n",
    "    객체는 아무런 attribute가 없게 됨.\n",
    "    \n",
    "    self.__속성이름\n",
    "    과 같이 만들면 클래스 안에서만 접근할 수 있는\n",
    "    비공개 속성이 됨.\n",
    "    \n",
    "    \n",
    "    '''\n",
    "        \n",
    "    def push(self, val):\n",
    "        self.items.append(val)\n",
    "    # push의 time complexity는 O(1)\n",
    "        \n",
    "    def pop(self):\n",
    "        try:\n",
    "            return self.items.pop()\n",
    "        except IndexError:\n",
    "            print(\"Stack is empty\")\n",
    "    # O(1)\n",
    "            \n",
    "    def top(self):\n",
    "        try:\n",
    "            return self.items[-1] # 가장 마지막에 있는 것 return. 삭제는 안 함.\n",
    "        except IndexError:\n",
    "            print(\"Stack is empty\")\n",
    "    # O(1)\n",
    "    \n",
    "    def __len__(self):\n",
    "        return len(self.items)\n",
    "    # O(1)\n",
    "    # 왜냐하면 items라는 리스트에서\n",
    "    # 원소 개수가 몇 개인지 항상 관리하고 있기 때문\n",
    "    \n",
    "    '''\n",
    "    __len__ 은 스페셜 메소드다.\n",
    "    len(S)\n",
    "    를 호출하면 파이썬은 자동으로\n",
    "    S에 있는 스페셜 메소드 __len__()을 부름.\n",
    "    즉 len(S)를 실행하면\n",
    "    S.__len()__을 실행한 것과 같음.\n",
    "    \n",
    "    '''\n",
    "    \n",
    "    def isEmpty(self):\n",
    "        return self.__len__() == 0\n",
    "    # O(1)"
   ]
  },
  {
   "cell_type": "code",
   "execution_count": 164,
   "metadata": {},
   "outputs": [
    {
     "name": "stdout",
     "output_type": "stream",
     "text": [
      "pop을 쓰면 stack에서 나오는 것은 68\n",
      "stack 맨 위에 있는 것은 13\n",
      "stack의 length는 2\n",
      "stack의 length는 2\n",
      "stack이 비었습니까? -> False\n",
      "stack의 items -> [110, 13]\n"
     ]
    }
   ],
   "source": [
    "S = Stack() # 인스턴스 생성\n",
    "S.push(110) # push 메소드 호출\n",
    "S.push(13)\n",
    "S.push(68)\n",
    "print(f\"pop을 쓰면 stack에서 나오는 것은 {S.pop()}\")\n",
    "print(f\"stack 맨 위에 있는 것은 {S.top()}\")\n",
    "print(f\"stack의 length는 {S.__len__()}\")\n",
    "print(f\"stack의 length는 {len(S)}\")\n",
    "print(f\"stack이 비었습니까? -> {S.isEmpty()}\")\n",
    "print(f\"stack의 items -> {S.items}\")"
   ]
  },
  {
   "cell_type": "markdown",
   "metadata": {},
   "source": [
    "스택을 활용할 수 있는 예시 중 하나\n",
    "\n",
    "-> 괄호 맞추기.\n",
    "\n",
    "입력: 왼쪽, 오른쪽 괄호로 이루어진 문자열\n",
    "출력: 괄호 쌍이 정상적으로 맞춰져 있으면 True, 아니면 False\n",
    "\n",
    "(()))(는 숫자 쌍이 맞아 떨어지지만 틀림.\n",
    "\n",
    "왼 괄호가 나타나면 stack에서 푸쉬(push) 되어 대기하고 있어야 함.\n",
    "\n",
    ")괄호가 나타나면 스택에 있는 왼 괄호 팝(pop)"
   ]
  }
 ],
 "metadata": {
  "kernelspec": {
   "display_name": "Python 3",
   "language": "python",
   "name": "python3"
  },
  "language_info": {
   "codemirror_mode": {
    "name": "ipython",
    "version": 3
   },
   "file_extension": ".py",
   "mimetype": "text/x-python",
   "name": "python",
   "nbconvert_exporter": "python",
   "pygments_lexer": "ipython3",
   "version": "3.8.5-final"
  }
 },
 "nbformat": 4,
 "nbformat_minor": 4
}