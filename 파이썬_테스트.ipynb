{
  "nbformat": 4,
  "nbformat_minor": 0,
  "metadata": {
    "colab": {
      "name": "파이썬 테스트.ipynb",
      "provenance": [],
      "collapsed_sections": [],
      "toc_visible": true,
      "authorship_tag": "ABX9TyNz8B1PaoGpDNs6iq7pYGTh",
      "include_colab_link": true
    },
    "kernelspec": {
      "name": "python3",
      "display_name": "Python 3"
    }
  },
  "cells": [
    {
      "cell_type": "markdown",
      "metadata": {
        "id": "view-in-github",
        "colab_type": "text"
      },
      "source": [
        "<a href=\"https://colab.research.google.com/github/Jong-eun-Lee/jong-eun-lee.github.io/blob/master/%ED%8C%8C%EC%9D%B4%EC%8D%AC_%ED%85%8C%EC%8A%A4%ED%8A%B8.ipynb\" target=\"_parent\"><img src=\"https://colab.research.google.com/assets/colab-badge.svg\" alt=\"Open In Colab\"/></a>"
      ]
    },
    {
      "cell_type": "code",
      "metadata": {
        "id": "ItgP0YfGzXj8"
      },
      "source": [
        "L = [36, 39, 40, 41, 38, 39, 35, 37, 39, 42, 34, 36]"
      ],
      "execution_count": 1,
      "outputs": []
    },
    {
      "cell_type": "code",
      "metadata": {
        "colab": {
          "base_uri": "https://localhost:8080/"
        },
        "id": "OrV2CaH_O1Jz",
        "outputId": "09dca8c3-44fc-45ec-caea-cbe77dc06e54"
      },
      "source": [
        "sum(L)"
      ],
      "execution_count": 2,
      "outputs": [
        {
          "output_type": "execute_result",
          "data": {
            "text/plain": [
              "456"
            ]
          },
          "metadata": {
            "tags": []
          },
          "execution_count": 2
        }
      ]
    },
    {
      "cell_type": "code",
      "metadata": {
        "colab": {
          "base_uri": "https://localhost:8080/"
        },
        "id": "oWMLUSGAO5Aa",
        "outputId": "8bbd5d0e-ff53-4222-a1e6-f8cd77a4b876"
      },
      "source": [
        "len(L)"
      ],
      "execution_count": 3,
      "outputs": [
        {
          "output_type": "execute_result",
          "data": {
            "text/plain": [
              "12"
            ]
          },
          "metadata": {
            "tags": []
          },
          "execution_count": 3
        }
      ]
    },
    {
      "cell_type": "code",
      "metadata": {
        "colab": {
          "base_uri": "https://localhost:8080/"
        },
        "id": "iWXErNRGO6gm",
        "outputId": "e932d047-3c5d-43d6-e915-1572630c84c9"
      },
      "source": [
        "456/12"
      ],
      "execution_count": 4,
      "outputs": [
        {
          "output_type": "execute_result",
          "data": {
            "text/plain": [
              "38.0"
            ]
          },
          "metadata": {
            "tags": []
          },
          "execution_count": 4
        }
      ]
    },
    {
      "cell_type": "code",
      "metadata": {
        "colab": {
          "base_uri": "https://localhost:8080/"
        },
        "id": "rBnbFunEO7kX",
        "outputId": "1188bdd9-2c10-4425-9729-b69383be4e83"
      },
      "source": [
        "import numpy as np\n",
        "np.var(L)*12/11"
      ],
      "execution_count": 7,
      "outputs": [
        {
          "output_type": "execute_result",
          "data": {
            "text/plain": [
              "6.0"
            ]
          },
          "metadata": {
            "tags": []
          },
          "execution_count": 7
        }
      ]
    },
    {
      "cell_type": "code",
      "metadata": {
        "colab": {
          "base_uri": "https://localhost:8080/"
        },
        "id": "45xBIo66PIQi",
        "outputId": "96ba67e0-5c2f-4d8b-bd65-4215c91ce64d"
      },
      "source": [
        "var = 0\n",
        "for i in L:\n",
        "  var += (i-38)**2\n",
        "var"
      ],
      "execution_count": 8,
      "outputs": [
        {
          "output_type": "execute_result",
          "data": {
            "text/plain": [
              "66"
            ]
          },
          "metadata": {
            "tags": []
          },
          "execution_count": 8
        }
      ]
    },
    {
      "cell_type": "code",
      "metadata": {
        "colab": {
          "base_uri": "https://localhost:8080/"
        },
        "id": "0Jh8eS9DPK0s",
        "outputId": "550c1c74-5f33-403b-9107-a7bb52b0a703"
      },
      "source": [
        "38 + 2.201*(6**0.5)/(12**0.5)"
      ],
      "execution_count": 22,
      "outputs": [
        {
          "output_type": "execute_result",
          "data": {
            "text/plain": [
              "39.556342025391594"
            ]
          },
          "metadata": {
            "tags": []
          },
          "execution_count": 22
        }
      ]
    },
    {
      "cell_type": "code",
      "metadata": {
        "colab": {
          "base_uri": "https://localhost:8080/"
        },
        "id": "sWP32DATSnB8",
        "outputId": "53e612b9-9587-4c24-c5f7-666197b0361c"
      },
      "source": [
        "155 + 2.58*8.7/(10)"
      ],
      "execution_count": 27,
      "outputs": [
        {
          "output_type": "execute_result",
          "data": {
            "text/plain": [
              "157.2446"
            ]
          },
          "metadata": {
            "tags": []
          },
          "execution_count": 27
        }
      ]
    },
    {
      "cell_type": "code",
      "metadata": {
        "id": "Q8BPyoP-RvmB"
      },
      "source": [
        "L = [53, 58.5, 56.4, 57.8, 59.4, 57.3, 63.2, 64.9,\n",
        "     60.8, 59.3, 58.8, 63.1, 55.2, 59.9, 59.1, 58.1,\n",
        "     65.4, 56.8, 60.4, 57.4, 65.2, 63.2, 55.3, 59.4,\n",
        "     56.0, 61.7, 55.2, 61.3, 61.5, 56.8, 55.6, 57.6]"
      ],
      "execution_count": 28,
      "outputs": []
    },
    {
      "cell_type": "code",
      "metadata": {
        "colab": {
          "base_uri": "https://localhost:8080/"
        },
        "id": "bE8pI20kXGqq",
        "outputId": "9f57a15c-5064-435a-b9f3-beb709924a06"
      },
      "source": [
        "sum(L)"
      ],
      "execution_count": 29,
      "outputs": [
        {
          "output_type": "execute_result",
          "data": {
            "text/plain": [
              "1893.6000000000001"
            ]
          },
          "metadata": {
            "tags": []
          },
          "execution_count": 29
        }
      ]
    },
    {
      "cell_type": "code",
      "metadata": {
        "colab": {
          "base_uri": "https://localhost:8080/"
        },
        "id": "X2QL3QsaXIjy",
        "outputId": "be607b72-729b-4d14-c80f-70d09a58c46c"
      },
      "source": [
        "len(L)"
      ],
      "execution_count": 30,
      "outputs": [
        {
          "output_type": "execute_result",
          "data": {
            "text/plain": [
              "32"
            ]
          },
          "metadata": {
            "tags": []
          },
          "execution_count": 30
        }
      ]
    },
    {
      "cell_type": "code",
      "metadata": {
        "colab": {
          "base_uri": "https://localhost:8080/"
        },
        "id": "GBb3TvbQXJUx",
        "outputId": "a6c68fcc-18d2-4781-e963-6125f0c5302e"
      },
      "source": [
        "1893.6/32"
      ],
      "execution_count": 31,
      "outputs": [
        {
          "output_type": "execute_result",
          "data": {
            "text/plain": [
              "59.175"
            ]
          },
          "metadata": {
            "tags": []
          },
          "execution_count": 31
        }
      ]
    },
    {
      "cell_type": "code",
      "metadata": {
        "colab": {
          "base_uri": "https://localhost:8080/"
        },
        "id": "uWZq4riyXUNH",
        "outputId": "ba48dcc9-6dc8-4118-9b68-8330b39fb5c1"
      },
      "source": [
        "var = 0\n",
        "for i in L:\n",
        "  var += (i-sum(L)/len(L))**2\n",
        "var/31"
      ],
      "execution_count": 54,
      "outputs": [
        {
          "output_type": "execute_result",
          "data": {
            "text/plain": [
              "10.196774193548396"
            ]
          },
          "metadata": {
            "tags": []
          },
          "execution_count": 54
        }
      ]
    },
    {
      "cell_type": "code",
      "metadata": {
        "colab": {
          "base_uri": "https://localhost:8080/"
        },
        "id": "AWL21N--Xbim",
        "outputId": "52f35238-fce5-4d44-9b59-d5a94e1fa6f8"
      },
      "source": [
        "316.1/31"
      ],
      "execution_count": 51,
      "outputs": [
        {
          "output_type": "execute_result",
          "data": {
            "text/plain": [
              "10.196774193548388"
            ]
          },
          "metadata": {
            "tags": []
          },
          "execution_count": 51
        }
      ]
    },
    {
      "cell_type": "code",
      "metadata": {
        "colab": {
          "base_uri": "https://localhost:8080/"
        },
        "id": "bUWDh538XK-Y",
        "outputId": "94191a9c-4f30-467c-e6c8-9a00cb7f382f"
      },
      "source": [
        "59.175 + 1.96*((10.196774193548396)**0.5)/(32**0.5)"
      ],
      "execution_count": 56,
      "outputs": [
        {
          "output_type": "execute_result",
          "data": {
            "text/plain": [
              "60.28140080528508"
            ]
          },
          "metadata": {
            "tags": []
          },
          "execution_count": 56
        }
      ]
    },
    {
      "cell_type": "code",
      "metadata": {
        "id": "04JhMeXKaq4L"
      },
      "source": [
        "L = [18, 16, 11, 17, 11, 14, 15, 19, 12, 16,\n",
        "     12, 18, 19, 11, 18, 13, 17, 20, 15, 19,\n",
        "     20, 12, 18, 16, 18, 16, 12, 15, 18, 15]"
      ],
      "execution_count": 57,
      "outputs": []
    },
    {
      "cell_type": "code",
      "metadata": {
        "colab": {
          "base_uri": "https://localhost:8080/"
        },
        "id": "ZfXFMi-da_2A",
        "outputId": "61b4beba-8ecd-420d-8277-f79731c6a93d"
      },
      "source": [
        "sum(L)"
      ],
      "execution_count": 58,
      "outputs": [
        {
          "output_type": "execute_result",
          "data": {
            "text/plain": [
              "471"
            ]
          },
          "metadata": {
            "tags": []
          },
          "execution_count": 58
        }
      ]
    },
    {
      "cell_type": "code",
      "metadata": {
        "colab": {
          "base_uri": "https://localhost:8080/"
        },
        "id": "djhQL2flbBm8",
        "outputId": "3ac34c36-abdc-49b6-e7f7-633bb5199b22"
      },
      "source": [
        "len(L)"
      ],
      "execution_count": 59,
      "outputs": [
        {
          "output_type": "execute_result",
          "data": {
            "text/plain": [
              "30"
            ]
          },
          "metadata": {
            "tags": []
          },
          "execution_count": 59
        }
      ]
    },
    {
      "cell_type": "code",
      "metadata": {
        "colab": {
          "base_uri": "https://localhost:8080/"
        },
        "id": "-gG4ZhZkbCfO",
        "outputId": "f455fe68-e67b-4ab5-a196-791d08aaa46a"
      },
      "source": [
        "471/30"
      ],
      "execution_count": 60,
      "outputs": [
        {
          "output_type": "execute_result",
          "data": {
            "text/plain": [
              "15.7"
            ]
          },
          "metadata": {
            "tags": []
          },
          "execution_count": 60
        }
      ]
    },
    {
      "cell_type": "code",
      "metadata": {
        "colab": {
          "base_uri": "https://localhost:8080/"
        },
        "id": "YHXxeHdIbDX4",
        "outputId": "044b6e20-146b-41e0-b71d-01573bfb6245"
      },
      "source": [
        "var = 0\n",
        "for i in L:\n",
        "  var += (i-sum(L)/len(L))**2\n",
        "var"
      ],
      "execution_count": 62,
      "outputs": [
        {
          "output_type": "execute_result",
          "data": {
            "text/plain": [
              "238.3"
            ]
          },
          "metadata": {
            "tags": []
          },
          "execution_count": 62
        }
      ]
    },
    {
      "cell_type": "code",
      "metadata": {
        "colab": {
          "base_uri": "https://localhost:8080/"
        },
        "id": "-kHpqv9UbGEt",
        "outputId": "72201ae7-cf15-4a68-a565-69531ba07a4e"
      },
      "source": [
        "var/29"
      ],
      "execution_count": 63,
      "outputs": [
        {
          "output_type": "execute_result",
          "data": {
            "text/plain": [
              "8.217241379310344"
            ]
          },
          "metadata": {
            "tags": []
          },
          "execution_count": 63
        }
      ]
    },
    {
      "cell_type": "code",
      "metadata": {
        "colab": {
          "base_uri": "https://localhost:8080/"
        },
        "id": "taZyBb0kbHnu",
        "outputId": "6d54ed22-db04-47b2-f59a-2ca75f103bc1"
      },
      "source": [
        "15.7 + 1.96*((8.217)**0.5)/(30**0.5)"
      ],
      "execution_count": 70,
      "outputs": [
        {
          "output_type": "execute_result",
          "data": {
            "text/plain": [
              "16.725774946077355"
            ]
          },
          "metadata": {
            "tags": []
          },
          "execution_count": 70
        }
      ]
    },
    {
      "cell_type": "code",
      "metadata": {
        "colab": {
          "base_uri": "https://localhost:8080/"
        },
        "id": "haRkuaASb3Bd",
        "outputId": "b01e23a3-0314-47d0-a6d4-7c60b6a91a9a"
      },
      "source": [
        "n = 1000\n",
        "p = 288/1000\n",
        "p"
      ],
      "execution_count": 71,
      "outputs": [
        {
          "output_type": "execute_result",
          "data": {
            "text/plain": [
              "0.288"
            ]
          },
          "metadata": {
            "tags": []
          },
          "execution_count": 71
        }
      ]
    },
    {
      "cell_type": "code",
      "metadata": {
        "colab": {
          "base_uri": "https://localhost:8080/"
        },
        "id": "ybagoOqbcdy1",
        "outputId": "d9a1717b-6abe-450a-f43f-89f65967796f"
      },
      "source": [
        "1-p"
      ],
      "execution_count": 72,
      "outputs": [
        {
          "output_type": "execute_result",
          "data": {
            "text/plain": [
              "0.712"
            ]
          },
          "metadata": {
            "tags": []
          },
          "execution_count": 72
        }
      ]
    },
    {
      "cell_type": "code",
      "metadata": {
        "colab": {
          "base_uri": "https://localhost:8080/"
        },
        "id": "z1-_8Mk4cefs",
        "outputId": "47823adf-3b0e-48c5-8b67-557d787345cc"
      },
      "source": [
        "0.288 + 2.58*((0.288)*(0.712)/1000)**0.5"
      ],
      "execution_count": 76,
      "outputs": [
        {
          "output_type": "execute_result",
          "data": {
            "text/plain": [
              "0.32494502345918863"
            ]
          },
          "metadata": {
            "tags": []
          },
          "execution_count": 76
        }
      ]
    },
    {
      "cell_type": "code",
      "metadata": {
        "colab": {
          "base_uri": "https://localhost:8080/"
        },
        "id": "dHKDjPQPfRAA",
        "outputId": "44baf0a8-4a9e-4868-8457-c586ca9aa936"
      },
      "source": [
        "(1.96 * 5 / 0.4)**2"
      ],
      "execution_count": 85,
      "outputs": [
        {
          "output_type": "execute_result",
          "data": {
            "text/plain": [
              "600.25"
            ]
          },
          "metadata": {
            "tags": []
          },
          "execution_count": 85
        }
      ]
    },
    {
      "cell_type": "code",
      "metadata": {
        "colab": {
          "base_uri": "https://localhost:8080/"
        },
        "id": "iTs_Vk1pgFsP",
        "outputId": "ee24f28e-b793-433e-f96c-ad3190301d4a"
      },
      "source": [
        "(2*1.96*5/0.4 )**2"
      ],
      "execution_count": 88,
      "outputs": [
        {
          "output_type": "execute_result",
          "data": {
            "text/plain": [
              "2401.0"
            ]
          },
          "metadata": {
            "tags": []
          },
          "execution_count": 88
        }
      ]
    },
    {
      "cell_type": "code",
      "metadata": {
        "id": "a8xMNMBhkwan"
      },
      "source": [
        ""
      ],
      "execution_count": null,
      "outputs": []
    },
    {
      "cell_type": "code",
      "metadata": {
        "colab": {
          "base_uri": "https://localhost:8080/"
        },
        "id": "A6RB48kwkiXH",
        "outputId": "6413df9f-acd5-408f-c1c1-459a29b96849"
      },
      "source": [
        "5+1.96*((25/30+9/36)**0.5)"
      ],
      "execution_count": 91,
      "outputs": [
        {
          "output_type": "execute_result",
          "data": {
            "text/plain": [
              "7.040032679476811"
            ]
          },
          "metadata": {
            "tags": []
          },
          "execution_count": 91
        }
      ]
    },
    {
      "cell_type": "code",
      "metadata": {
        "colab": {
          "base_uri": "https://localhost:8080/"
        },
        "id": "Atfq-n_amYoE",
        "outputId": "70315119-4562-49ae-f5e6-6d5b21b866e2"
      },
      "source": [
        "(11*5000*5000 + 11*6100*6100)/(12+12-2)\n"
      ],
      "execution_count": 93,
      "outputs": [
        {
          "output_type": "execute_result",
          "data": {
            "text/plain": [
              "31105000.0"
            ]
          },
          "metadata": {
            "tags": []
          },
          "execution_count": 93
        }
      ]
    },
    {
      "cell_type": "code",
      "metadata": {
        "colab": {
          "base_uri": "https://localhost:8080/"
        },
        "id": "nFJyhPo5km4I",
        "outputId": "f37af230-d781-4be6-fa71-0709d6b41816"
      },
      "source": [
        "(36300-38100) - 2.074*(31105000**0.5)*((1/6)**0.5)"
      ],
      "execution_count": 96,
      "outputs": [
        {
          "output_type": "execute_result",
          "data": {
            "text/plain": [
              "-6522.241893070141"
            ]
          },
          "metadata": {
            "tags": []
          },
          "execution_count": 96
        }
      ]
    },
    {
      "cell_type": "code",
      "metadata": {
        "colab": {
          "base_uri": "https://localhost:8080/"
        },
        "id": "HGUhxwyRpYmI",
        "outputId": "22f147ca-f65e-4af3-dbb3-d2b2a6115e03"
      },
      "source": [
        "90.4-91.7"
      ],
      "execution_count": 97,
      "outputs": [
        {
          "output_type": "execute_result",
          "data": {
            "text/plain": [
              "-1.2999999999999972"
            ]
          },
          "metadata": {
            "tags": []
          },
          "execution_count": 97
        }
      ]
    },
    {
      "cell_type": "code",
      "metadata": {
        "colab": {
          "base_uri": "https://localhost:8080/"
        },
        "id": "jWpQpkFepa78",
        "outputId": "8553ee5b-8a29-4631-b52b-37cd37c09dc5"
      },
      "source": [
        "-1.3+ 1.8+ 1.3+ 3.1+ 2.7+ 1.6"
      ],
      "execution_count": 98,
      "outputs": [
        {
          "output_type": "execute_result",
          "data": {
            "text/plain": [
              "9.200000000000001"
            ]
          },
          "metadata": {
            "tags": []
          },
          "execution_count": 98
        }
      ]
    },
    {
      "cell_type": "code",
      "metadata": {
        "colab": {
          "base_uri": "https://localhost:8080/"
        },
        "id": "YAiF3rj2pxyu",
        "outputId": "f669672d-371c-4a22-ae7d-fd937109f5dd"
      },
      "source": [
        "9.2/6"
      ],
      "execution_count": 99,
      "outputs": [
        {
          "output_type": "execute_result",
          "data": {
            "text/plain": [
              "1.5333333333333332"
            ]
          },
          "metadata": {
            "tags": []
          },
          "execution_count": 99
        }
      ]
    },
    {
      "cell_type": "code",
      "metadata": {
        "id": "EaMKEx46p15b"
      },
      "source": [
        "L = [-1.3, 1.8, 1.3, 3.1, 2.7, 1.6]"
      ],
      "execution_count": 100,
      "outputs": []
    },
    {
      "cell_type": "code",
      "metadata": {
        "colab": {
          "base_uri": "https://localhost:8080/"
        },
        "id": "6jzvHUR_qMrb",
        "outputId": "06e1037d-328e-4f5a-f89f-206b14aa47a5"
      },
      "source": [
        "var = 0\n",
        "for i in L:\n",
        "  var += (i-1.533)**2\n",
        "var/5"
      ],
      "execution_count": 103,
      "outputs": [
        {
          "output_type": "execute_result",
          "data": {
            "text/plain": [
              "2.3946668000000004"
            ]
          },
          "metadata": {
            "tags": []
          },
          "execution_count": 103
        }
      ]
    },
    {
      "cell_type": "code",
      "metadata": {
        "colab": {
          "base_uri": "https://localhost:8080/"
        },
        "id": "9l8rPtzTqRTx",
        "outputId": "15ebef09-5a13-4c89-9c95-8524c2493955"
      },
      "source": [
        "1.533 - 2.571*(2.395**0.5)/(6**0.5)"
      ],
      "execution_count": 111,
      "outputs": [
        {
          "output_type": "execute_result",
          "data": {
            "text/plain": [
              "-0.09134849478183127"
            ]
          },
          "metadata": {
            "tags": []
          },
          "execution_count": 111
        }
      ]
    }
  ]
}